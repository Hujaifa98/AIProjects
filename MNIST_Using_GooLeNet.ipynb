{
  "nbformat": 4,
  "nbformat_minor": 0,
  "metadata": {
    "colab": {
      "name": "MNIST Using GooLeNet.ipynb",
      "provenance": [],
      "collapsed_sections": [],
      "authorship_tag": "ABX9TyO2U3h3eoVz5Bp9msVdk1p/",
      "include_colab_link": true
    },
    "kernelspec": {
      "name": "python3",
      "display_name": "Python 3"
    }
  },
  "cells": [
    {
      "cell_type": "markdown",
      "metadata": {
        "id": "view-in-github",
        "colab_type": "text"
      },
      "source": [
        "<a href=\"https://colab.research.google.com/github/Hujaifa98/AIProjects/blob/main/MNIST_Using_GooLeNet.ipynb\" target=\"_parent\"><img src=\"https://colab.research.google.com/assets/colab-badge.svg\" alt=\"Open In Colab\"/></a>"
      ]
    },
    {
      "cell_type": "code",
      "metadata": {
        "id": "AmNWMYhaBGHF"
      },
      "source": [
        "import tensorflow as tf\n",
        "from tensorflow import keras\n",
        "import numpy as np\n",
        "import pandas as pd\n",
        "from tensorflow.keras import datasets, layers, models, losses, Model\n",
        "from tensorflow.keras.layers import Input, Dense, Dropout\n",
        "from tensorflow.keras.models import Model\n",
        "from tensorflow.keras.optimizers import SGD, Adam\n",
        "import matplotlib.pyplot as plt"
      ],
      "execution_count": null,
      "outputs": []
    },
    {
      "cell_type": "code",
      "metadata": {
        "id": "m5V6WKeaxtoA"
      },
      "source": [
        "(x_train,y_train),(x_test,y_test) = datasets.mnist.load_data()"
      ],
      "execution_count": null,
      "outputs": []
    },
    {
      "cell_type": "code",
      "metadata": {
        "id": "WdybfQqQyagQ"
      },
      "source": [
        "x_train = tf.pad(x_train, [[0, 0], [2,2], [2,2]])/255\n",
        "x_test = tf.pad(x_test, [[0, 0], [2,2], [2,2]])/255\n",
        "x_train = tf.expand_dims(x_train, axis=3, name=None)\n",
        "x_test = tf.expand_dims(x_test, axis=3, name=None)\n",
        "x_train = tf.repeat(x_train, 3, axis=3)\n",
        "x_test = tf.repeat(x_test, 3, axis=3)\n",
        "x_val = x_train[-2000:,:,:,:]\n",
        "y_val = y_train[-2000:]\n",
        "x_train = x_train[:-2000,:,:,:]\n",
        "y_train = y_train[:-2000]"
      ],
      "execution_count": null,
      "outputs": []
    },
    {
      "cell_type": "code",
      "metadata": {
        "colab": {
          "base_uri": "https://localhost:8080/"
        },
        "id": "rRToNzM9yfG3",
        "outputId": "7aaff45d-d77f-48ad-bf62-04ca79454e69"
      },
      "source": [
        "x_train.shape"
      ],
      "execution_count": null,
      "outputs": [
        {
          "output_type": "execute_result",
          "data": {
            "text/plain": [
              "TensorShape([58000, 32, 32, 3])"
            ]
          },
          "metadata": {},
          "execution_count": 28
        }
      ]
    },
    {
      "cell_type": "code",
      "metadata": {
        "id": "6tOP0HcUz3zL"
      },
      "source": [
        "def inception(x,filter_1x1,filter_3x3_reduce,filter_3x3,filter_5x5_reduce,filter_5x5,filter_pool):\n",
        "  path1 = keras.layers.Conv2D(filter_1x1,(1,1),padding='same',activation='relu')(x)\n",
        "\n",
        "  path2 = keras.layers.Conv2D(filter_3x3_reduce,(1,1),padding='same',activation='relu')(x)\n",
        "  path2 = keras.layers.Conv2D(filter_3x3,(3,3),padding='same',activation='relu')(path2)\n",
        "\n",
        "  path3 = keras.layers.Conv2D(filter_5x5_reduce,(1,1),padding='same',activation='relu')(x)\n",
        "  path3 = keras.layers.Conv2D(filter_5x5,(5,5),padding='same',activation='relu')(path3)\n",
        "\n",
        "  path4 = keras.layers.MaxPool2D((3,3),(1,1),padding='same')(x)\n",
        "  path4 = keras.layers.Conv2D(filter_pool,(1,1),padding='same',activation='relu')(path4)\n",
        "\n",
        "  return tf.concat([path1,path2,path3,path4] , axis=3)"
      ],
      "execution_count": null,
      "outputs": []
    },
    {
      "cell_type": "code",
      "metadata": {
        "id": "ni-jJVvH0ZAQ"
      },
      "source": [
        "inp = layers.Input(shape=(32, 32, 3))\n",
        "input_tensor = layers.experimental.preprocessing.Resizing(224, 224, interpolation=\"bilinear\", input_shape=x_train.shape[1:])(inp)\n",
        "x = layers.Conv2D(64, 7, strides=2, padding='same', activation='relu')(input_tensor)\n",
        "x = layers.MaxPooling2D(3, strides=2)(x)\n",
        "x = layers.Conv2D(64, 1, strides=1, padding='same', activation='relu')(x)\n",
        "x = layers.Conv2D(192, 3, strides=1, padding='same', activation='relu')(x)\n",
        "x = layers.MaxPooling2D(3, strides=2)(x)\n",
        "x = inception(x, 64, 96, 128, 16, 32, 32)\n",
        "x = inception(x, 128, 128, 192, 32, 96, 64)\n",
        "x = layers.MaxPooling2D(3, strides=2)(x)\n",
        "x = inception(x, 192, 96, 208, 16, 48, 64)\n",
        "aux1 = layers.AveragePooling2D((5, 5), strides=3)(x)\n",
        "aux1 =layers.Conv2D(128, 1, padding='same', activation='relu')(aux1)\n",
        "aux1 = layers.Flatten()(aux1)\n",
        "aux1 = layers.Dense(1024, activation='relu')(aux1)\n",
        "aux1 = layers.Dropout(0.7)(aux1)\n",
        "aux1 = layers.Dense(10, activation='softmax')(aux1)\n",
        "x = inception(x, 160, 112, 224, 24, 64, 64)\n",
        "x = inception(x, 128, 128, 256, 24, 64, 64)\n",
        "x = inception(x, 112, 144, 288, 32, 64, 64)\n",
        "aux2 = layers.AveragePooling2D((5, 5), strides=3)(x)\n",
        "aux2 =layers.Conv2D(128, 1, padding='same', activation='relu')(aux2)\n",
        "aux2 = layers.Flatten()(aux2)\n",
        "aux2 = layers.Dense(1024, activation='relu')(aux2)\n",
        "aux2 = layers.Dropout(0.7)(aux2) \n",
        "aux2 = layers.Dense(10, activation='softmax')(aux2)\n",
        "x = inception(x, 256, 160, 320, 32, 128, 128)\n",
        "x = layers.MaxPooling2D(3, strides=2)(x)\n",
        "x = inception(x, 256, 160, 320, 32, 128, 128)\n",
        "x = inception(x, 384, 192, 384, 48, 128, 128)\n",
        "x = layers.GlobalAveragePooling2D()(x)\n",
        "x = layers.Dropout(0.4)(x)\n",
        "out = layers.Dense(10, activation='softmax')(x)"
      ],
      "execution_count": null,
      "outputs": []
    },
    {
      "cell_type": "code",
      "metadata": {
        "id": "kvww1_sA5UpE"
      },
      "source": [
        "model = Model(inputs = inp, outputs = [out, aux1, aux2])"
      ],
      "execution_count": null,
      "outputs": []
    },
    {
      "cell_type": "code",
      "metadata": {
        "colab": {
          "base_uri": "https://localhost:8080/"
        },
        "id": "pwNIUol56O3E",
        "outputId": "9a71d96f-724a-44af-ec7b-31fea9e3a5f1"
      },
      "source": [
        "model.summary()"
      ],
      "execution_count": null,
      "outputs": [
        {
          "output_type": "stream",
          "name": "stdout",
          "text": [
            "Model: \"model\"\n",
            "__________________________________________________________________________________________________\n",
            " Layer (type)                   Output Shape         Param #     Connected to                     \n",
            "==================================================================================================\n",
            " input_5 (InputLayer)           [(None, 32, 32, 3)]  0           []                               \n",
            "                                                                                                  \n",
            " resizing_4 (Resizing)          (None, 224, 224, 3)  0           ['input_5[0][0]']                \n",
            "                                                                                                  \n",
            " conv2d_50 (Conv2D)             (None, 112, 112, 64  9472        ['resizing_4[0][0]']             \n",
            "                                )                                                                 \n",
            "                                                                                                  \n",
            " max_pooling2d_15 (MaxPooling2D  (None, 55, 55, 64)  0           ['conv2d_50[0][0]']              \n",
            " )                                                                                                \n",
            "                                                                                                  \n",
            " conv2d_51 (Conv2D)             (None, 55, 55, 64)   4160        ['max_pooling2d_15[0][0]']       \n",
            "                                                                                                  \n",
            " conv2d_52 (Conv2D)             (None, 55, 55, 192)  110784      ['conv2d_51[0][0]']              \n",
            "                                                                                                  \n",
            " max_pooling2d_16 (MaxPooling2D  (None, 27, 27, 192)  0          ['conv2d_52[0][0]']              \n",
            " )                                                                                                \n",
            "                                                                                                  \n",
            " conv2d_54 (Conv2D)             (None, 27, 27, 96)   18528       ['max_pooling2d_16[0][0]']       \n",
            "                                                                                                  \n",
            " conv2d_56 (Conv2D)             (None, 27, 27, 16)   3088        ['max_pooling2d_16[0][0]']       \n",
            "                                                                                                  \n",
            " max_pooling2d_17 (MaxPooling2D  (None, 27, 27, 192)  0          ['max_pooling2d_16[0][0]']       \n",
            " )                                                                                                \n",
            "                                                                                                  \n",
            " conv2d_53 (Conv2D)             (None, 27, 27, 64)   12352       ['max_pooling2d_16[0][0]']       \n",
            "                                                                                                  \n",
            " conv2d_55 (Conv2D)             (None, 27, 27, 128)  110720      ['conv2d_54[0][0]']              \n",
            "                                                                                                  \n",
            " conv2d_57 (Conv2D)             (None, 27, 27, 32)   12832       ['conv2d_56[0][0]']              \n",
            "                                                                                                  \n",
            " conv2d_58 (Conv2D)             (None, 27, 27, 32)   6176        ['max_pooling2d_17[0][0]']       \n",
            "                                                                                                  \n",
            " tf.concat_6 (TFOpLambda)       (None, 27, 27, 256)  0           ['conv2d_53[0][0]',              \n",
            "                                                                  'conv2d_55[0][0]',              \n",
            "                                                                  'conv2d_57[0][0]',              \n",
            "                                                                  'conv2d_58[0][0]']              \n",
            "                                                                                                  \n",
            " conv2d_60 (Conv2D)             (None, 27, 27, 128)  32896       ['tf.concat_6[0][0]']            \n",
            "                                                                                                  \n",
            " conv2d_62 (Conv2D)             (None, 27, 27, 32)   8224        ['tf.concat_6[0][0]']            \n",
            "                                                                                                  \n",
            " max_pooling2d_18 (MaxPooling2D  (None, 27, 27, 256)  0          ['tf.concat_6[0][0]']            \n",
            " )                                                                                                \n",
            "                                                                                                  \n",
            " conv2d_59 (Conv2D)             (None, 27, 27, 128)  32896       ['tf.concat_6[0][0]']            \n",
            "                                                                                                  \n",
            " conv2d_61 (Conv2D)             (None, 27, 27, 192)  221376      ['conv2d_60[0][0]']              \n",
            "                                                                                                  \n",
            " conv2d_63 (Conv2D)             (None, 27, 27, 96)   76896       ['conv2d_62[0][0]']              \n",
            "                                                                                                  \n",
            " conv2d_64 (Conv2D)             (None, 27, 27, 64)   16448       ['max_pooling2d_18[0][0]']       \n",
            "                                                                                                  \n",
            " tf.concat_7 (TFOpLambda)       (None, 27, 27, 480)  0           ['conv2d_59[0][0]',              \n",
            "                                                                  'conv2d_61[0][0]',              \n",
            "                                                                  'conv2d_63[0][0]',              \n",
            "                                                                  'conv2d_64[0][0]']              \n",
            "                                                                                                  \n",
            " max_pooling2d_19 (MaxPooling2D  (None, 13, 13, 480)  0          ['tf.concat_7[0][0]']            \n",
            " )                                                                                                \n",
            "                                                                                                  \n",
            " conv2d_66 (Conv2D)             (None, 13, 13, 96)   46176       ['max_pooling2d_19[0][0]']       \n",
            "                                                                                                  \n",
            " conv2d_68 (Conv2D)             (None, 13, 13, 16)   7696        ['max_pooling2d_19[0][0]']       \n",
            "                                                                                                  \n",
            " max_pooling2d_20 (MaxPooling2D  (None, 13, 13, 480)  0          ['max_pooling2d_19[0][0]']       \n",
            " )                                                                                                \n",
            "                                                                                                  \n",
            " conv2d_65 (Conv2D)             (None, 13, 13, 192)  92352       ['max_pooling2d_19[0][0]']       \n",
            "                                                                                                  \n",
            " conv2d_67 (Conv2D)             (None, 13, 13, 208)  179920      ['conv2d_66[0][0]']              \n",
            "                                                                                                  \n",
            " conv2d_69 (Conv2D)             (None, 13, 13, 48)   19248       ['conv2d_68[0][0]']              \n",
            "                                                                                                  \n",
            " conv2d_70 (Conv2D)             (None, 13, 13, 64)   30784       ['max_pooling2d_20[0][0]']       \n",
            "                                                                                                  \n",
            " tf.concat_8 (TFOpLambda)       (None, 13, 13, 512)  0           ['conv2d_65[0][0]',              \n",
            "                                                                  'conv2d_67[0][0]',              \n",
            "                                                                  'conv2d_69[0][0]',              \n",
            "                                                                  'conv2d_70[0][0]']              \n",
            "                                                                                                  \n",
            " conv2d_73 (Conv2D)             (None, 13, 13, 112)  57456       ['tf.concat_8[0][0]']            \n",
            "                                                                                                  \n",
            " conv2d_75 (Conv2D)             (None, 13, 13, 24)   12312       ['tf.concat_8[0][0]']            \n",
            "                                                                                                  \n",
            " max_pooling2d_21 (MaxPooling2D  (None, 13, 13, 512)  0          ['tf.concat_8[0][0]']            \n",
            " )                                                                                                \n",
            "                                                                                                  \n",
            " conv2d_72 (Conv2D)             (None, 13, 13, 160)  82080       ['tf.concat_8[0][0]']            \n",
            "                                                                                                  \n",
            " conv2d_74 (Conv2D)             (None, 13, 13, 224)  226016      ['conv2d_73[0][0]']              \n",
            "                                                                                                  \n",
            " conv2d_76 (Conv2D)             (None, 13, 13, 64)   38464       ['conv2d_75[0][0]']              \n",
            "                                                                                                  \n",
            " conv2d_77 (Conv2D)             (None, 13, 13, 64)   32832       ['max_pooling2d_21[0][0]']       \n",
            "                                                                                                  \n",
            " tf.concat_9 (TFOpLambda)       (None, 13, 13, 512)  0           ['conv2d_72[0][0]',              \n",
            "                                                                  'conv2d_74[0][0]',              \n",
            "                                                                  'conv2d_76[0][0]',              \n",
            "                                                                  'conv2d_77[0][0]']              \n",
            "                                                                                                  \n",
            " conv2d_79 (Conv2D)             (None, 13, 13, 128)  65664       ['tf.concat_9[0][0]']            \n",
            "                                                                                                  \n",
            " conv2d_81 (Conv2D)             (None, 13, 13, 24)   12312       ['tf.concat_9[0][0]']            \n",
            "                                                                                                  \n",
            " max_pooling2d_22 (MaxPooling2D  (None, 13, 13, 512)  0          ['tf.concat_9[0][0]']            \n",
            " )                                                                                                \n",
            "                                                                                                  \n",
            " conv2d_78 (Conv2D)             (None, 13, 13, 128)  65664       ['tf.concat_9[0][0]']            \n",
            "                                                                                                  \n",
            " conv2d_80 (Conv2D)             (None, 13, 13, 256)  295168      ['conv2d_79[0][0]']              \n",
            "                                                                                                  \n",
            " conv2d_82 (Conv2D)             (None, 13, 13, 64)   38464       ['conv2d_81[0][0]']              \n",
            "                                                                                                  \n",
            " conv2d_83 (Conv2D)             (None, 13, 13, 64)   32832       ['max_pooling2d_22[0][0]']       \n",
            "                                                                                                  \n",
            " tf.concat_10 (TFOpLambda)      (None, 13, 13, 512)  0           ['conv2d_78[0][0]',              \n",
            "                                                                  'conv2d_80[0][0]',              \n",
            "                                                                  'conv2d_82[0][0]',              \n",
            "                                                                  'conv2d_83[0][0]']              \n",
            "                                                                                                  \n",
            " conv2d_85 (Conv2D)             (None, 13, 13, 144)  73872       ['tf.concat_10[0][0]']           \n",
            "                                                                                                  \n",
            " conv2d_87 (Conv2D)             (None, 13, 13, 32)   16416       ['tf.concat_10[0][0]']           \n",
            "                                                                                                  \n",
            " max_pooling2d_23 (MaxPooling2D  (None, 13, 13, 512)  0          ['tf.concat_10[0][0]']           \n",
            " )                                                                                                \n",
            "                                                                                                  \n",
            " conv2d_84 (Conv2D)             (None, 13, 13, 112)  57456       ['tf.concat_10[0][0]']           \n",
            "                                                                                                  \n",
            " conv2d_86 (Conv2D)             (None, 13, 13, 288)  373536      ['conv2d_85[0][0]']              \n",
            "                                                                                                  \n",
            " conv2d_88 (Conv2D)             (None, 13, 13, 64)   51264       ['conv2d_87[0][0]']              \n",
            "                                                                                                  \n",
            " conv2d_89 (Conv2D)             (None, 13, 13, 64)   32832       ['max_pooling2d_23[0][0]']       \n",
            "                                                                                                  \n",
            " tf.concat_11 (TFOpLambda)      (None, 13, 13, 528)  0           ['conv2d_84[0][0]',              \n",
            "                                                                  'conv2d_86[0][0]',              \n",
            "                                                                  'conv2d_88[0][0]',              \n",
            "                                                                  'conv2d_89[0][0]']              \n",
            "                                                                                                  \n",
            " conv2d_92 (Conv2D)             (None, 13, 13, 160)  84640       ['tf.concat_11[0][0]']           \n",
            "                                                                                                  \n",
            " conv2d_94 (Conv2D)             (None, 13, 13, 32)   16928       ['tf.concat_11[0][0]']           \n",
            "                                                                                                  \n",
            " max_pooling2d_24 (MaxPooling2D  (None, 13, 13, 528)  0          ['tf.concat_11[0][0]']           \n",
            " )                                                                                                \n",
            "                                                                                                  \n",
            " conv2d_91 (Conv2D)             (None, 13, 13, 256)  135424      ['tf.concat_11[0][0]']           \n",
            "                                                                                                  \n",
            " conv2d_93 (Conv2D)             (None, 13, 13, 320)  461120      ['conv2d_92[0][0]']              \n",
            "                                                                                                  \n",
            " conv2d_95 (Conv2D)             (None, 13, 13, 128)  102528      ['conv2d_94[0][0]']              \n",
            "                                                                                                  \n",
            " conv2d_96 (Conv2D)             (None, 13, 13, 128)  67712       ['max_pooling2d_24[0][0]']       \n",
            "                                                                                                  \n",
            " tf.concat_12 (TFOpLambda)      (None, 13, 13, 832)  0           ['conv2d_91[0][0]',              \n",
            "                                                                  'conv2d_93[0][0]',              \n",
            "                                                                  'conv2d_95[0][0]',              \n",
            "                                                                  'conv2d_96[0][0]']              \n",
            "                                                                                                  \n",
            " max_pooling2d_25 (MaxPooling2D  (None, 6, 6, 832)   0           ['tf.concat_12[0][0]']           \n",
            " )                                                                                                \n",
            "                                                                                                  \n",
            " conv2d_98 (Conv2D)             (None, 6, 6, 160)    133280      ['max_pooling2d_25[0][0]']       \n",
            "                                                                                                  \n",
            " conv2d_100 (Conv2D)            (None, 6, 6, 32)     26656       ['max_pooling2d_25[0][0]']       \n",
            "                                                                                                  \n",
            " max_pooling2d_26 (MaxPooling2D  (None, 6, 6, 832)   0           ['max_pooling2d_25[0][0]']       \n",
            " )                                                                                                \n",
            "                                                                                                  \n",
            " conv2d_97 (Conv2D)             (None, 6, 6, 256)    213248      ['max_pooling2d_25[0][0]']       \n",
            "                                                                                                  \n",
            " conv2d_99 (Conv2D)             (None, 6, 6, 320)    461120      ['conv2d_98[0][0]']              \n",
            "                                                                                                  \n",
            " conv2d_101 (Conv2D)            (None, 6, 6, 128)    102528      ['conv2d_100[0][0]']             \n",
            "                                                                                                  \n",
            " conv2d_102 (Conv2D)            (None, 6, 6, 128)    106624      ['max_pooling2d_26[0][0]']       \n",
            "                                                                                                  \n",
            " tf.concat_13 (TFOpLambda)      (None, 6, 6, 832)    0           ['conv2d_97[0][0]',              \n",
            "                                                                  'conv2d_99[0][0]',              \n",
            "                                                                  'conv2d_101[0][0]',             \n",
            "                                                                  'conv2d_102[0][0]']             \n",
            "                                                                                                  \n",
            " conv2d_104 (Conv2D)            (None, 6, 6, 192)    159936      ['tf.concat_13[0][0]']           \n",
            "                                                                                                  \n",
            " conv2d_106 (Conv2D)            (None, 6, 6, 48)     39984       ['tf.concat_13[0][0]']           \n",
            "                                                                                                  \n",
            " max_pooling2d_27 (MaxPooling2D  (None, 6, 6, 832)   0           ['tf.concat_13[0][0]']           \n",
            " )                                                                                                \n",
            "                                                                                                  \n",
            " average_pooling2d_2 (AveragePo  (None, 3, 3, 512)   0           ['tf.concat_8[0][0]']            \n",
            " oling2D)                                                                                         \n",
            "                                                                                                  \n",
            " average_pooling2d_3 (AveragePo  (None, 3, 3, 528)   0           ['tf.concat_11[0][0]']           \n",
            " oling2D)                                                                                         \n",
            "                                                                                                  \n",
            " conv2d_103 (Conv2D)            (None, 6, 6, 384)    319872      ['tf.concat_13[0][0]']           \n",
            "                                                                                                  \n",
            " conv2d_105 (Conv2D)            (None, 6, 6, 384)    663936      ['conv2d_104[0][0]']             \n",
            "                                                                                                  \n",
            " conv2d_107 (Conv2D)            (None, 6, 6, 128)    153728      ['conv2d_106[0][0]']             \n",
            "                                                                                                  \n",
            " conv2d_108 (Conv2D)            (None, 6, 6, 128)    106624      ['max_pooling2d_27[0][0]']       \n",
            "                                                                                                  \n",
            " conv2d_71 (Conv2D)             (None, 3, 3, 128)    65664       ['average_pooling2d_2[0][0]']    \n",
            "                                                                                                  \n",
            " conv2d_90 (Conv2D)             (None, 3, 3, 128)    67712       ['average_pooling2d_3[0][0]']    \n",
            "                                                                                                  \n",
            " tf.concat_14 (TFOpLambda)      (None, 6, 6, 1024)   0           ['conv2d_103[0][0]',             \n",
            "                                                                  'conv2d_105[0][0]',             \n",
            "                                                                  'conv2d_107[0][0]',             \n",
            "                                                                  'conv2d_108[0][0]']             \n",
            "                                                                                                  \n",
            " flatten_2 (Flatten)            (None, 1152)         0           ['conv2d_71[0][0]']              \n",
            "                                                                                                  \n",
            " flatten_3 (Flatten)            (None, 1152)         0           ['conv2d_90[0][0]']              \n",
            "                                                                                                  \n",
            " global_average_pooling2d (Glob  (None, 1024)        0           ['tf.concat_14[0][0]']           \n",
            " alAveragePooling2D)                                                                              \n",
            "                                                                                                  \n",
            " dense_4 (Dense)                (None, 1024)         1180672     ['flatten_2[0][0]']              \n",
            "                                                                                                  \n",
            " dense_6 (Dense)                (None, 1024)         1180672     ['flatten_3[0][0]']              \n",
            "                                                                                                  \n",
            " dropout_4 (Dropout)            (None, 1024)         0           ['global_average_pooling2d[0][0]'\n",
            "                                                                 ]                                \n",
            "                                                                                                  \n",
            " dropout_2 (Dropout)            (None, 1024)         0           ['dense_4[0][0]']                \n",
            "                                                                                                  \n",
            " dropout_3 (Dropout)            (None, 1024)         0           ['dense_6[0][0]']                \n",
            "                                                                                                  \n",
            " dense_8 (Dense)                (None, 10)           10250       ['dropout_4[0][0]']              \n",
            "                                                                                                  \n",
            " dense_5 (Dense)                (None, 10)           10250       ['dropout_2[0][0]']              \n",
            "                                                                                                  \n",
            " dense_7 (Dense)                (None, 10)           10250       ['dropout_3[0][0]']              \n",
            "                                                                                                  \n",
            "==================================================================================================\n",
            "Total params: 8,499,022\n",
            "Trainable params: 8,499,022\n",
            "Non-trainable params: 0\n",
            "__________________________________________________________________________________________________\n"
          ]
        }
      ]
    },
    {
      "cell_type": "code",
      "metadata": {
        "colab": {
          "base_uri": "https://localhost:8080/"
        },
        "id": "7ob7Rm-F6lGP",
        "outputId": "c9158381-f51f-4760-a9b0-9597c4215680"
      },
      "source": [
        "model.compile(optimizer='adam', \n",
        "              loss=[losses.sparse_categorical_crossentropy,\n",
        "                    losses.sparse_categorical_crossentropy,\n",
        "                    losses.sparse_categorical_crossentropy],\n",
        "              loss_weights=[1, 0.3, 0.3],\n",
        "              metrics=['accuracy'],)\n",
        "history = model.fit(x_train, [y_train, y_train, y_train], validation_data=(x_val, [y_val, y_val, y_val]), batch_size=64, epochs=40)"
      ],
      "execution_count": null,
      "outputs": [
        {
          "output_type": "stream",
          "name": "stdout",
          "text": [
            "Epoch 1/40\n",
            "  4/907 [..............................] - ETA: 3:40:32 - loss: 3.6740 - dense_8_loss: 2.2944 - dense_5_loss: 2.3007 - dense_7_loss: 2.2980 - dense_8_accuracy: 0.1328 - dense_5_accuracy: 0.0977 - dense_7_accuracy: 0.1406"
          ]
        },
        {
          "output_type": "error",
          "ename": "KeyboardInterrupt",
          "evalue": "ignored",
          "traceback": [
            "\u001b[0;31m---------------------------------------------------------------------------\u001b[0m",
            "\u001b[0;31mKeyboardInterrupt\u001b[0m                         Traceback (most recent call last)",
            "\u001b[0;32m<ipython-input-29-8317db3fb6c2>\u001b[0m in \u001b[0;36m<module>\u001b[0;34m()\u001b[0m\n\u001b[1;32m      5\u001b[0m               \u001b[0mloss_weights\u001b[0m\u001b[0;34m=\u001b[0m\u001b[0;34m[\u001b[0m\u001b[0;36m1\u001b[0m\u001b[0;34m,\u001b[0m \u001b[0;36m0.3\u001b[0m\u001b[0;34m,\u001b[0m \u001b[0;36m0.3\u001b[0m\u001b[0;34m]\u001b[0m\u001b[0;34m,\u001b[0m\u001b[0;34m\u001b[0m\u001b[0;34m\u001b[0m\u001b[0m\n\u001b[1;32m      6\u001b[0m               metrics=['accuracy'],)\n\u001b[0;32m----> 7\u001b[0;31m \u001b[0mhistory\u001b[0m \u001b[0;34m=\u001b[0m \u001b[0mmodel\u001b[0m\u001b[0;34m.\u001b[0m\u001b[0mfit\u001b[0m\u001b[0;34m(\u001b[0m\u001b[0mx_train\u001b[0m\u001b[0;34m,\u001b[0m \u001b[0;34m[\u001b[0m\u001b[0my_train\u001b[0m\u001b[0;34m,\u001b[0m \u001b[0my_train\u001b[0m\u001b[0;34m,\u001b[0m \u001b[0my_train\u001b[0m\u001b[0;34m]\u001b[0m\u001b[0;34m,\u001b[0m \u001b[0mvalidation_data\u001b[0m\u001b[0;34m=\u001b[0m\u001b[0;34m(\u001b[0m\u001b[0mx_val\u001b[0m\u001b[0;34m,\u001b[0m \u001b[0;34m[\u001b[0m\u001b[0my_val\u001b[0m\u001b[0;34m,\u001b[0m \u001b[0my_val\u001b[0m\u001b[0;34m,\u001b[0m \u001b[0my_val\u001b[0m\u001b[0;34m]\u001b[0m\u001b[0;34m)\u001b[0m\u001b[0;34m,\u001b[0m \u001b[0mbatch_size\u001b[0m\u001b[0;34m=\u001b[0m\u001b[0;36m64\u001b[0m\u001b[0;34m,\u001b[0m \u001b[0mepochs\u001b[0m\u001b[0;34m=\u001b[0m\u001b[0;36m40\u001b[0m\u001b[0;34m)\u001b[0m\u001b[0;34m\u001b[0m\u001b[0;34m\u001b[0m\u001b[0m\n\u001b[0m",
            "\u001b[0;32m/usr/local/lib/python3.7/dist-packages/keras/utils/traceback_utils.py\u001b[0m in \u001b[0;36merror_handler\u001b[0;34m(*args, **kwargs)\u001b[0m\n\u001b[1;32m     62\u001b[0m     \u001b[0mfiltered_tb\u001b[0m \u001b[0;34m=\u001b[0m \u001b[0;32mNone\u001b[0m\u001b[0;34m\u001b[0m\u001b[0;34m\u001b[0m\u001b[0m\n\u001b[1;32m     63\u001b[0m     \u001b[0;32mtry\u001b[0m\u001b[0;34m:\u001b[0m\u001b[0;34m\u001b[0m\u001b[0;34m\u001b[0m\u001b[0m\n\u001b[0;32m---> 64\u001b[0;31m       \u001b[0;32mreturn\u001b[0m \u001b[0mfn\u001b[0m\u001b[0;34m(\u001b[0m\u001b[0;34m*\u001b[0m\u001b[0margs\u001b[0m\u001b[0;34m,\u001b[0m \u001b[0;34m**\u001b[0m\u001b[0mkwargs\u001b[0m\u001b[0;34m)\u001b[0m\u001b[0;34m\u001b[0m\u001b[0;34m\u001b[0m\u001b[0m\n\u001b[0m\u001b[1;32m     65\u001b[0m     \u001b[0;32mexcept\u001b[0m \u001b[0mException\u001b[0m \u001b[0;32mas\u001b[0m \u001b[0me\u001b[0m\u001b[0;34m:\u001b[0m  \u001b[0;31m# pylint: disable=broad-except\u001b[0m\u001b[0;34m\u001b[0m\u001b[0;34m\u001b[0m\u001b[0m\n\u001b[1;32m     66\u001b[0m       \u001b[0mfiltered_tb\u001b[0m \u001b[0;34m=\u001b[0m \u001b[0m_process_traceback_frames\u001b[0m\u001b[0;34m(\u001b[0m\u001b[0me\u001b[0m\u001b[0;34m.\u001b[0m\u001b[0m__traceback__\u001b[0m\u001b[0;34m)\u001b[0m\u001b[0;34m\u001b[0m\u001b[0;34m\u001b[0m\u001b[0m\n",
            "\u001b[0;32m/usr/local/lib/python3.7/dist-packages/keras/engine/training.py\u001b[0m in \u001b[0;36mfit\u001b[0;34m(self, x, y, batch_size, epochs, verbose, callbacks, validation_split, validation_data, shuffle, class_weight, sample_weight, initial_epoch, steps_per_epoch, validation_steps, validation_batch_size, validation_freq, max_queue_size, workers, use_multiprocessing)\u001b[0m\n\u001b[1;32m   1214\u001b[0m                 _r=1):\n\u001b[1;32m   1215\u001b[0m               \u001b[0mcallbacks\u001b[0m\u001b[0;34m.\u001b[0m\u001b[0mon_train_batch_begin\u001b[0m\u001b[0;34m(\u001b[0m\u001b[0mstep\u001b[0m\u001b[0;34m)\u001b[0m\u001b[0;34m\u001b[0m\u001b[0;34m\u001b[0m\u001b[0m\n\u001b[0;32m-> 1216\u001b[0;31m               \u001b[0mtmp_logs\u001b[0m \u001b[0;34m=\u001b[0m \u001b[0mself\u001b[0m\u001b[0;34m.\u001b[0m\u001b[0mtrain_function\u001b[0m\u001b[0;34m(\u001b[0m\u001b[0miterator\u001b[0m\u001b[0;34m)\u001b[0m\u001b[0;34m\u001b[0m\u001b[0;34m\u001b[0m\u001b[0m\n\u001b[0m\u001b[1;32m   1217\u001b[0m               \u001b[0;32mif\u001b[0m \u001b[0mdata_handler\u001b[0m\u001b[0;34m.\u001b[0m\u001b[0mshould_sync\u001b[0m\u001b[0;34m:\u001b[0m\u001b[0;34m\u001b[0m\u001b[0;34m\u001b[0m\u001b[0m\n\u001b[1;32m   1218\u001b[0m                 \u001b[0mcontext\u001b[0m\u001b[0;34m.\u001b[0m\u001b[0masync_wait\u001b[0m\u001b[0;34m(\u001b[0m\u001b[0;34m)\u001b[0m\u001b[0;34m\u001b[0m\u001b[0;34m\u001b[0m\u001b[0m\n",
            "\u001b[0;32m/usr/local/lib/python3.7/dist-packages/tensorflow/python/util/traceback_utils.py\u001b[0m in \u001b[0;36merror_handler\u001b[0;34m(*args, **kwargs)\u001b[0m\n\u001b[1;32m    148\u001b[0m     \u001b[0mfiltered_tb\u001b[0m \u001b[0;34m=\u001b[0m \u001b[0;32mNone\u001b[0m\u001b[0;34m\u001b[0m\u001b[0;34m\u001b[0m\u001b[0m\n\u001b[1;32m    149\u001b[0m     \u001b[0;32mtry\u001b[0m\u001b[0;34m:\u001b[0m\u001b[0;34m\u001b[0m\u001b[0;34m\u001b[0m\u001b[0m\n\u001b[0;32m--> 150\u001b[0;31m       \u001b[0;32mreturn\u001b[0m \u001b[0mfn\u001b[0m\u001b[0;34m(\u001b[0m\u001b[0;34m*\u001b[0m\u001b[0margs\u001b[0m\u001b[0;34m,\u001b[0m \u001b[0;34m**\u001b[0m\u001b[0mkwargs\u001b[0m\u001b[0;34m)\u001b[0m\u001b[0;34m\u001b[0m\u001b[0;34m\u001b[0m\u001b[0m\n\u001b[0m\u001b[1;32m    151\u001b[0m     \u001b[0;32mexcept\u001b[0m \u001b[0mException\u001b[0m \u001b[0;32mas\u001b[0m \u001b[0me\u001b[0m\u001b[0;34m:\u001b[0m\u001b[0;34m\u001b[0m\u001b[0;34m\u001b[0m\u001b[0m\n\u001b[1;32m    152\u001b[0m       \u001b[0mfiltered_tb\u001b[0m \u001b[0;34m=\u001b[0m \u001b[0m_process_traceback_frames\u001b[0m\u001b[0;34m(\u001b[0m\u001b[0me\u001b[0m\u001b[0;34m.\u001b[0m\u001b[0m__traceback__\u001b[0m\u001b[0;34m)\u001b[0m\u001b[0;34m\u001b[0m\u001b[0;34m\u001b[0m\u001b[0m\n",
            "\u001b[0;32m/usr/local/lib/python3.7/dist-packages/tensorflow/python/eager/def_function.py\u001b[0m in \u001b[0;36m__call__\u001b[0;34m(self, *args, **kwds)\u001b[0m\n\u001b[1;32m    908\u001b[0m \u001b[0;34m\u001b[0m\u001b[0m\n\u001b[1;32m    909\u001b[0m       \u001b[0;32mwith\u001b[0m \u001b[0mOptionalXlaContext\u001b[0m\u001b[0;34m(\u001b[0m\u001b[0mself\u001b[0m\u001b[0;34m.\u001b[0m\u001b[0m_jit_compile\u001b[0m\u001b[0;34m)\u001b[0m\u001b[0;34m:\u001b[0m\u001b[0;34m\u001b[0m\u001b[0;34m\u001b[0m\u001b[0m\n\u001b[0;32m--> 910\u001b[0;31m         \u001b[0mresult\u001b[0m \u001b[0;34m=\u001b[0m \u001b[0mself\u001b[0m\u001b[0;34m.\u001b[0m\u001b[0m_call\u001b[0m\u001b[0;34m(\u001b[0m\u001b[0;34m*\u001b[0m\u001b[0margs\u001b[0m\u001b[0;34m,\u001b[0m \u001b[0;34m**\u001b[0m\u001b[0mkwds\u001b[0m\u001b[0;34m)\u001b[0m\u001b[0;34m\u001b[0m\u001b[0;34m\u001b[0m\u001b[0m\n\u001b[0m\u001b[1;32m    911\u001b[0m \u001b[0;34m\u001b[0m\u001b[0m\n\u001b[1;32m    912\u001b[0m       \u001b[0mnew_tracing_count\u001b[0m \u001b[0;34m=\u001b[0m \u001b[0mself\u001b[0m\u001b[0;34m.\u001b[0m\u001b[0mexperimental_get_tracing_count\u001b[0m\u001b[0;34m(\u001b[0m\u001b[0;34m)\u001b[0m\u001b[0;34m\u001b[0m\u001b[0;34m\u001b[0m\u001b[0m\n",
            "\u001b[0;32m/usr/local/lib/python3.7/dist-packages/tensorflow/python/eager/def_function.py\u001b[0m in \u001b[0;36m_call\u001b[0;34m(self, *args, **kwds)\u001b[0m\n\u001b[1;32m    940\u001b[0m       \u001b[0;31m# In this case we have created variables on the first call, so we run the\u001b[0m\u001b[0;34m\u001b[0m\u001b[0;34m\u001b[0m\u001b[0;34m\u001b[0m\u001b[0m\n\u001b[1;32m    941\u001b[0m       \u001b[0;31m# defunned version which is guaranteed to never create variables.\u001b[0m\u001b[0;34m\u001b[0m\u001b[0;34m\u001b[0m\u001b[0;34m\u001b[0m\u001b[0m\n\u001b[0;32m--> 942\u001b[0;31m       \u001b[0;32mreturn\u001b[0m \u001b[0mself\u001b[0m\u001b[0;34m.\u001b[0m\u001b[0m_stateless_fn\u001b[0m\u001b[0;34m(\u001b[0m\u001b[0;34m*\u001b[0m\u001b[0margs\u001b[0m\u001b[0;34m,\u001b[0m \u001b[0;34m**\u001b[0m\u001b[0mkwds\u001b[0m\u001b[0;34m)\u001b[0m  \u001b[0;31m# pylint: disable=not-callable\u001b[0m\u001b[0;34m\u001b[0m\u001b[0;34m\u001b[0m\u001b[0m\n\u001b[0m\u001b[1;32m    943\u001b[0m     \u001b[0;32melif\u001b[0m \u001b[0mself\u001b[0m\u001b[0;34m.\u001b[0m\u001b[0m_stateful_fn\u001b[0m \u001b[0;32mis\u001b[0m \u001b[0;32mnot\u001b[0m \u001b[0;32mNone\u001b[0m\u001b[0;34m:\u001b[0m\u001b[0;34m\u001b[0m\u001b[0;34m\u001b[0m\u001b[0m\n\u001b[1;32m    944\u001b[0m       \u001b[0;31m# Release the lock early so that multiple threads can perform the call\u001b[0m\u001b[0;34m\u001b[0m\u001b[0;34m\u001b[0m\u001b[0;34m\u001b[0m\u001b[0m\n",
            "\u001b[0;32m/usr/local/lib/python3.7/dist-packages/tensorflow/python/eager/function.py\u001b[0m in \u001b[0;36m__call__\u001b[0;34m(self, *args, **kwargs)\u001b[0m\n\u001b[1;32m   3129\u001b[0m        filtered_flat_args) = self._maybe_define_function(args, kwargs)\n\u001b[1;32m   3130\u001b[0m     return graph_function._call_flat(\n\u001b[0;32m-> 3131\u001b[0;31m         filtered_flat_args, captured_inputs=graph_function.captured_inputs)  # pylint: disable=protected-access\n\u001b[0m\u001b[1;32m   3132\u001b[0m \u001b[0;34m\u001b[0m\u001b[0m\n\u001b[1;32m   3133\u001b[0m   \u001b[0;34m@\u001b[0m\u001b[0mproperty\u001b[0m\u001b[0;34m\u001b[0m\u001b[0;34m\u001b[0m\u001b[0m\n",
            "\u001b[0;32m/usr/local/lib/python3.7/dist-packages/tensorflow/python/eager/function.py\u001b[0m in \u001b[0;36m_call_flat\u001b[0;34m(self, args, captured_inputs, cancellation_manager)\u001b[0m\n\u001b[1;32m   1958\u001b[0m       \u001b[0;31m# No tape is watching; skip to running the function.\u001b[0m\u001b[0;34m\u001b[0m\u001b[0;34m\u001b[0m\u001b[0;34m\u001b[0m\u001b[0m\n\u001b[1;32m   1959\u001b[0m       return self._build_call_outputs(self._inference_function.call(\n\u001b[0;32m-> 1960\u001b[0;31m           ctx, args, cancellation_manager=cancellation_manager))\n\u001b[0m\u001b[1;32m   1961\u001b[0m     forward_backward = self._select_forward_and_backward_functions(\n\u001b[1;32m   1962\u001b[0m         \u001b[0margs\u001b[0m\u001b[0;34m,\u001b[0m\u001b[0;34m\u001b[0m\u001b[0;34m\u001b[0m\u001b[0m\n",
            "\u001b[0;32m/usr/local/lib/python3.7/dist-packages/tensorflow/python/eager/function.py\u001b[0m in \u001b[0;36mcall\u001b[0;34m(self, ctx, args, cancellation_manager)\u001b[0m\n\u001b[1;32m    601\u001b[0m               \u001b[0minputs\u001b[0m\u001b[0;34m=\u001b[0m\u001b[0margs\u001b[0m\u001b[0;34m,\u001b[0m\u001b[0;34m\u001b[0m\u001b[0;34m\u001b[0m\u001b[0m\n\u001b[1;32m    602\u001b[0m               \u001b[0mattrs\u001b[0m\u001b[0;34m=\u001b[0m\u001b[0mattrs\u001b[0m\u001b[0;34m,\u001b[0m\u001b[0;34m\u001b[0m\u001b[0;34m\u001b[0m\u001b[0m\n\u001b[0;32m--> 603\u001b[0;31m               ctx=ctx)\n\u001b[0m\u001b[1;32m    604\u001b[0m         \u001b[0;32melse\u001b[0m\u001b[0;34m:\u001b[0m\u001b[0;34m\u001b[0m\u001b[0;34m\u001b[0m\u001b[0m\n\u001b[1;32m    605\u001b[0m           outputs = execute.execute_with_cancellation(\n",
            "\u001b[0;32m/usr/local/lib/python3.7/dist-packages/tensorflow/python/eager/execute.py\u001b[0m in \u001b[0;36mquick_execute\u001b[0;34m(op_name, num_outputs, inputs, attrs, ctx, name)\u001b[0m\n\u001b[1;32m     57\u001b[0m     \u001b[0mctx\u001b[0m\u001b[0;34m.\u001b[0m\u001b[0mensure_initialized\u001b[0m\u001b[0;34m(\u001b[0m\u001b[0;34m)\u001b[0m\u001b[0;34m\u001b[0m\u001b[0;34m\u001b[0m\u001b[0m\n\u001b[1;32m     58\u001b[0m     tensors = pywrap_tfe.TFE_Py_Execute(ctx._handle, device_name, op_name,\n\u001b[0;32m---> 59\u001b[0;31m                                         inputs, attrs, num_outputs)\n\u001b[0m\u001b[1;32m     60\u001b[0m   \u001b[0;32mexcept\u001b[0m \u001b[0mcore\u001b[0m\u001b[0;34m.\u001b[0m\u001b[0m_NotOkStatusException\u001b[0m \u001b[0;32mas\u001b[0m \u001b[0me\u001b[0m\u001b[0;34m:\u001b[0m\u001b[0;34m\u001b[0m\u001b[0;34m\u001b[0m\u001b[0m\n\u001b[1;32m     61\u001b[0m     \u001b[0;32mif\u001b[0m \u001b[0mname\u001b[0m \u001b[0;32mis\u001b[0m \u001b[0;32mnot\u001b[0m \u001b[0;32mNone\u001b[0m\u001b[0;34m:\u001b[0m\u001b[0;34m\u001b[0m\u001b[0;34m\u001b[0m\u001b[0m\n",
            "\u001b[0;31mKeyboardInterrupt\u001b[0m: "
          ]
        }
      ]
    },
    {
      "cell_type": "code",
      "metadata": {
        "id": "TKUm1Xbf6oXs"
      },
      "source": [
        "x_train = tf.pad(x_train, [[0, 0], [2,2], [2,2]])/255\n",
        "x_test = tf.pad(x_test, [[0, 0], [2,2], [2,2]])/255\n",
        "x_train = tf.expand_dims(x_train, axis=3, name=None)\n",
        "x_test = tf.expand_dims(x_test, axis=3, name=None)\n",
        "x_train = tf.repeat(x_train, 3, axis=3)\n",
        "x_test = tf.repeat(x_test, 3, axis=3)\n",
        "x_val = x_train[-2000:,:,:,:]\n",
        "y_val = y_train[-2000:]\n",
        "x_train = x_train[:-2000,:,:,:]\n",
        "y_train = y_train[:-2000]"
      ],
      "execution_count": null,
      "outputs": []
    }
  ]
}