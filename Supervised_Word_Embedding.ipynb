{
  "nbformat": 4,
  "nbformat_minor": 0,
  "metadata": {
    "colab": {
      "name": "Supervised Word Embedding.ipynb",
      "provenance": [],
      "authorship_tag": "ABX9TyOZeCAZB8btB8Zl78ccH3od",
      "include_colab_link": true
    },
    "kernelspec": {
      "name": "python3",
      "display_name": "Python 3"
    },
    "language_info": {
      "name": "python"
    }
  },
  "cells": [
    {
      "cell_type": "markdown",
      "metadata": {
        "id": "view-in-github",
        "colab_type": "text"
      },
      "source": [
        "<a href=\"https://colab.research.google.com/github/Hujaifa98/AIProjects/blob/main/Supervised_Word_Embedding.ipynb\" target=\"_parent\"><img src=\"https://colab.research.google.com/assets/colab-badge.svg\" alt=\"Open In Colab\"/></a>"
      ]
    },
    {
      "cell_type": "code",
      "execution_count": null,
      "metadata": {
        "id": "_SZB_gNBrl3t"
      },
      "outputs": [],
      "source": [
        "import numpy as np\n",
        "import tensorflow as tf\n",
        "from tensorflow import keras\n"
      ]
    },
    {
      "cell_type": "code",
      "source": [
        "reviews = ['nice food' , 'amazing restaurant' , 'too good' , 'just loved it!' , 'will go again' , 'horrible food' , 'never go there' , 'poor service' , 'poor quality' , 'needs improvement']\n",
        "sentiment = np.array([1,1,1,1,1,0,0,0,0,0])"
      ],
      "metadata": {
        "id": "ulyoslRir-p0"
      },
      "execution_count": null,
      "outputs": []
    },
    {
      "cell_type": "code",
      "source": [
        "keras.preprocessing.text.one_hot('amazing restaurant',500)"
      ],
      "metadata": {
        "colab": {
          "base_uri": "https://localhost:8080/"
        },
        "id": "VeQmMo_Ns0-C",
        "outputId": "ff283bdb-28aa-4b77-d3d5-feb70f79b263"
      },
      "execution_count": null,
      "outputs": [
        {
          "output_type": "execute_result",
          "data": {
            "text/plain": [
              "[125, 433]"
            ]
          },
          "metadata": {},
          "execution_count": 7
        }
      ]
    },
    {
      "cell_type": "code",
      "source": [
        "vocab_size = 50\n",
        "encoded_review = [keras.preprocessing.text.one_hot(words , vocab_size) for words in reviews]\n",
        "encoded_review"
      ],
      "metadata": {
        "colab": {
          "base_uri": "https://localhost:8080/"
        },
        "id": "t9A9bFNVw2g7",
        "outputId": "78d57f8c-0bee-4a75-ffe3-1eb5b51457a3"
      },
      "execution_count": null,
      "outputs": [
        {
          "output_type": "execute_result",
          "data": {
            "text/plain": [
              "[[45, 21],\n",
              " [22, 49],\n",
              " [36, 21],\n",
              " [46, 38, 6],\n",
              " [44, 36, 46],\n",
              " [36, 21],\n",
              " [43, 36, 31],\n",
              " [11, 7],\n",
              " [11, 24],\n",
              " [43, 13]]"
            ]
          },
          "metadata": {},
          "execution_count": 32
        }
      ]
    },
    {
      "cell_type": "code",
      "source": [
        "max_length = 3\n",
        "padded_review = keras.preprocessing.sequence.pad_sequences(sequences=encoded_review,maxlen=max_length,padding='post')\n",
        "padded_review"
      ],
      "metadata": {
        "colab": {
          "base_uri": "https://localhost:8080/"
        },
        "id": "_EP9yRSLxfaQ",
        "outputId": "da9f8d43-b91f-42e6-bb31-4ee6a2d4c960"
      },
      "execution_count": null,
      "outputs": [
        {
          "output_type": "execute_result",
          "data": {
            "text/plain": [
              "array([[45, 21,  0],\n",
              "       [22, 49,  0],\n",
              "       [36, 21,  0],\n",
              "       [46, 38,  6],\n",
              "       [44, 36, 46],\n",
              "       [36, 21,  0],\n",
              "       [43, 36, 31],\n",
              "       [11,  7,  0],\n",
              "       [11, 24,  0],\n",
              "       [43, 13,  0]], dtype=int32)"
            ]
          },
          "metadata": {},
          "execution_count": 33
        }
      ]
    },
    {
      "cell_type": "code",
      "source": [
        "embedded_vector_size = 4\n",
        "model = keras.models.Sequential([\n",
        "                                 keras.layers.Embedding(input_dim=vocab_size,output_dim=embedded_vector_size,input_length=max_length,name='embedding'),\n",
        "                                 keras.layers.Flatten(),\n",
        "                                 keras.layers.Dense(1,activation='sigmoid')\n",
        "])"
      ],
      "metadata": {
        "id": "oQG-zN_Ax2Mg"
      },
      "execution_count": null,
      "outputs": []
    },
    {
      "cell_type": "code",
      "source": [
        "x_train = padded_review\n",
        "y_train = sentiment"
      ],
      "metadata": {
        "id": "HwAYPS7nziKv"
      },
      "execution_count": null,
      "outputs": []
    },
    {
      "cell_type": "code",
      "source": [
        "model.compile(optimizer='adam',loss='binary_crossentropy',metrics=['accuracy'])\n",
        "model.summary()"
      ],
      "metadata": {
        "colab": {
          "base_uri": "https://localhost:8080/"
        },
        "id": "uV58sGUqzpiv",
        "outputId": "f5ae0fc2-deaa-4267-8eed-c29fa158c254"
      },
      "execution_count": null,
      "outputs": [
        {
          "output_type": "stream",
          "name": "stdout",
          "text": [
            "Model: \"sequential_3\"\n",
            "_________________________________________________________________\n",
            " Layer (type)                Output Shape              Param #   \n",
            "=================================================================\n",
            " embedding (Embedding)       (None, 3, 4)              200       \n",
            "                                                                 \n",
            " flatten_3 (Flatten)         (None, 12)                0         \n",
            "                                                                 \n",
            " dense_3 (Dense)             (None, 1)                 13        \n",
            "                                                                 \n",
            "=================================================================\n",
            "Total params: 213\n",
            "Trainable params: 213\n",
            "Non-trainable params: 0\n",
            "_________________________________________________________________\n"
          ]
        }
      ]
    },
    {
      "cell_type": "code",
      "source": [
        "history = model.fit(x_train,y_train,epochs=50)"
      ],
      "metadata": {
        "id": "RQmCkQhCz9ov"
      },
      "execution_count": null,
      "outputs": []
    },
    {
      "cell_type": "code",
      "source": [
        "loss , accuracy = model.evaluate(x_train,y_train)\n",
        "loss , accuracy"
      ],
      "metadata": {
        "colab": {
          "base_uri": "https://localhost:8080/"
        },
        "id": "JKtTDcFf0eaH",
        "outputId": "d03366bf-f9cb-4f13-b295-d1503127884f"
      },
      "execution_count": null,
      "outputs": [
        {
          "output_type": "stream",
          "name": "stdout",
          "text": [
            "1/1 [==============================] - 0s 306ms/step - loss: 0.6226 - accuracy: 0.9000\n"
          ]
        },
        {
          "output_type": "execute_result",
          "data": {
            "text/plain": [
              "(0.6225690841674805, 0.8999999761581421)"
            ]
          },
          "metadata": {},
          "execution_count": 38
        }
      ]
    },
    {
      "cell_type": "code",
      "source": [
        "weights = model.get_layer('embedding').get_weights()[0]"
      ],
      "metadata": {
        "id": "XN9_yRnV0vLv"
      },
      "execution_count": null,
      "outputs": []
    },
    {
      "cell_type": "code",
      "source": [
        "print(weights[45]) #45=Nice\n",
        "print(weights[22]) #22=Amazing"
      ],
      "metadata": {
        "colab": {
          "base_uri": "https://localhost:8080/"
        },
        "id": "SCVex4kQ1hD-",
        "outputId": "0d9f3b12-dc10-46a3-f64c-3167e7d7aaea"
      },
      "execution_count": null,
      "outputs": [
        {
          "output_type": "stream",
          "name": "stdout",
          "text": [
            "[ 0.02685854 -0.04476075  0.06690638 -0.0509613 ]\n",
            "[ 0.03921735 -0.01455211  0.04328865 -0.08078162]\n"
          ]
        }
      ]
    },
    {
      "cell_type": "code",
      "source": [
        ""
      ],
      "metadata": {
        "id": "yZjEU2tW16Mg"
      },
      "execution_count": null,
      "outputs": []
    }
  ]
}