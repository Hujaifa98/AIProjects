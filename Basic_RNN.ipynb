{
  "nbformat": 4,
  "nbformat_minor": 0,
  "metadata": {
    "colab": {
      "name": "Basic RNN.ipynb",
      "provenance": [],
      "collapsed_sections": [],
      "authorship_tag": "ABX9TyPgK0//FMzfyiZrgoT0ZqPo",
      "include_colab_link": true
    },
    "kernelspec": {
      "name": "python3",
      "display_name": "Python 3"
    },
    "language_info": {
      "name": "python"
    }
  },
  "cells": [
    {
      "cell_type": "markdown",
      "metadata": {
        "id": "view-in-github",
        "colab_type": "text"
      },
      "source": [
        "<a href=\"https://colab.research.google.com/github/Hujaifa98/AIProjects/blob/main/Basic_RNN.ipynb\" target=\"_parent\"><img src=\"https://colab.research.google.com/assets/colab-badge.svg\" alt=\"Open In Colab\"/></a>"
      ]
    },
    {
      "cell_type": "code",
      "metadata": {
        "id": "KF8qbfFlOdVT"
      },
      "source": [
        "import tensorflow as tf\n",
        "from tensorflow import keras\n",
        "import numpy as np\n",
        "import pandas as pd\n",
        "import matplotlib.pyplot as plt"
      ],
      "execution_count": null,
      "outputs": []
    },
    {
      "cell_type": "code",
      "metadata": {
        "id": "P1iwrHyfOf7b"
      },
      "source": [
        "def generate_time_series (batch_size,n_steps):\n",
        "  freq1 , freq2 , offset1 , offset2 = np.random.rand(4,batch_size,1)\n",
        "  time = np.linspace(0,1,n_steps)\n",
        "  series = 0.5 * np.sin((time - offset1) * (freq1 * 10 + 10))\n",
        "  series += 0.2 * np.sin((time - offset2) * (freq2 * 20 + 20))\n",
        "  series += 0.1 * (np.random.rand(batch_size , n_steps) - 0.5)\n",
        "  return series[...,np.newaxis].astype(np.float32)"
      ],
      "execution_count": null,
      "outputs": []
    },
    {
      "cell_type": "code",
      "metadata": {
        "id": "f1rydMnXlyey"
      },
      "source": [
        "n_steps = 50\n",
        "series = generate_time_series(10000,n_steps + 1)\n",
        "x_train , y_train = series[:7000,:n_steps] , series[:7000,-1]\n",
        "x_valid , y_valid = series[7000:9000,:n_steps] , series[7000:9000,-1]\n",
        "x_test , y_test = series[9000: , :n_steps] , series[9000:,-1]"
      ],
      "execution_count": null,
      "outputs": []
    },
    {
      "cell_type": "code",
      "metadata": {
        "colab": {
          "base_uri": "https://localhost:8080/"
        },
        "id": "u1VoY0cASjv3",
        "outputId": "5cc94fc8-eb06-4bc7-8ed8-8733d5f3e79a"
      },
      "source": [
        "x_train[0]"
      ],
      "execution_count": null,
      "outputs": [
        {
          "output_type": "execute_result",
          "data": {
            "text/plain": [
              "array([[-0.7104738 ],\n",
              "       [-0.5572187 ],\n",
              "       [-0.47291115],\n",
              "       [-0.20285828],\n",
              "       [-0.00249065],\n",
              "       [ 0.1703254 ],\n",
              "       [ 0.30699173],\n",
              "       [ 0.2871454 ],\n",
              "       [ 0.2139762 ],\n",
              "       [ 0.1969775 ],\n",
              "       [ 0.30673617],\n",
              "       [ 0.38991028],\n",
              "       [ 0.47844556],\n",
              "       [ 0.5675629 ],\n",
              "       [ 0.56492203],\n",
              "       [ 0.5193412 ],\n",
              "       [ 0.33074868],\n",
              "       [ 0.008581  ],\n",
              "       [-0.21593533],\n",
              "       [-0.38405657],\n",
              "       [-0.3942521 ],\n",
              "       [-0.43614987],\n",
              "       [-0.36780065],\n",
              "       [-0.30430987],\n",
              "       [-0.3367512 ],\n",
              "       [-0.39335167],\n",
              "       [-0.4332072 ],\n",
              "       [-0.48990682],\n",
              "       [-0.44111198],\n",
              "       [-0.36716476],\n",
              "       [-0.15376587],\n",
              "       [ 0.10370059],\n",
              "       [ 0.3253147 ],\n",
              "       [ 0.5086258 ],\n",
              "       [ 0.57352054],\n",
              "       [ 0.5527278 ],\n",
              "       [ 0.37811643],\n",
              "       [ 0.29368418],\n",
              "       [ 0.23217243],\n",
              "       [ 0.22775191],\n",
              "       [ 0.27404758],\n",
              "       [ 0.34387514],\n",
              "       [ 0.3142706 ],\n",
              "       [ 0.12870336],\n",
              "       [-0.09189342],\n",
              "       [-0.32429883],\n",
              "       [-0.54195666],\n",
              "       [-0.6772499 ],\n",
              "       [-0.6919582 ],\n",
              "       [-0.5877484 ]], dtype=float32)"
            ]
          },
          "metadata": {},
          "execution_count": 5
        }
      ]
    },
    {
      "cell_type": "code",
      "metadata": {
        "colab": {
          "base_uri": "https://localhost:8080/"
        },
        "id": "HTuv679IScno",
        "outputId": "4ff1fa01-c863-4574-c06f-7bfa7f641295"
      },
      "source": [
        "print(x_train.shape)\n",
        "print(y_train.shape)"
      ],
      "execution_count": null,
      "outputs": [
        {
          "output_type": "stream",
          "name": "stdout",
          "text": [
            "(7000, 50, 1)\n",
            "(7000, 1)\n"
          ]
        }
      ]
    },
    {
      "cell_type": "code",
      "metadata": {
        "colab": {
          "base_uri": "https://localhost:8080/"
        },
        "id": "H2d2phVEmjx2",
        "outputId": "dfecdebc-9667-488b-ba4a-db88fd3b02e3"
      },
      "source": [
        "y_pred = x_valid[:,-1]\n",
        "np.mean(keras.losses.mean_squared_error(y_valid,y_pred))"
      ],
      "execution_count": null,
      "outputs": [
        {
          "output_type": "execute_result",
          "data": {
            "text/plain": [
              "0.020760065"
            ]
          },
          "metadata": {},
          "execution_count": 6
        }
      ]
    },
    {
      "cell_type": "code",
      "metadata": {
        "id": "R0RqV0u8mwyf"
      },
      "source": [
        "model = keras.Sequential([\n",
        "                          keras.layers.Flatten(input_shape=[50,1]),\n",
        "                          keras.layers.Dense(1)\n",
        "])"
      ],
      "execution_count": null,
      "outputs": []
    },
    {
      "cell_type": "code",
      "metadata": {
        "colab": {
          "base_uri": "https://localhost:8080/"
        },
        "id": "1UCCCC5xnho1",
        "outputId": "d7291a1a-6947-47c6-810a-156549e96e17"
      },
      "source": [
        "model.compile(optimizer='adam',loss='mse')\n",
        "history = model.fit(x_train,y_train,validation_data=(x_valid,y_valid),epochs=20)"
      ],
      "execution_count": null,
      "outputs": [
        {
          "output_type": "stream",
          "name": "stdout",
          "text": [
            "Epoch 1/20\n",
            "219/219 [==============================] - 1s 2ms/step - loss: 0.1241 - val_loss: 0.0471\n",
            "Epoch 2/20\n",
            "219/219 [==============================] - 0s 2ms/step - loss: 0.0298 - val_loss: 0.0199\n",
            "Epoch 3/20\n",
            "219/219 [==============================] - 0s 2ms/step - loss: 0.0153 - val_loss: 0.0118\n",
            "Epoch 4/20\n",
            "219/219 [==============================] - 0s 2ms/step - loss: 0.0102 - val_loss: 0.0088\n",
            "Epoch 5/20\n",
            "219/219 [==============================] - 0s 2ms/step - loss: 0.0081 - val_loss: 0.0073\n",
            "Epoch 6/20\n",
            "219/219 [==============================] - 0s 2ms/step - loss: 0.0070 - val_loss: 0.0065\n",
            "Epoch 7/20\n",
            "219/219 [==============================] - 0s 2ms/step - loss: 0.0062 - val_loss: 0.0059\n",
            "Epoch 8/20\n",
            "219/219 [==============================] - 0s 2ms/step - loss: 0.0056 - val_loss: 0.0055\n",
            "Epoch 9/20\n",
            "219/219 [==============================] - 0s 2ms/step - loss: 0.0051 - val_loss: 0.0051\n",
            "Epoch 10/20\n",
            "219/219 [==============================] - 0s 2ms/step - loss: 0.0048 - val_loss: 0.0047\n",
            "Epoch 11/20\n",
            "219/219 [==============================] - 0s 2ms/step - loss: 0.0044 - val_loss: 0.0044\n",
            "Epoch 12/20\n",
            "219/219 [==============================] - 0s 2ms/step - loss: 0.0042 - val_loss: 0.0043\n",
            "Epoch 13/20\n",
            "219/219 [==============================] - 0s 2ms/step - loss: 0.0040 - val_loss: 0.0041\n",
            "Epoch 14/20\n",
            "219/219 [==============================] - 0s 2ms/step - loss: 0.0039 - val_loss: 0.0040\n",
            "Epoch 15/20\n",
            "219/219 [==============================] - 0s 2ms/step - loss: 0.0038 - val_loss: 0.0039\n",
            "Epoch 16/20\n",
            "219/219 [==============================] - 0s 2ms/step - loss: 0.0037 - val_loss: 0.0039\n",
            "Epoch 17/20\n",
            "219/219 [==============================] - 0s 2ms/step - loss: 0.0036 - val_loss: 0.0037\n",
            "Epoch 18/20\n",
            "219/219 [==============================] - 0s 2ms/step - loss: 0.0036 - val_loss: 0.0038\n",
            "Epoch 19/20\n",
            "219/219 [==============================] - 0s 2ms/step - loss: 0.0035 - val_loss: 0.0036\n",
            "Epoch 20/20\n",
            "219/219 [==============================] - 0s 2ms/step - loss: 0.0035 - val_loss: 0.0036\n"
          ]
        }
      ]
    },
    {
      "cell_type": "code",
      "metadata": {
        "colab": {
          "base_uri": "https://localhost:8080/"
        },
        "id": "-JftV71Dn131",
        "outputId": "993bfed5-414e-4ce0-f9cd-78118a879431"
      },
      "source": [
        "model.evaluate(x_test,y_test)"
      ],
      "execution_count": null,
      "outputs": [
        {
          "output_type": "stream",
          "name": "stdout",
          "text": [
            "32/32 [==============================] - 0s 1ms/step - loss: 0.0033\n"
          ]
        },
        {
          "output_type": "execute_result",
          "data": {
            "text/plain": [
              "0.003273493843153119"
            ]
          },
          "metadata": {},
          "execution_count": 9
        }
      ]
    },
    {
      "cell_type": "code",
      "metadata": {
        "colab": {
          "base_uri": "https://localhost:8080/"
        },
        "id": "wDCk5VWqn-Nd",
        "outputId": "83a4c272-e181-4a7c-c11b-cc30a8dde997"
      },
      "source": [
        "model2 = keras.Sequential([\n",
        "                           keras.layers.SimpleRNN(1,input_shape=[None,1])\n",
        "])\n",
        "model2.compile(optimizer='adam',loss='mse')\n",
        "history2 = model2.fit(x_train,y_train,validation_data=(x_valid,y_valid),epochs=20)\n",
        "model2.evaluate(x_test,y_test)"
      ],
      "execution_count": null,
      "outputs": [
        {
          "output_type": "stream",
          "name": "stdout",
          "text": [
            "Epoch 1/20\n",
            "219/219 [==============================] - 3s 9ms/step - loss: 0.0175 - val_loss: 0.0137\n",
            "Epoch 2/20\n",
            "219/219 [==============================] - 2s 9ms/step - loss: 0.0125 - val_loss: 0.0119\n",
            "Epoch 3/20\n",
            "219/219 [==============================] - 2s 8ms/step - loss: 0.0116 - val_loss: 0.0116\n",
            "Epoch 4/20\n",
            "219/219 [==============================] - 2s 9ms/step - loss: 0.0115 - val_loss: 0.0115\n",
            "Epoch 5/20\n",
            "219/219 [==============================] - 2s 8ms/step - loss: 0.0114 - val_loss: 0.0115\n",
            "Epoch 6/20\n",
            "219/219 [==============================] - 2s 9ms/step - loss: 0.0114 - val_loss: 0.0115\n",
            "Epoch 7/20\n",
            "219/219 [==============================] - 2s 9ms/step - loss: 0.0114 - val_loss: 0.0114\n",
            "Epoch 8/20\n",
            "219/219 [==============================] - 2s 9ms/step - loss: 0.0114 - val_loss: 0.0114\n",
            "Epoch 9/20\n",
            "219/219 [==============================] - 2s 9ms/step - loss: 0.0114 - val_loss: 0.0114\n",
            "Epoch 10/20\n",
            "219/219 [==============================] - 2s 9ms/step - loss: 0.0114 - val_loss: 0.0115\n",
            "Epoch 11/20\n",
            "219/219 [==============================] - 2s 8ms/step - loss: 0.0114 - val_loss: 0.0114\n",
            "Epoch 12/20\n",
            "219/219 [==============================] - 2s 9ms/step - loss: 0.0114 - val_loss: 0.0114\n",
            "Epoch 13/20\n",
            "219/219 [==============================] - 2s 8ms/step - loss: 0.0114 - val_loss: 0.0115\n",
            "Epoch 14/20\n",
            "219/219 [==============================] - 2s 9ms/step - loss: 0.0114 - val_loss: 0.0114\n",
            "Epoch 15/20\n",
            "219/219 [==============================] - 2s 8ms/step - loss: 0.0114 - val_loss: 0.0114\n",
            "Epoch 16/20\n",
            "219/219 [==============================] - 2s 9ms/step - loss: 0.0114 - val_loss: 0.0114\n",
            "Epoch 17/20\n",
            "219/219 [==============================] - 2s 8ms/step - loss: 0.0114 - val_loss: 0.0115\n",
            "Epoch 18/20\n",
            "219/219 [==============================] - 2s 9ms/step - loss: 0.0114 - val_loss: 0.0114\n",
            "Epoch 19/20\n",
            "219/219 [==============================] - 2s 8ms/step - loss: 0.0114 - val_loss: 0.0114\n",
            "Epoch 20/20\n",
            "219/219 [==============================] - 2s 9ms/step - loss: 0.0114 - val_loss: 0.0115\n",
            "32/32 [==============================] - 0s 4ms/step - loss: 0.0120\n"
          ]
        },
        {
          "output_type": "execute_result",
          "data": {
            "text/plain": [
              "0.012041561305522919"
            ]
          },
          "metadata": {},
          "execution_count": 10
        }
      ]
    },
    {
      "cell_type": "code",
      "metadata": {
        "colab": {
          "base_uri": "https://localhost:8080/"
        },
        "id": "GukmbzOloidl",
        "outputId": "33c2ce32-f7f5-4172-c58e-f2e6d0f6298b"
      },
      "source": [
        "model3 = keras.Sequential([\n",
        "                           keras.layers.SimpleRNN(20,return_sequences=True,input_shape=[None,1]),\n",
        "                           keras.layers.SimpleRNN(20,return_sequences=True),\n",
        "                           keras.layers.SimpleRNN(1)\n",
        "])\n",
        "model3.compile(optimizer='adam',loss='mse')\n",
        "history3 = model3.fit(x_train,y_train,validation_data=(x_valid,y_valid),epochs=20)\n",
        "model3.evaluate(x_test,y_test)"
      ],
      "execution_count": null,
      "outputs": [
        {
          "output_type": "stream",
          "name": "stdout",
          "text": [
            "Epoch 1/20\n",
            "219/219 [==============================] - 9s 30ms/step - loss: 0.0271 - val_loss: 0.0050\n",
            "Epoch 2/20\n",
            "219/219 [==============================] - 6s 29ms/step - loss: 0.0041 - val_loss: 0.0037\n",
            "Epoch 3/20\n",
            "219/219 [==============================] - 6s 30ms/step - loss: 0.0035 - val_loss: 0.0036\n",
            "Epoch 4/20\n",
            "219/219 [==============================] - 6s 28ms/step - loss: 0.0033 - val_loss: 0.0033\n",
            "Epoch 5/20\n",
            "219/219 [==============================] - 6s 29ms/step - loss: 0.0032 - val_loss: 0.0035\n",
            "Epoch 6/20\n",
            "219/219 [==============================] - 6s 30ms/step - loss: 0.0031 - val_loss: 0.0031\n",
            "Epoch 7/20\n",
            "219/219 [==============================] - 7s 30ms/step - loss: 0.0030 - val_loss: 0.0031\n",
            "Epoch 8/20\n",
            "219/219 [==============================] - 6s 28ms/step - loss: 0.0030 - val_loss: 0.0030\n",
            "Epoch 9/20\n",
            "219/219 [==============================] - 6s 28ms/step - loss: 0.0029 - val_loss: 0.0037\n",
            "Epoch 10/20\n",
            "219/219 [==============================] - 6s 30ms/step - loss: 0.0029 - val_loss: 0.0033\n",
            "Epoch 11/20\n",
            "219/219 [==============================] - 6s 28ms/step - loss: 0.0029 - val_loss: 0.0030\n",
            "Epoch 12/20\n",
            "219/219 [==============================] - 6s 29ms/step - loss: 0.0028 - val_loss: 0.0028\n",
            "Epoch 13/20\n",
            "219/219 [==============================] - 6s 30ms/step - loss: 0.0028 - val_loss: 0.0028\n",
            "Epoch 14/20\n",
            "219/219 [==============================] - 6s 29ms/step - loss: 0.0028 - val_loss: 0.0030\n",
            "Epoch 15/20\n",
            "219/219 [==============================] - 6s 29ms/step - loss: 0.0028 - val_loss: 0.0031\n",
            "Epoch 16/20\n",
            "219/219 [==============================] - 6s 30ms/step - loss: 0.0028 - val_loss: 0.0031\n",
            "Epoch 17/20\n",
            "219/219 [==============================] - 6s 28ms/step - loss: 0.0028 - val_loss: 0.0027\n",
            "Epoch 18/20\n",
            "219/219 [==============================] - 7s 30ms/step - loss: 0.0027 - val_loss: 0.0028\n",
            "Epoch 19/20\n",
            "219/219 [==============================] - 6s 29ms/step - loss: 0.0027 - val_loss: 0.0028\n",
            "Epoch 20/20\n",
            "219/219 [==============================] - 6s 29ms/step - loss: 0.0027 - val_loss: 0.0028\n",
            "32/32 [==============================] - 0s 8ms/step - loss: 0.0028\n"
          ]
        },
        {
          "output_type": "execute_result",
          "data": {
            "text/plain": [
              "0.0027667158283293247"
            ]
          },
          "metadata": {},
          "execution_count": 11
        }
      ]
    },
    {
      "cell_type": "code",
      "metadata": {
        "id": "oAV5NFmjqI2v"
      },
      "source": [
        "series = generate_time_series(1,n_steps+10)\n",
        "X_new , Y_new = series[:,:n_steps] , series[:,n_steps:]\n",
        "X = X_new\n",
        "for step_ahead in range(10):\n",
        "  y_pred_one = model.predict(X[:,step_ahead:])[:,np.newaxis,:]\n",
        "  X = np.concatenate([X,y_pred_one] ,axis=1)\n",
        "Y_pred = X[:,n_steps:]"
      ],
      "execution_count": null,
      "outputs": []
    },
    {
      "cell_type": "code",
      "metadata": {
        "colab": {
          "base_uri": "https://localhost:8080/"
        },
        "id": "QybKpJCjsIGM",
        "outputId": "45cda18b-cc84-45f3-c4af-5fa0bc912103"
      },
      "source": [
        "Y_pred"
      ],
      "execution_count": null,
      "outputs": [
        {
          "output_type": "execute_result",
          "data": {
            "text/plain": [
              "array([[[-0.44581997],\n",
              "        [-0.50764984],\n",
              "        [-0.55331266],\n",
              "        [-0.5221599 ],\n",
              "        [-0.45677918],\n",
              "        [-0.32838327],\n",
              "        [-0.1687941 ],\n",
              "        [-0.00552858],\n",
              "        [ 0.11537717],\n",
              "        [ 0.21317138]]], dtype=float32)"
            ]
          },
          "metadata": {},
          "execution_count": 13
        }
      ]
    },
    {
      "cell_type": "code",
      "metadata": {
        "id": "nccjq2X6sKUg"
      },
      "source": [
        "series = generate_time_series(10000,n_steps + 10)\n",
        "x_train , y_train = series[:7000,:n_steps] , series[:7000,-10:,0]\n",
        "x_valid , y_valid = series[7000:9000,:n_steps] , series[7000:9000,-10:,0]\n",
        "x_test , y_test = series[9000: , :n_steps] , series[9000:,-10:,0]"
      ],
      "execution_count": null,
      "outputs": []
    },
    {
      "cell_type": "code",
      "metadata": {
        "colab": {
          "base_uri": "https://localhost:8080/"
        },
        "id": "CHjcAQsvsipz",
        "outputId": "3e0b845c-9fa9-42b1-a9d4-5a9bdd0466f4"
      },
      "source": [
        "model4 = keras.Sequential([\n",
        "                           keras.layers.SimpleRNN(20,return_sequences=True,input_shape=[None,1]),\n",
        "                           keras.layers.SimpleRNN(20),\n",
        "                           keras.layers.Dense(10)\n",
        "])\n",
        "model4.compile(optimizer='adam',loss='mse')\n",
        "history4 = model4.fit(x_train,y_train,validation_data=(x_valid,y_valid),epochs=20)\n",
        "model4.evaluate(x_test,y_test)\n"
      ],
      "execution_count": null,
      "outputs": [
        {
          "output_type": "stream",
          "name": "stdout",
          "text": [
            "Epoch 1/20\n",
            "219/219 [==============================] - 6s 22ms/step - loss: 0.0580 - val_loss: 0.0310\n",
            "Epoch 2/20\n",
            "219/219 [==============================] - 4s 20ms/step - loss: 0.0229 - val_loss: 0.0193\n",
            "Epoch 3/20\n",
            "219/219 [==============================] - 4s 20ms/step - loss: 0.0154 - val_loss: 0.0131\n",
            "Epoch 4/20\n",
            "219/219 [==============================] - 5s 22ms/step - loss: 0.0131 - val_loss: 0.0119\n",
            "Epoch 5/20\n",
            "219/219 [==============================] - 5s 21ms/step - loss: 0.0120 - val_loss: 0.0115\n",
            "Epoch 6/20\n",
            "219/219 [==============================] - 5s 21ms/step - loss: 0.0110 - val_loss: 0.0145\n",
            "Epoch 7/20\n",
            "219/219 [==============================] - 5s 21ms/step - loss: 0.0109 - val_loss: 0.0126\n",
            "Epoch 8/20\n",
            "219/219 [==============================] - 5s 21ms/step - loss: 0.0099 - val_loss: 0.0109\n",
            "Epoch 9/20\n",
            "219/219 [==============================] - 4s 20ms/step - loss: 0.0099 - val_loss: 0.0108\n",
            "Epoch 10/20\n",
            "219/219 [==============================] - 5s 21ms/step - loss: 0.0094 - val_loss: 0.0101\n",
            "Epoch 11/20\n",
            "219/219 [==============================] - 5s 21ms/step - loss: 0.0098 - val_loss: 0.0100\n",
            "Epoch 12/20\n",
            "219/219 [==============================] - 4s 20ms/step - loss: 0.0096 - val_loss: 0.0085\n",
            "Epoch 13/20\n",
            "219/219 [==============================] - 5s 21ms/step - loss: 0.0089 - val_loss: 0.0093\n",
            "Epoch 14/20\n",
            "219/219 [==============================] - 5s 21ms/step - loss: 0.0089 - val_loss: 0.0096\n",
            "Epoch 15/20\n",
            "219/219 [==============================] - 5s 21ms/step - loss: 0.0088 - val_loss: 0.0093\n",
            "Epoch 16/20\n",
            "219/219 [==============================] - 4s 20ms/step - loss: 0.0087 - val_loss: 0.0110\n",
            "Epoch 17/20\n",
            "219/219 [==============================] - 5s 21ms/step - loss: 0.0086 - val_loss: 0.0078\n",
            "Epoch 18/20\n",
            "219/219 [==============================] - 4s 20ms/step - loss: 0.0087 - val_loss: 0.0086\n",
            "Epoch 19/20\n",
            "219/219 [==============================] - 5s 21ms/step - loss: 0.0085 - val_loss: 0.0092\n",
            "Epoch 20/20\n",
            "219/219 [==============================] - 4s 20ms/step - loss: 0.0083 - val_loss: 0.0091\n",
            "32/32 [==============================] - 0s 7ms/step - loss: 0.0090\n"
          ]
        },
        {
          "output_type": "execute_result",
          "data": {
            "text/plain": [
              "0.009018872864544392"
            ]
          },
          "metadata": {},
          "execution_count": 15
        }
      ]
    },
    {
      "cell_type": "code",
      "metadata": {
        "colab": {
          "base_uri": "https://localhost:8080/"
        },
        "id": "6lK1tCebtBlU",
        "outputId": "acbe82e6-cf1a-4f7b-e28c-8e112867a719"
      },
      "source": [
        "Y_pred = model4.predict(X_new)\n",
        "Y_pred"
      ],
      "execution_count": null,
      "outputs": [
        {
          "output_type": "execute_result",
          "data": {
            "text/plain": [
              "array([[-0.40595752, -0.4774492 , -0.5315476 , -0.5360212 , -0.52819437,\n",
              "        -0.42948094, -0.31891233, -0.17532636, -0.01147079,  0.1647091 ]],\n",
              "      dtype=float32)"
            ]
          },
          "metadata": {},
          "execution_count": 16
        }
      ]
    },
    {
      "cell_type": "code",
      "metadata": {
        "id": "zDUWOD0stGWE"
      },
      "source": [
        "n_steps = 50\n",
        "series = generate_time_series(10000, n_steps + 10)\n",
        "X_train = series[:7000, :n_steps]\n",
        "X_valid = series[7000:9000, :n_steps]\n",
        "X_test = series[9000:, :n_steps]\n",
        "Y = np.empty((10000, n_steps, 10))\n",
        "for step_ahead in range(1, 10 + 1):\n",
        "    Y[..., step_ahead - 1] = series[..., step_ahead:step_ahead + n_steps, 0]\n",
        "Y_train = Y[:7000]\n",
        "Y_valid = Y[7000:9000]\n",
        "Y_test = Y[9000:]"
      ],
      "execution_count": null,
      "outputs": []
    },
    {
      "cell_type": "code",
      "metadata": {
        "colab": {
          "base_uri": "https://localhost:8080/"
        },
        "id": "u-u0FjetuNRl",
        "outputId": "88f58f2a-4f3a-4827-8244-d2b0d45a62b3"
      },
      "source": [
        "X_train.shape, Y_train.shape"
      ],
      "execution_count": null,
      "outputs": [
        {
          "output_type": "execute_result",
          "data": {
            "text/plain": [
              "((7000, 50, 1), (7000, 50, 10))"
            ]
          },
          "metadata": {},
          "execution_count": 18
        }
      ]
    },
    {
      "cell_type": "code",
      "metadata": {
        "id": "xZFxZyA2uPLv"
      },
      "source": [
        "model5 = keras.Sequential([\n",
        "                           keras.layers.SimpleRNN(20,return_sequences=True,input_shape=[None,1]),\n",
        "                           keras.layers.SimpleRNN(20,return_sequences=True),\n",
        "                           keras.layers.TimeDistributed(keras.layers.Dense(10))\n",
        "])"
      ],
      "execution_count": null,
      "outputs": []
    },
    {
      "cell_type": "code",
      "metadata": {
        "id": "c-C_CDDauwHm"
      },
      "source": [
        "def last_time_step_mse (Y_true,Y_pred):\n",
        "  return keras.metrics.mean_squared_error(Y_true[:,-1] , Y_pred[:,-1])\n",
        "optimizer = keras.optimizers.Adam(0.01)\n",
        "model5.compile(optimizer=optimizer,loss='mse',metrics=[last_time_step_mse])"
      ],
      "execution_count": null,
      "outputs": []
    },
    {
      "cell_type": "code",
      "metadata": {
        "colab": {
          "base_uri": "https://localhost:8080/"
        },
        "id": "6w862x68vXWl",
        "outputId": "e529c3b5-b063-4b0e-b88c-8ed953b69105"
      },
      "source": [
        "history5 = model5.fit(X_train, Y_train, epochs=20,\n",
        "                    validation_data=(X_valid, Y_valid))"
      ],
      "execution_count": null,
      "outputs": [
        {
          "output_type": "stream",
          "name": "stdout",
          "text": [
            "Epoch 1/20\n",
            "219/219 [==============================] - 6s 22ms/step - loss: 0.0526 - last_time_step_mse: 0.0431 - val_loss: 0.0412 - val_last_time_step_mse: 0.0289\n",
            "Epoch 2/20\n",
            "219/219 [==============================] - 4s 20ms/step - loss: 0.0369 - last_time_step_mse: 0.0245 - val_loss: 0.0322 - val_last_time_step_mse: 0.0172\n",
            "Epoch 3/20\n",
            "219/219 [==============================] - 4s 20ms/step - loss: 0.0313 - last_time_step_mse: 0.0181 - val_loss: 0.0284 - val_last_time_step_mse: 0.0158\n",
            "Epoch 4/20\n",
            "219/219 [==============================] - 4s 20ms/step - loss: 0.0282 - last_time_step_mse: 0.0154 - val_loss: 0.0285 - val_last_time_step_mse: 0.0152\n",
            "Epoch 5/20\n",
            "219/219 [==============================] - 5s 21ms/step - loss: 0.0266 - last_time_step_mse: 0.0140 - val_loss: 0.0251 - val_last_time_step_mse: 0.0127\n",
            "Epoch 6/20\n",
            "219/219 [==============================] - 5s 21ms/step - loss: 0.0248 - last_time_step_mse: 0.0120 - val_loss: 0.0238 - val_last_time_step_mse: 0.0115\n",
            "Epoch 7/20\n",
            "219/219 [==============================] - 5s 21ms/step - loss: 0.0233 - last_time_step_mse: 0.0108 - val_loss: 0.0226 - val_last_time_step_mse: 0.0097\n",
            "Epoch 8/20\n",
            "219/219 [==============================] - 4s 20ms/step - loss: 0.0216 - last_time_step_mse: 0.0095 - val_loss: 0.0233 - val_last_time_step_mse: 0.0110\n",
            "Epoch 9/20\n",
            "219/219 [==============================] - 5s 21ms/step - loss: 0.0207 - last_time_step_mse: 0.0089 - val_loss: 0.0224 - val_last_time_step_mse: 0.0106\n",
            "Epoch 10/20\n",
            "219/219 [==============================] - 4s 20ms/step - loss: 0.0201 - last_time_step_mse: 0.0084 - val_loss: 0.0203 - val_last_time_step_mse: 0.0080\n",
            "Epoch 11/20\n",
            "219/219 [==============================] - 4s 20ms/step - loss: 0.0197 - last_time_step_mse: 0.0079 - val_loss: 0.0197 - val_last_time_step_mse: 0.0079\n",
            "Epoch 12/20\n",
            "219/219 [==============================] - 4s 21ms/step - loss: 0.0192 - last_time_step_mse: 0.0075 - val_loss: 0.0190 - val_last_time_step_mse: 0.0070\n",
            "Epoch 13/20\n",
            "219/219 [==============================] - 4s 20ms/step - loss: 0.0190 - last_time_step_mse: 0.0072 - val_loss: 0.0195 - val_last_time_step_mse: 0.0076\n",
            "Epoch 14/20\n",
            "219/219 [==============================] - 5s 21ms/step - loss: 0.0185 - last_time_step_mse: 0.0069 - val_loss: 0.0186 - val_last_time_step_mse: 0.0064\n",
            "Epoch 15/20\n",
            "219/219 [==============================] - 4s 20ms/step - loss: 0.0185 - last_time_step_mse: 0.0068 - val_loss: 0.0186 - val_last_time_step_mse: 0.0064\n",
            "Epoch 16/20\n",
            "219/219 [==============================] - 4s 20ms/step - loss: 0.0182 - last_time_step_mse: 0.0066 - val_loss: 0.0181 - val_last_time_step_mse: 0.0061\n",
            "Epoch 17/20\n",
            "219/219 [==============================] - 4s 21ms/step - loss: 0.0182 - last_time_step_mse: 0.0066 - val_loss: 0.0187 - val_last_time_step_mse: 0.0071\n",
            "Epoch 18/20\n",
            "219/219 [==============================] - 5s 21ms/step - loss: 0.0182 - last_time_step_mse: 0.0068 - val_loss: 0.0189 - val_last_time_step_mse: 0.0074\n",
            "Epoch 19/20\n",
            "219/219 [==============================] - 4s 21ms/step - loss: 0.0181 - last_time_step_mse: 0.0067 - val_loss: 0.0182 - val_last_time_step_mse: 0.0063\n",
            "Epoch 20/20\n",
            "219/219 [==============================] - 4s 20ms/step - loss: 0.0179 - last_time_step_mse: 0.0065 - val_loss: 0.0186 - val_last_time_step_mse: 0.0063\n"
          ]
        }
      ]
    },
    {
      "cell_type": "code",
      "metadata": {
        "id": "nYAnxaJtSu7c"
      },
      "source": [
        "class LNSimpleRNNCell (keras.layers.Layer):\n",
        "  def __init__(self,units,activation='tanh',**kwargs):\n",
        "    super().__init__(**kwargs)\n",
        "    self.state_size = units\n",
        "    self.output_size = units\n",
        "    self.simple_rnn_cell = keras.layers.SimpleRNNCell(units,activation=None)\n",
        "    self.layer_norm = keras.layers.LayerNormalization()\n",
        "    self.activation = keras.activations.get(activation)\n",
        "  def call(self,inputs,states):\n",
        "    outputs , new_states = self.simple_rnn_cell(inputs,states)\n",
        "    norm_outputs = self.activation(self.layer_norm(outputs))\n",
        "    return norm_outputs,[norm_outputs]"
      ],
      "execution_count": null,
      "outputs": []
    },
    {
      "cell_type": "code",
      "metadata": {
        "id": "soktFMSxZF5m"
      },
      "source": [
        "model6 = keras.Sequential([\n",
        "                           keras.layers.RNN(LNSimpleRNNCell(20),return_sequences=True,input_shape=[None,1]),\n",
        "                           keras.layers.RNN(LNSimpleRNNCell(20),return_sequences=True),\n",
        "                           keras.layers.TimeDistributed(keras.layers.Dense(10))\n",
        "])"
      ],
      "execution_count": null,
      "outputs": []
    },
    {
      "cell_type": "code",
      "metadata": {
        "colab": {
          "base_uri": "https://localhost:8080/",
          "height": 1000
        },
        "id": "0Jn34aaFZoBi",
        "outputId": "c6362a51-3269-414c-f5f8-637c5b89f2a2"
      },
      "source": [
        "model6.compile(loss=\"mse\", optimizer=\"adam\", metrics=[last_time_step_mse])\n",
        "#history6 = model6.fit(x_train,y_train,validation_data=(x_valid,y_valid),epochs=20)\n",
        "history6 = model6.fit(X_train, Y_train, epochs=20,\n",
        "                    validation_data=(X_valid, Y_valid))\n"
      ],
      "execution_count": null,
      "outputs": [
        {
          "output_type": "stream",
          "name": "stdout",
          "text": [
            "Epoch 1/20\n",
            "219/219 [==============================] - 13s 48ms/step - loss: 0.1246 - last_time_step_mse: 0.1145 - val_loss: 0.0584 - val_last_time_step_mse: 0.0518\n",
            "Epoch 2/20\n",
            "219/219 [==============================] - 9s 42ms/step - loss: 0.0540 - last_time_step_mse: 0.0475 - val_loss: 0.0501 - val_last_time_step_mse: 0.0444\n",
            "Epoch 3/20\n",
            "219/219 [==============================] - 10s 45ms/step - loss: 0.0466 - last_time_step_mse: 0.0411 - val_loss: 0.0451 - val_last_time_step_mse: 0.0404\n",
            "Epoch 4/20\n",
            "219/219 [==============================] - 9s 42ms/step - loss: 0.0423 - last_time_step_mse: 0.0376 - val_loss: 0.0409 - val_last_time_step_mse: 0.0373\n",
            "Epoch 5/20\n",
            "219/219 [==============================] - 9s 41ms/step - loss: 0.0420 - last_time_step_mse: 0.0367 - val_loss: 0.0422 - val_last_time_step_mse: 0.0358\n",
            "Epoch 6/20\n",
            "219/219 [==============================] - 9s 42ms/step - loss: 0.0389 - last_time_step_mse: 0.0335 - val_loss: 0.0376 - val_last_time_step_mse: 0.0321\n",
            "Epoch 7/20\n",
            "219/219 [==============================] - 9s 43ms/step - loss: 0.0362 - last_time_step_mse: 0.0303 - val_loss: 0.0347 - val_last_time_step_mse: 0.0264\n",
            "Epoch 8/20\n",
            "219/219 [==============================] - 9s 43ms/step - loss: 0.0337 - last_time_step_mse: 0.0252 - val_loss: 0.0329 - val_last_time_step_mse: 0.0232\n",
            "Epoch 9/20\n",
            "219/219 [==============================] - 9s 43ms/step - loss: 0.0323 - last_time_step_mse: 0.0230 - val_loss: 0.0313 - val_last_time_step_mse: 0.0212\n",
            "Epoch 10/20\n",
            "219/219 [==============================] - 9s 41ms/step - loss: 0.0312 - last_time_step_mse: 0.0212 - val_loss: 0.0307 - val_last_time_step_mse: 0.0202\n",
            "Epoch 11/20\n",
            "219/219 [==============================] - 9s 43ms/step - loss: 0.0306 - last_time_step_mse: 0.0201 - val_loss: 0.0300 - val_last_time_step_mse: 0.0192\n",
            "Epoch 12/20\n",
            "219/219 [==============================] - 9s 42ms/step - loss: 0.0298 - last_time_step_mse: 0.0189 - val_loss: 0.0299 - val_last_time_step_mse: 0.0173\n",
            "Epoch 13/20\n",
            "219/219 [==============================] - 10s 44ms/step - loss: 0.0293 - last_time_step_mse: 0.0181 - val_loss: 0.0291 - val_last_time_step_mse: 0.0182\n",
            "Epoch 14/20\n",
            "219/219 [==============================] - 9s 43ms/step - loss: 0.0287 - last_time_step_mse: 0.0173 - val_loss: 0.0284 - val_last_time_step_mse: 0.0152\n",
            "Epoch 15/20\n",
            "219/219 [==============================] - 10s 44ms/step - loss: 0.0287 - last_time_step_mse: 0.0173 - val_loss: 0.0295 - val_last_time_step_mse: 0.0159\n",
            "Epoch 16/20\n",
            "219/219 [==============================] - 9s 42ms/step - loss: 0.0323 - last_time_step_mse: 0.0198 - val_loss: 0.0388 - val_last_time_step_mse: 0.0293\n",
            "Epoch 17/20\n",
            "219/219 [==============================] - 9s 43ms/step - loss: 0.0318 - last_time_step_mse: 0.0202 - val_loss: 0.0297 - val_last_time_step_mse: 0.0169\n",
            "Epoch 18/20\n",
            "219/219 [==============================] - 9s 41ms/step - loss: 0.0287 - last_time_step_mse: 0.0159 - val_loss: 0.0277 - val_last_time_step_mse: 0.0141\n",
            "Epoch 19/20\n",
            "219/219 [==============================] - 9s 42ms/step - loss: 0.0278 - last_time_step_mse: 0.0153 - val_loss: 0.0269 - val_last_time_step_mse: 0.0143\n",
            "Epoch 20/20\n",
            "219/219 [==============================] - 9s 43ms/step - loss: 0.0275 - last_time_step_mse: 0.0153 - val_loss: 0.0266 - val_last_time_step_mse: 0.0144\n"
          ]
        },
        {
          "output_type": "error",
          "ename": "InvalidArgumentError",
          "evalue": "ignored",
          "traceback": [
            "\u001b[0;31m---------------------------------------------------------------------------\u001b[0m",
            "\u001b[0;31mInvalidArgumentError\u001b[0m                      Traceback (most recent call last)",
            "\u001b[0;32m<ipython-input-29-85f16625fd33>\u001b[0m in \u001b[0;36m<module>\u001b[0;34m()\u001b[0m\n\u001b[1;32m      3\u001b[0m history6 = model6.fit(X_train, Y_train, epochs=20,\n\u001b[1;32m      4\u001b[0m                     validation_data=(X_valid, Y_valid))\n\u001b[0;32m----> 5\u001b[0;31m \u001b[0mmodel6\u001b[0m\u001b[0;34m.\u001b[0m\u001b[0mevaluate\u001b[0m\u001b[0;34m(\u001b[0m\u001b[0mx_test\u001b[0m\u001b[0;34m,\u001b[0m\u001b[0my_test\u001b[0m\u001b[0;34m)\u001b[0m\u001b[0;34m\u001b[0m\u001b[0;34m\u001b[0m\u001b[0m\n\u001b[0m",
            "\u001b[0;32m/usr/local/lib/python3.7/dist-packages/keras/utils/traceback_utils.py\u001b[0m in \u001b[0;36merror_handler\u001b[0;34m(*args, **kwargs)\u001b[0m\n\u001b[1;32m     65\u001b[0m     \u001b[0;32mexcept\u001b[0m \u001b[0mException\u001b[0m \u001b[0;32mas\u001b[0m \u001b[0me\u001b[0m\u001b[0;34m:\u001b[0m  \u001b[0;31m# pylint: disable=broad-except\u001b[0m\u001b[0;34m\u001b[0m\u001b[0;34m\u001b[0m\u001b[0m\n\u001b[1;32m     66\u001b[0m       \u001b[0mfiltered_tb\u001b[0m \u001b[0;34m=\u001b[0m \u001b[0m_process_traceback_frames\u001b[0m\u001b[0;34m(\u001b[0m\u001b[0me\u001b[0m\u001b[0;34m.\u001b[0m\u001b[0m__traceback__\u001b[0m\u001b[0;34m)\u001b[0m\u001b[0;34m\u001b[0m\u001b[0;34m\u001b[0m\u001b[0m\n\u001b[0;32m---> 67\u001b[0;31m       \u001b[0;32mraise\u001b[0m \u001b[0me\u001b[0m\u001b[0;34m.\u001b[0m\u001b[0mwith_traceback\u001b[0m\u001b[0;34m(\u001b[0m\u001b[0mfiltered_tb\u001b[0m\u001b[0;34m)\u001b[0m \u001b[0;32mfrom\u001b[0m \u001b[0;32mNone\u001b[0m\u001b[0;34m\u001b[0m\u001b[0;34m\u001b[0m\u001b[0m\n\u001b[0m\u001b[1;32m     68\u001b[0m     \u001b[0;32mfinally\u001b[0m\u001b[0;34m:\u001b[0m\u001b[0;34m\u001b[0m\u001b[0;34m\u001b[0m\u001b[0m\n\u001b[1;32m     69\u001b[0m       \u001b[0;32mdel\u001b[0m \u001b[0mfiltered_tb\u001b[0m\u001b[0;34m\u001b[0m\u001b[0;34m\u001b[0m\u001b[0m\n",
            "\u001b[0;32m/usr/local/lib/python3.7/dist-packages/tensorflow/python/eager/execute.py\u001b[0m in \u001b[0;36mquick_execute\u001b[0;34m(op_name, num_outputs, inputs, attrs, ctx, name)\u001b[0m\n\u001b[1;32m     57\u001b[0m     \u001b[0mctx\u001b[0m\u001b[0;34m.\u001b[0m\u001b[0mensure_initialized\u001b[0m\u001b[0;34m(\u001b[0m\u001b[0;34m)\u001b[0m\u001b[0;34m\u001b[0m\u001b[0;34m\u001b[0m\u001b[0m\n\u001b[1;32m     58\u001b[0m     tensors = pywrap_tfe.TFE_Py_Execute(ctx._handle, device_name, op_name,\n\u001b[0;32m---> 59\u001b[0;31m                                         inputs, attrs, num_outputs)\n\u001b[0m\u001b[1;32m     60\u001b[0m   \u001b[0;32mexcept\u001b[0m \u001b[0mcore\u001b[0m\u001b[0;34m.\u001b[0m\u001b[0m_NotOkStatusException\u001b[0m \u001b[0;32mas\u001b[0m \u001b[0me\u001b[0m\u001b[0;34m:\u001b[0m\u001b[0;34m\u001b[0m\u001b[0;34m\u001b[0m\u001b[0m\n\u001b[1;32m     61\u001b[0m     \u001b[0;32mif\u001b[0m \u001b[0mname\u001b[0m \u001b[0;32mis\u001b[0m \u001b[0;32mnot\u001b[0m \u001b[0;32mNone\u001b[0m\u001b[0;34m:\u001b[0m\u001b[0;34m\u001b[0m\u001b[0;34m\u001b[0m\u001b[0m\n",
            "\u001b[0;31mInvalidArgumentError\u001b[0m:  Incompatible shapes: [32,10] vs. [32,50,10]\n\t [[node mean_squared_error/SquaredDifference\n (defined at /usr/local/lib/python3.7/dist-packages/keras/losses.py:1204)\n]] [Op:__inference_test_function_142309]\n\nErrors may have originated from an input operation.\nInput Source operations connected to node mean_squared_error/SquaredDifference:\nIn[0] sequential_5/time_distributed_1/Reshape_1 (defined at /usr/local/lib/python3.7/dist-packages/keras/layers/wrappers.py:275)\t\nIn[1] IteratorGetNext (defined at /usr/local/lib/python3.7/dist-packages/keras/engine/training.py:1355)\n\nOperation defined at: (most recent call last)\n>>>   File \"/usr/lib/python3.7/runpy.py\", line 193, in _run_module_as_main\n>>>     \"__main__\", mod_spec)\n>>> \n>>>   File \"/usr/lib/python3.7/runpy.py\", line 85, in _run_code\n>>>     exec(code, run_globals)\n>>> \n>>>   File \"/usr/local/lib/python3.7/dist-packages/ipykernel_launcher.py\", line 16, in <module>\n>>>     app.launch_new_instance()\n>>> \n>>>   File \"/usr/local/lib/python3.7/dist-packages/traitlets/config/application.py\", line 846, in launch_instance\n>>>     app.start()\n>>> \n>>>   File \"/usr/local/lib/python3.7/dist-packages/ipykernel/kernelapp.py\", line 499, in start\n>>>     self.io_loop.start()\n>>> \n>>>   File \"/usr/local/lib/python3.7/dist-packages/tornado/platform/asyncio.py\", line 132, in start\n>>>     self.asyncio_loop.run_forever()\n>>> \n>>>   File \"/usr/lib/python3.7/asyncio/base_events.py\", line 541, in run_forever\n>>>     self._run_once()\n>>> \n>>>   File \"/usr/lib/python3.7/asyncio/base_events.py\", line 1786, in _run_once\n>>>     handle._run()\n>>> \n>>>   File \"/usr/lib/python3.7/asyncio/events.py\", line 88, in _run\n>>>     self._context.run(self._callback, *self._args)\n>>> \n>>>   File \"/usr/local/lib/python3.7/dist-packages/tornado/platform/asyncio.py\", line 122, in _handle_events\n>>>     handler_func(fileobj, events)\n>>> \n>>>   File \"/usr/local/lib/python3.7/dist-packages/tornado/stack_context.py\", line 300, in null_wrapper\n>>>     return fn(*args, **kwargs)\n>>> \n>>>   File \"/usr/local/lib/python3.7/dist-packages/zmq/eventloop/zmqstream.py\", line 452, in _handle_events\n>>>     self._handle_recv()\n>>> \n>>>   File \"/usr/local/lib/python3.7/dist-packages/zmq/eventloop/zmqstream.py\", line 481, in _handle_recv\n>>>     self._run_callback(callback, msg)\n>>> \n>>>   File \"/usr/local/lib/python3.7/dist-packages/zmq/eventloop/zmqstream.py\", line 431, in _run_callback\n>>>     callback(*args, **kwargs)\n>>> \n>>>   File \"/usr/local/lib/python3.7/dist-packages/tornado/stack_context.py\", line 300, in null_wrapper\n>>>     return fn(*args, **kwargs)\n>>> \n>>>   File \"/usr/local/lib/python3.7/dist-packages/ipykernel/kernelbase.py\", line 283, in dispatcher\n>>>     return self.dispatch_shell(stream, msg)\n>>> \n>>>   File \"/usr/local/lib/python3.7/dist-packages/ipykernel/kernelbase.py\", line 233, in dispatch_shell\n>>>     handler(stream, idents, msg)\n>>> \n>>>   File \"/usr/local/lib/python3.7/dist-packages/ipykernel/kernelbase.py\", line 399, in execute_request\n>>>     user_expressions, allow_stdin)\n>>> \n>>>   File \"/usr/local/lib/python3.7/dist-packages/ipykernel/ipkernel.py\", line 208, in do_execute\n>>>     res = shell.run_cell(code, store_history=store_history, silent=silent)\n>>> \n>>>   File \"/usr/local/lib/python3.7/dist-packages/ipykernel/zmqshell.py\", line 537, in run_cell\n>>>     return super(ZMQInteractiveShell, self).run_cell(*args, **kwargs)\n>>> \n>>>   File \"/usr/local/lib/python3.7/dist-packages/IPython/core/interactiveshell.py\", line 2718, in run_cell\n>>>     interactivity=interactivity, compiler=compiler, result=result)\n>>> \n>>>   File \"/usr/local/lib/python3.7/dist-packages/IPython/core/interactiveshell.py\", line 2828, in run_ast_nodes\n>>>     if self.run_code(code, result):\n>>> \n>>>   File \"/usr/local/lib/python3.7/dist-packages/IPython/core/interactiveshell.py\", line 2882, in run_code\n>>>     exec(code_obj, self.user_global_ns, self.user_ns)\n>>> \n>>>   File \"<ipython-input-29-85f16625fd33>\", line 5, in <module>\n>>>     model6.evaluate(x_test,y_test)\n>>> \n>>>   File \"/usr/local/lib/python3.7/dist-packages/keras/utils/traceback_utils.py\", line 64, in error_handler\n>>>     return fn(*args, **kwargs)\n>>> \n>>>   File \"/usr/local/lib/python3.7/dist-packages/keras/engine/training.py\", line 1537, in evaluate\n>>>     tmp_logs = self.test_function(iterator)\n>>> \n>>>   File \"/usr/local/lib/python3.7/dist-packages/keras/engine/training.py\", line 1366, in test_function\n>>>     return step_function(self, iterator)\n>>> \n>>>   File \"/usr/local/lib/python3.7/dist-packages/keras/engine/training.py\", line 1356, in step_function\n>>>     outputs = model.distribute_strategy.run(run_step, args=(data,))\n>>> \n>>>   File \"/usr/local/lib/python3.7/dist-packages/keras/engine/training.py\", line 1349, in run_step\n>>>     outputs = model.test_step(data)\n>>> \n>>>   File \"/usr/local/lib/python3.7/dist-packages/keras/engine/training.py\", line 1306, in test_step\n>>>     y, y_pred, sample_weight, regularization_losses=self.losses)\n>>> \n>>>   File \"/usr/local/lib/python3.7/dist-packages/keras/engine/compile_utils.py\", line 201, in __call__\n>>>     loss_value = loss_obj(y_t, y_p, sample_weight=sw)\n>>> \n>>>   File \"/usr/local/lib/python3.7/dist-packages/keras/losses.py\", line 141, in __call__\n>>>     losses = call_fn(y_true, y_pred)\n>>> \n>>>   File \"/usr/local/lib/python3.7/dist-packages/keras/losses.py\", line 245, in call\n>>>     return ag_fn(y_true, y_pred, **self._fn_kwargs)\n>>> \n>>>   File \"/usr/local/lib/python3.7/dist-packages/keras/losses.py\", line 1204, in mean_squared_error\n>>>     return backend.mean(tf.math.squared_difference(y_pred, y_true), axis=-1)\n>>> "
          ]
        }
      ]
    },
    {
      "cell_type": "code",
      "metadata": {
        "colab": {
          "base_uri": "https://localhost:8080/"
        },
        "id": "ngcOIVECaxqd",
        "outputId": "1b980197-d9e5-4475-8bfe-5b39abf314c9"
      },
      "source": [
        "model7 = keras.Sequential([\n",
        "                           keras.layers.LSTM(20,return_sequences=True,input_shape=[50,1]),\n",
        "                           keras.layers.LSTM(20,return_sequences=True),\n",
        "                           keras.layers.TimeDistributed(keras.layers.Dense(10))\n",
        "])\n",
        "model7.compile(loss=\"mse\", optimizer=\"adam\", metrics=[last_time_step_mse])\n",
        "history7 = model7.fit(X_train, Y_train, epochs=20,validation_data=(X_valid, Y_valid))                    "
      ],
      "execution_count": null,
      "outputs": [
        {
          "output_type": "stream",
          "name": "stdout",
          "text": [
            "Epoch 1/20\n",
            "219/219 [==============================] - 15s 50ms/step - loss: 0.0765 - last_time_step_mse: 0.0630 - val_loss: 0.0535 - val_last_time_step_mse: 0.0329\n",
            "Epoch 2/20\n",
            "219/219 [==============================] - 10s 45ms/step - loss: 0.0455 - last_time_step_mse: 0.0238 - val_loss: 0.0412 - val_last_time_step_mse: 0.0176\n",
            "Epoch 3/20\n",
            "219/219 [==============================] - 9s 43ms/step - loss: 0.0376 - last_time_step_mse: 0.0160 - val_loss: 0.0360 - val_last_time_step_mse: 0.0149\n",
            "Epoch 4/20\n",
            "219/219 [==============================] - 9s 43ms/step - loss: 0.0345 - last_time_step_mse: 0.0144 - val_loss: 0.0340 - val_last_time_step_mse: 0.0143\n",
            "Epoch 5/20\n",
            "219/219 [==============================] - 9s 41ms/step - loss: 0.0327 - last_time_step_mse: 0.0136 - val_loss: 0.0321 - val_last_time_step_mse: 0.0133\n",
            "Epoch 6/20\n",
            "219/219 [==============================] - 10s 45ms/step - loss: 0.0313 - last_time_step_mse: 0.0131 - val_loss: 0.0309 - val_last_time_step_mse: 0.0123\n",
            "Epoch 7/20\n",
            "219/219 [==============================] - 10s 44ms/step - loss: 0.0303 - last_time_step_mse: 0.0127 - val_loss: 0.0300 - val_last_time_step_mse: 0.0121\n",
            "Epoch 8/20\n",
            "219/219 [==============================] - 9s 43ms/step - loss: 0.0295 - last_time_step_mse: 0.0125 - val_loss: 0.0290 - val_last_time_step_mse: 0.0120\n",
            "Epoch 9/20\n",
            "219/219 [==============================] - 9s 41ms/step - loss: 0.0286 - last_time_step_mse: 0.0120 - val_loss: 0.0285 - val_last_time_step_mse: 0.0124\n",
            "Epoch 10/20\n",
            "219/219 [==============================] - 9s 43ms/step - loss: 0.0280 - last_time_step_mse: 0.0116 - val_loss: 0.0278 - val_last_time_step_mse: 0.0111\n",
            "Epoch 11/20\n",
            "219/219 [==============================] - 10s 45ms/step - loss: 0.0274 - last_time_step_mse: 0.0112 - val_loss: 0.0272 - val_last_time_step_mse: 0.0112\n",
            "Epoch 12/20\n",
            "219/219 [==============================] - 9s 43ms/step - loss: 0.0268 - last_time_step_mse: 0.0108 - val_loss: 0.0269 - val_last_time_step_mse: 0.0101\n",
            "Epoch 13/20\n",
            "219/219 [==============================] - 9s 42ms/step - loss: 0.0264 - last_time_step_mse: 0.0105 - val_loss: 0.0265 - val_last_time_step_mse: 0.0098\n",
            "Epoch 14/20\n",
            "219/219 [==============================] - 10s 44ms/step - loss: 0.0260 - last_time_step_mse: 0.0100 - val_loss: 0.0262 - val_last_time_step_mse: 0.0101\n",
            "Epoch 15/20\n",
            "219/219 [==============================] - 9s 42ms/step - loss: 0.0257 - last_time_step_mse: 0.0100 - val_loss: 0.0255 - val_last_time_step_mse: 0.0093\n",
            "Epoch 16/20\n",
            "219/219 [==============================] - 9s 42ms/step - loss: 0.0252 - last_time_step_mse: 0.0095 - val_loss: 0.0252 - val_last_time_step_mse: 0.0091\n",
            "Epoch 17/20\n",
            "219/219 [==============================] - 10s 44ms/step - loss: 0.0249 - last_time_step_mse: 0.0093 - val_loss: 0.0249 - val_last_time_step_mse: 0.0089\n",
            "Epoch 18/20\n",
            "219/219 [==============================] - 9s 42ms/step - loss: 0.0246 - last_time_step_mse: 0.0090 - val_loss: 0.0251 - val_last_time_step_mse: 0.0100\n",
            "Epoch 19/20\n",
            "219/219 [==============================] - 9s 42ms/step - loss: 0.0243 - last_time_step_mse: 0.0088 - val_loss: 0.0243 - val_last_time_step_mse: 0.0083\n",
            "Epoch 20/20\n",
            "219/219 [==============================] - 9s 43ms/step - loss: 0.0240 - last_time_step_mse: 0.0086 - val_loss: 0.0240 - val_last_time_step_mse: 0.0080\n"
          ]
        }
      ]
    },
    {
      "cell_type": "code",
      "metadata": {
        "colab": {
          "base_uri": "https://localhost:8080/"
        },
        "id": "PcsRUn6waHvL",
        "outputId": "804bc5d3-122e-43dc-d10c-536a2c27ea83"
      },
      "source": [
        "model8 = keras.Sequential([\n",
        "                           keras.layers.Conv1D(filters=20,kernel_size=4,strides=2,padding='valid',input_shape=[None,1]),\n",
        "                           keras.layers.GRU(20,return_sequences=True),\n",
        "                           keras.layers.GRU(20,return_sequences=True),\n",
        "                           keras.layers.TimeDistributed(keras.layers.Dense(10))\n",
        "])\n",
        "model7.compile(loss=\"mse\", optimizer=\"adam\", metrics=[last_time_step_mse])\n",
        "history7 = model7.fit(X_train, Y_train, epochs=20,validation_data=(X_valid, Y_valid)) "
      ],
      "execution_count": null,
      "outputs": [
        {
          "output_type": "stream",
          "name": "stdout",
          "text": [
            "Epoch 1/20\n",
            "219/219 [==============================] - 14s 46ms/step - loss: 0.0239 - last_time_step_mse: 0.0086 - val_loss: 0.0238 - val_last_time_step_mse: 0.0081\n",
            "Epoch 2/20\n",
            "219/219 [==============================] - 9s 41ms/step - loss: 0.0235 - last_time_step_mse: 0.0082 - val_loss: 0.0235 - val_last_time_step_mse: 0.0077\n",
            "Epoch 3/20\n",
            "219/219 [==============================] - 9s 42ms/step - loss: 0.0231 - last_time_step_mse: 0.0077 - val_loss: 0.0237 - val_last_time_step_mse: 0.0085\n",
            "Epoch 4/20\n",
            "219/219 [==============================] - 9s 41ms/step - loss: 0.0227 - last_time_step_mse: 0.0072 - val_loss: 0.0225 - val_last_time_step_mse: 0.0065\n",
            "Epoch 5/20\n",
            "219/219 [==============================] - 9s 42ms/step - loss: 0.0220 - last_time_step_mse: 0.0063 - val_loss: 0.0220 - val_last_time_step_mse: 0.0059\n",
            "Epoch 6/20\n",
            "219/219 [==============================] - 9s 42ms/step - loss: 0.0217 - last_time_step_mse: 0.0062 - val_loss: 0.0218 - val_last_time_step_mse: 0.0062\n",
            "Epoch 7/20\n",
            "219/219 [==============================] - 9s 42ms/step - loss: 0.0213 - last_time_step_mse: 0.0060 - val_loss: 0.0214 - val_last_time_step_mse: 0.0056\n",
            "Epoch 8/20\n",
            "219/219 [==============================] - 9s 42ms/step - loss: 0.0208 - last_time_step_mse: 0.0057 - val_loss: 0.0208 - val_last_time_step_mse: 0.0052\n",
            "Epoch 9/20\n",
            "219/219 [==============================] - 9s 41ms/step - loss: 0.0205 - last_time_step_mse: 0.0055 - val_loss: 0.0206 - val_last_time_step_mse: 0.0053\n",
            "Epoch 10/20\n",
            "219/219 [==============================] - 9s 40ms/step - loss: 0.0202 - last_time_step_mse: 0.0054 - val_loss: 0.0204 - val_last_time_step_mse: 0.0053\n",
            "Epoch 11/20\n",
            "219/219 [==============================] - 9s 41ms/step - loss: 0.0199 - last_time_step_mse: 0.0052 - val_loss: 0.0199 - val_last_time_step_mse: 0.0055\n",
            "Epoch 12/20\n",
            "219/219 [==============================] - 9s 42ms/step - loss: 0.0196 - last_time_step_mse: 0.0050 - val_loss: 0.0200 - val_last_time_step_mse: 0.0051\n",
            "Epoch 13/20\n",
            "219/219 [==============================] - 9s 42ms/step - loss: 0.0193 - last_time_step_mse: 0.0048 - val_loss: 0.0195 - val_last_time_step_mse: 0.0050\n",
            "Epoch 14/20\n",
            "219/219 [==============================] - 9s 40ms/step - loss: 0.0191 - last_time_step_mse: 0.0047 - val_loss: 0.0194 - val_last_time_step_mse: 0.0049\n",
            "Epoch 15/20\n",
            "219/219 [==============================] - 10s 45ms/step - loss: 0.0189 - last_time_step_mse: 0.0047 - val_loss: 0.0190 - val_last_time_step_mse: 0.0044\n",
            "Epoch 16/20\n",
            "219/219 [==============================] - 9s 43ms/step - loss: 0.0187 - last_time_step_mse: 0.0046 - val_loss: 0.0186 - val_last_time_step_mse: 0.0044\n",
            "Epoch 17/20\n",
            "219/219 [==============================] - 9s 40ms/step - loss: 0.0184 - last_time_step_mse: 0.0044 - val_loss: 0.0185 - val_last_time_step_mse: 0.0043\n",
            "Epoch 18/20\n",
            "219/219 [==============================] - 9s 43ms/step - loss: 0.0182 - last_time_step_mse: 0.0042 - val_loss: 0.0185 - val_last_time_step_mse: 0.0042\n",
            "Epoch 19/20\n",
            "219/219 [==============================] - 10s 43ms/step - loss: 0.0181 - last_time_step_mse: 0.0043 - val_loss: 0.0182 - val_last_time_step_mse: 0.0041\n",
            "Epoch 20/20\n",
            "219/219 [==============================] - 9s 42ms/step - loss: 0.0179 - last_time_step_mse: 0.0043 - val_loss: 0.0179 - val_last_time_step_mse: 0.0041\n"
          ]
        }
      ]
    },
    {
      "cell_type": "code",
      "metadata": {
        "colab": {
          "base_uri": "https://localhost:8080/"
        },
        "id": "OGk8GKCefAjj",
        "outputId": "8cd9092e-1003-4e4f-dc1e-e5a37f9a36dd"
      },
      "source": [
        "for rate in (1,2,4,8) * 2:\n",
        "  print(rate)"
      ],
      "execution_count": null,
      "outputs": [
        {
          "output_type": "stream",
          "name": "stdout",
          "text": [
            "1\n",
            "2\n",
            "4\n",
            "8\n",
            "1\n",
            "2\n",
            "4\n",
            "8\n"
          ]
        }
      ]
    },
    {
      "cell_type": "code",
      "metadata": {
        "colab": {
          "base_uri": "https://localhost:8080/"
        },
        "id": "cD-C3-T_d5tK",
        "outputId": "be8573f6-b674-4fef-98e6-b1b24ae239ef"
      },
      "source": [
        "model8 = keras.models.Sequential()\n",
        "model8.add(keras.layers.InputLayer(input_shape=[None,1]))\n",
        "for rate in (1,2,4,8) * 2:\n",
        "  model8.add(keras.layers.Conv1D(filters=20,kernel_size=2,padding='causal',activation='relu',dilation_rate=rate))\n",
        "model8.add(keras.layers.Conv1D(filters=10,kernel_size=1))\n",
        "model8.compile(loss=\"mse\", optimizer=\"adam\", metrics=[last_time_step_mse])\n",
        "history8 = model8.fit(X_train, Y_train, epochs=20,validation_data=(X_valid, Y_valid)) "
      ],
      "execution_count": null,
      "outputs": [
        {
          "output_type": "stream",
          "name": "stdout",
          "text": [
            "Epoch 1/20\n",
            "219/219 [==============================] - 5s 15ms/step - loss: 0.0654 - last_time_step_mse: 0.0527 - val_loss: 0.0362 - val_last_time_step_mse: 0.0215\n",
            "Epoch 2/20\n",
            "219/219 [==============================] - 3s 15ms/step - loss: 0.0325 - last_time_step_mse: 0.0190 - val_loss: 0.0301 - val_last_time_step_mse: 0.0166\n",
            "Epoch 3/20\n",
            "219/219 [==============================] - 3s 14ms/step - loss: 0.0285 - last_time_step_mse: 0.0162 - val_loss: 0.0274 - val_last_time_step_mse: 0.0146\n",
            "Epoch 4/20\n",
            "219/219 [==============================] - 3s 14ms/step - loss: 0.0266 - last_time_step_mse: 0.0145 - val_loss: 0.0268 - val_last_time_step_mse: 0.0144\n",
            "Epoch 5/20\n",
            "219/219 [==============================] - 3s 15ms/step - loss: 0.0253 - last_time_step_mse: 0.0133 - val_loss: 0.0248 - val_last_time_step_mse: 0.0125\n",
            "Epoch 6/20\n",
            "219/219 [==============================] - 3s 14ms/step - loss: 0.0246 - last_time_step_mse: 0.0129 - val_loss: 0.0249 - val_last_time_step_mse: 0.0134\n",
            "Epoch 7/20\n",
            "219/219 [==============================] - 3s 14ms/step - loss: 0.0239 - last_time_step_mse: 0.0123 - val_loss: 0.0236 - val_last_time_step_mse: 0.0118\n",
            "Epoch 8/20\n",
            "219/219 [==============================] - 3s 14ms/step - loss: 0.0232 - last_time_step_mse: 0.0116 - val_loss: 0.0230 - val_last_time_step_mse: 0.0111\n",
            "Epoch 9/20\n",
            "219/219 [==============================] - 3s 16ms/step - loss: 0.0227 - last_time_step_mse: 0.0111 - val_loss: 0.0232 - val_last_time_step_mse: 0.0113\n",
            "Epoch 10/20\n",
            "219/219 [==============================] - 3s 15ms/step - loss: 0.0224 - last_time_step_mse: 0.0109 - val_loss: 0.0224 - val_last_time_step_mse: 0.0106\n",
            "Epoch 11/20\n",
            "219/219 [==============================] - 3s 15ms/step - loss: 0.0220 - last_time_step_mse: 0.0107 - val_loss: 0.0218 - val_last_time_step_mse: 0.0100\n",
            "Epoch 12/20\n",
            "219/219 [==============================] - 3s 15ms/step - loss: 0.0217 - last_time_step_mse: 0.0104 - val_loss: 0.0217 - val_last_time_step_mse: 0.0097\n",
            "Epoch 13/20\n",
            "219/219 [==============================] - 3s 14ms/step - loss: 0.0213 - last_time_step_mse: 0.0098 - val_loss: 0.0214 - val_last_time_step_mse: 0.0100\n",
            "Epoch 14/20\n",
            "219/219 [==============================] - 3s 14ms/step - loss: 0.0212 - last_time_step_mse: 0.0098 - val_loss: 0.0209 - val_last_time_step_mse: 0.0092\n",
            "Epoch 15/20\n",
            "219/219 [==============================] - 3s 14ms/step - loss: 0.0207 - last_time_step_mse: 0.0094 - val_loss: 0.0206 - val_last_time_step_mse: 0.0090\n",
            "Epoch 16/20\n",
            "219/219 [==============================] - 3s 15ms/step - loss: 0.0205 - last_time_step_mse: 0.0092 - val_loss: 0.0215 - val_last_time_step_mse: 0.0106\n",
            "Epoch 17/20\n",
            "219/219 [==============================] - 3s 15ms/step - loss: 0.0204 - last_time_step_mse: 0.0092 - val_loss: 0.0203 - val_last_time_step_mse: 0.0086\n",
            "Epoch 18/20\n",
            "219/219 [==============================] - 3s 14ms/step - loss: 0.0203 - last_time_step_mse: 0.0091 - val_loss: 0.0203 - val_last_time_step_mse: 0.0089\n",
            "Epoch 19/20\n",
            "219/219 [==============================] - 3s 14ms/step - loss: 0.0200 - last_time_step_mse: 0.0089 - val_loss: 0.0201 - val_last_time_step_mse: 0.0087\n",
            "Epoch 20/20\n",
            "219/219 [==============================] - 3s 15ms/step - loss: 0.0197 - last_time_step_mse: 0.0085 - val_loss: 0.0200 - val_last_time_step_mse: 0.0083\n"
          ]
        }
      ]
    },
    {
      "cell_type": "code",
      "metadata": {
        "id": "NRg60QSuf5MY"
      },
      "source": [
        ""
      ],
      "execution_count": null,
      "outputs": []
    }
  ]
}