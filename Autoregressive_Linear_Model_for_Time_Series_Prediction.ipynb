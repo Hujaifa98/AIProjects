{
  "nbformat": 4,
  "nbformat_minor": 0,
  "metadata": {
    "colab": {
      "name": "Autoregressive Linear Model for Time Series Prediction.ipynb",
      "provenance": [],
      "authorship_tag": "ABX9TyMs5xuhU5miUk5Hg3F1rbLB",
      "include_colab_link": true
    },
    "kernelspec": {
      "name": "python3",
      "display_name": "Python 3"
    }
  },
  "cells": [
    {
      "cell_type": "markdown",
      "metadata": {
        "id": "view-in-github",
        "colab_type": "text"
      },
      "source": [
        "<a href=\"https://colab.research.google.com/github/Hujaifa98/AIProjects/blob/main/Autoregressive_Linear_Model_for_Time_Series_Prediction.ipynb\" target=\"_parent\"><img src=\"https://colab.research.google.com/assets/colab-badge.svg\" alt=\"Open In Colab\"/></a>"
      ]
    },
    {
      "cell_type": "code",
      "metadata": {
        "id": "sVXSa8QXT_Sc"
      },
      "source": [
        "import tensorflow as tf\n",
        "import numpy as np\n",
        "import pandas as pd\n",
        "import matplotlib.pyplot as plt\n",
        "from tensorflow.keras.layers import Input, Dense\n",
        "from tensorflow.keras.models import Model\n",
        "from tensorflow.keras.optimizers import SGD, Adam"
      ],
      "execution_count": null,
      "outputs": []
    },
    {
      "cell_type": "code",
      "metadata": {
        "id": "4lmeMYscUjB8",
        "colab": {
          "base_uri": "https://localhost:8080/",
          "height": 595
        },
        "outputId": "87fbd2be-1531-446c-f419-ed064477156b"
      },
      "source": [
        "series = np.sin(0.1*np.arange(200))\n",
        "print(series)"
      ],
      "execution_count": null,
      "outputs": [
        {
          "output_type": "stream",
          "text": [
            "[ 0.          0.09983342  0.19866933  0.29552021  0.38941834  0.47942554\n",
            "  0.56464247  0.64421769  0.71735609  0.78332691  0.84147098  0.89120736\n",
            "  0.93203909  0.96355819  0.98544973  0.99749499  0.9995736   0.99166481\n",
            "  0.97384763  0.94630009  0.90929743  0.86320937  0.8084964   0.74570521\n",
            "  0.67546318  0.59847214  0.51550137  0.42737988  0.33498815  0.23924933\n",
            "  0.14112001  0.04158066 -0.05837414 -0.15774569 -0.2555411  -0.35078323\n",
            " -0.44252044 -0.52983614 -0.61185789 -0.68776616 -0.7568025  -0.81827711\n",
            " -0.87157577 -0.91616594 -0.95160207 -0.97753012 -0.993691   -0.99992326\n",
            " -0.99616461 -0.98245261 -0.95892427 -0.92581468 -0.88345466 -0.83226744\n",
            " -0.77276449 -0.70554033 -0.63126664 -0.55068554 -0.46460218 -0.37387666\n",
            " -0.2794155  -0.1821625  -0.0830894   0.0168139   0.1165492   0.21511999\n",
            "  0.31154136  0.40484992  0.49411335  0.57843976  0.6569866   0.72896904\n",
            "  0.79366786  0.85043662  0.8987081   0.93799998  0.96791967  0.98816823\n",
            "  0.99854335  0.99894134  0.98935825  0.96988981  0.94073056  0.90217183\n",
            "  0.85459891  0.79848711  0.7343971   0.66296923  0.58491719  0.50102086\n",
            "  0.41211849  0.31909836  0.22288991  0.12445442  0.02477543 -0.07515112\n",
            " -0.17432678 -0.27176063 -0.36647913 -0.45753589 -0.54402111 -0.62507065\n",
            " -0.69987469 -0.76768581 -0.82782647 -0.87969576 -0.92277542 -0.95663502\n",
            " -0.98093623 -0.99543625 -0.99999021 -0.99455259 -0.97917773 -0.95401925\n",
            " -0.91932853 -0.87545217 -0.82282859 -0.76198358 -0.69352508 -0.61813711\n",
            " -0.53657292 -0.44964746 -0.35822928 -0.26323179 -0.16560418 -0.0663219\n",
            "  0.03362305  0.13323204  0.23150983  0.32747444  0.42016704  0.50866146\n",
            "  0.59207351  0.66956976  0.74037589  0.80378443  0.85916181  0.90595474\n",
            "  0.94369567  0.9720075   0.99060736  0.99930939  0.99802665  0.98677196\n",
            "  0.96565778  0.93489506  0.89479117  0.84574683  0.78825207  0.72288135\n",
            "  0.65028784  0.57119687  0.48639869  0.39674057  0.30311836  0.20646748\n",
            "  0.10775365  0.00796318 -0.09190685 -0.19085858 -0.28790332 -0.38207142\n",
            " -0.47242199 -0.55805227 -0.63810668 -0.71178534 -0.77835208 -0.83714178\n",
            " -0.88756703 -0.92912401 -0.96139749 -0.98406501 -0.99690007 -0.99977443\n",
            " -0.99265938 -0.97562601 -0.9488445  -0.91258245 -0.86720218 -0.81315711\n",
            " -0.75098725 -0.68131377 -0.60483282 -0.52230859 -0.43456562 -0.34248062\n",
            " -0.24697366 -0.14899903 -0.04953564  0.05042269  0.14987721  0.24783421\n",
            "  0.34331493  0.43536536  0.52306577  0.60553987  0.68196362  0.75157342\n",
            "  0.81367374  0.8676441 ]\n"
          ],
          "name": "stdout"
        }
      ]
    },
    {
      "cell_type": "code",
      "metadata": {
        "id": "z1yVIT_JU7tr",
        "colab": {
          "base_uri": "https://localhost:8080/",
          "height": 265
        },
        "outputId": "67a26b33-07b8-4cb3-898d-2c09b426b26c"
      },
      "source": [
        "plt.plot(series)\n",
        "plt.show()"
      ],
      "execution_count": null,
      "outputs": [
        {
          "output_type": "display_data",
          "data": {
            "image/png": "[encoded data removed]",
            "text/plain": [
              "<Figure size 432x288 with 1 Axes>"
            ]
          },
          "metadata": {
            "tags": [],
            "needs_background": "light"
          }
        }
      ]
    },
    {
      "cell_type": "code",
      "metadata": {
        "id": "8PiKYBMbV3x4",
        "colab": {
          "base_uri": "https://localhost:8080/",
          "height": 34
        },
        "outputId": "2498992e-f15c-4609-bf4b-dc54e04f0a74"
      },
      "source": [
        "series.shape"
      ],
      "execution_count": null,
      "outputs": [
        {
          "output_type": "execute_result",
          "data": {
            "text/plain": [
              "(200,)"
            ]
          },
          "metadata": {
            "tags": []
          },
          "execution_count": 4
        }
      ]
    },
    {
      "cell_type": "code",
      "metadata": {
        "id": "1Rfa5VWSVEO0"
      },
      "source": [
        "T = 10\n",
        "X = []\n",
        "Y = []\n",
        "for t in range(len(series)-T):\n",
        "  x = series[t:t+T]\n",
        "  X.append(x)\n",
        "  y = series[t+T]\n",
        "  Y.append(y)\n"
      ],
      "execution_count": null,
      "outputs": []
    },
    {
      "cell_type": "code",
      "metadata": {
        "id": "Ucaj90S0WTAE"
      },
      "source": [
        "X = np.array(X).reshape(-1,T)\n",
        "Y = np.array(Y)\n",
        "N = len(X)\n"
      ],
      "execution_count": null,
      "outputs": []
    },
    {
      "cell_type": "code",
      "metadata": {
        "id": "y4QXM2OcX-RC"
      },
      "source": [
        "i = Input(shape=(T,))\n",
        "x = Dense(1)(i)\n",
        "model = Model(i,x)"
      ],
      "execution_count": null,
      "outputs": []
    },
    {
      "cell_type": "code",
      "metadata": {
        "id": "RkqcoJNGYRJ1"
      },
      "source": [
        "model.compile(optimizer=Adam(0.1),loss='mse')"
      ],
      "execution_count": null,
      "outputs": []
    },
    {
      "cell_type": "code",
      "metadata": {
        "id": "k5ji37y-YciM",
        "colab": {
          "base_uri": "https://localhost:8080/",
          "height": 1000
        },
        "outputId": "3cec0c65-59fc-4bf7-ee2a-bab1dbec8297"
      },
      "source": [
        "r = model.fit(X[:-N//2],Y[:-N//2],validation_data=(X[-N//2:],Y[-N//2:]),epochs=80)"
      ],
      "execution_count": null,
      "outputs": [
        {
          "output_type": "stream",
          "text": [
            "Epoch 1/80\n",
            "3/3 [==============================] - 0s 51ms/step - loss: 0.3114 - val_loss: 0.1392\n",
            "Epoch 2/80\n",
            "3/3 [==============================] - 0s 15ms/step - loss: 0.0982 - val_loss: 0.0868\n",
            "Epoch 3/80\n",
            "3/3 [==============================] - 0s 13ms/step - loss: 0.0305 - val_loss: 0.0094\n",
            "Epoch 4/80\n",
            "3/3 [==============================] - 0s 12ms/step - loss: 0.0231 - val_loss: 0.0290\n",
            "Epoch 5/80\n",
            "3/3 [==============================] - 0s 12ms/step - loss: 0.0255 - val_loss: 0.0431\n",
            "Epoch 6/80\n",
            "3/3 [==============================] - 0s 13ms/step - loss: 0.0375 - val_loss: 0.0262\n",
            "Epoch 7/80\n",
            "3/3 [==============================] - 0s 13ms/step - loss: 0.0234 - val_loss: 0.0132\n",
            "Epoch 8/80\n",
            "3/3 [==============================] - 0s 16ms/step - loss: 0.0077 - val_loss: 0.0093\n",
            "Epoch 9/80\n",
            "3/3 [==============================] - 0s 12ms/step - loss: 0.0066 - val_loss: 8.4999e-04\n",
            "Epoch 10/80\n",
            "3/3 [==============================] - 0s 13ms/step - loss: 0.0049 - val_loss: 0.0072\n",
            "Epoch 11/80\n",
            "3/3 [==============================] - 0s 13ms/step - loss: 0.0060 - val_loss: 0.0096\n",
            "Epoch 12/80\n",
            "3/3 [==============================] - 0s 13ms/step - loss: 0.0073 - val_loss: 0.0036\n",
            "Epoch 13/80\n",
            "3/3 [==============================] - 0s 12ms/step - loss: 0.0035 - val_loss: 0.0014\n",
            "Epoch 14/80\n",
            "3/3 [==============================] - 0s 11ms/step - loss: 0.0010 - val_loss: 0.0017\n",
            "Epoch 15/80\n",
            "3/3 [==============================] - 0s 12ms/step - loss: 0.0012 - val_loss: 0.0017\n",
            "Epoch 16/80\n",
            "3/3 [==============================] - 0s 12ms/step - loss: 0.0016 - val_loss: 0.0012\n",
            "Epoch 17/80\n",
            "3/3 [==============================] - 0s 12ms/step - loss: 0.0012 - val_loss: 8.6060e-04\n",
            "Epoch 18/80\n",
            "3/3 [==============================] - 0s 13ms/step - loss: 6.0846e-04 - val_loss: 4.2510e-04\n",
            "Epoch 19/80\n",
            "3/3 [==============================] - 0s 12ms/step - loss: 2.0871e-04 - val_loss: 2.1532e-04\n",
            "Epoch 20/80\n",
            "3/3 [==============================] - 0s 13ms/step - loss: 2.3986e-04 - val_loss: 2.4777e-04\n",
            "Epoch 21/80\n",
            "3/3 [==============================] - 0s 14ms/step - loss: 3.2603e-04 - val_loss: 2.8923e-04\n",
            "Epoch 22/80\n",
            "3/3 [==============================] - 0s 14ms/step - loss: 2.7849e-04 - val_loss: 1.7620e-04\n",
            "Epoch 23/80\n",
            "3/3 [==============================] - 0s 12ms/step - loss: 8.5096e-05 - val_loss: 5.6042e-05\n",
            "Epoch 24/80\n",
            "3/3 [==============================] - 0s 12ms/step - loss: 3.5323e-05 - val_loss: 6.7269e-05\n",
            "Epoch 25/80\n",
            "3/3 [==============================] - 0s 12ms/step - loss: 7.6754e-05 - val_loss: 9.9101e-05\n",
            "Epoch 26/80\n",
            "3/3 [==============================] - 0s 14ms/step - loss: 9.8190e-05 - val_loss: 5.5540e-05\n",
            "Epoch 27/80\n",
            "3/3 [==============================] - 0s 13ms/step - loss: 5.6365e-05 - val_loss: 5.7492e-06\n",
            "Epoch 28/80\n",
            "3/3 [==============================] - 0s 13ms/step - loss: 1.4758e-05 - val_loss: 1.0295e-05\n",
            "Epoch 29/80\n",
            "3/3 [==============================] - 0s 13ms/step - loss: 2.3017e-05 - val_loss: 3.0473e-05\n",
            "Epoch 30/80\n",
            "3/3 [==============================] - 0s 12ms/step - loss: 2.6298e-05 - val_loss: 2.7057e-05\n",
            "Epoch 31/80\n",
            "3/3 [==============================] - 0s 15ms/step - loss: 1.6941e-05 - val_loss: 1.4819e-05\n",
            "Epoch 32/80\n",
            "3/3 [==============================] - 0s 12ms/step - loss: 7.8713e-06 - val_loss: 9.2609e-06\n",
            "Epoch 33/80\n",
            "3/3 [==============================] - 0s 12ms/step - loss: 9.8054e-06 - val_loss: 1.1932e-05\n",
            "Epoch 34/80\n",
            "3/3 [==============================] - 0s 12ms/step - loss: 1.1980e-05 - val_loss: 1.2382e-05\n",
            "Epoch 35/80\n",
            "3/3 [==============================] - 0s 13ms/step - loss: 7.9443e-06 - val_loss: 2.3863e-06\n",
            "Epoch 36/80\n",
            "3/3 [==============================] - 0s 12ms/step - loss: 3.0875e-06 - val_loss: 7.6455e-07\n",
            "Epoch 37/80\n",
            "3/3 [==============================] - 0s 14ms/step - loss: 2.7182e-06 - val_loss: 2.0944e-06\n",
            "Epoch 38/80\n",
            "3/3 [==============================] - 0s 13ms/step - loss: 3.1935e-06 - val_loss: 1.5801e-06\n",
            "Epoch 39/80\n",
            "3/3 [==============================] - 0s 12ms/step - loss: 1.5297e-06 - val_loss: 2.5142e-07\n",
            "Epoch 40/80\n",
            "3/3 [==============================] - 0s 12ms/step - loss: 7.1576e-07 - val_loss: 2.2746e-07\n",
            "Epoch 41/80\n",
            "3/3 [==============================] - 0s 14ms/step - loss: 9.4664e-07 - val_loss: 6.6171e-07\n",
            "Epoch 42/80\n",
            "3/3 [==============================] - 0s 12ms/step - loss: 1.4329e-06 - val_loss: 8.0235e-07\n",
            "Epoch 43/80\n",
            "3/3 [==============================] - 0s 12ms/step - loss: 9.3977e-07 - val_loss: 2.9530e-08\n",
            "Epoch 44/80\n",
            "3/3 [==============================] - 0s 12ms/step - loss: 5.4897e-07 - val_loss: 2.6053e-07\n",
            "Epoch 45/80\n",
            "3/3 [==============================] - 0s 12ms/step - loss: 6.7321e-07 - val_loss: 3.0432e-07\n",
            "Epoch 46/80\n",
            "3/3 [==============================] - 0s 14ms/step - loss: 5.8331e-07 - val_loss: 1.6580e-07\n",
            "Epoch 47/80\n",
            "3/3 [==============================] - 0s 14ms/step - loss: 3.5728e-07 - val_loss: 9.5190e-08\n",
            "Epoch 48/80\n",
            "3/3 [==============================] - 0s 13ms/step - loss: 3.6298e-07 - val_loss: 2.4571e-07\n",
            "Epoch 49/80\n",
            "3/3 [==============================] - 0s 13ms/step - loss: 3.2552e-07 - val_loss: 2.5281e-07\n",
            "Epoch 50/80\n",
            "3/3 [==============================] - 0s 14ms/step - loss: 2.6643e-07 - val_loss: 4.2524e-07\n",
            "Epoch 51/80\n",
            "3/3 [==============================] - 0s 13ms/step - loss: 1.8141e-07 - val_loss: 2.2136e-07\n",
            "Epoch 52/80\n",
            "3/3 [==============================] - 0s 12ms/step - loss: 1.4859e-07 - val_loss: 1.5602e-07\n",
            "Epoch 53/80\n",
            "3/3 [==============================] - 0s 13ms/step - loss: 1.1117e-07 - val_loss: 1.4673e-07\n",
            "Epoch 54/80\n",
            "3/3 [==============================] - 0s 12ms/step - loss: 8.1501e-08 - val_loss: 8.8943e-08\n",
            "Epoch 55/80\n",
            "3/3 [==============================] - 0s 13ms/step - loss: 4.4647e-08 - val_loss: 6.2890e-08\n",
            "Epoch 56/80\n",
            "3/3 [==============================] - 0s 13ms/step - loss: 4.2347e-08 - val_loss: 3.6243e-08\n",
            "Epoch 57/80\n",
            "3/3 [==============================] - 0s 12ms/step - loss: 2.7237e-08 - val_loss: 1.2966e-08\n",
            "Epoch 58/80\n",
            "3/3 [==============================] - 0s 13ms/step - loss: 2.0045e-08 - val_loss: 1.5175e-09\n",
            "Epoch 59/80\n",
            "3/3 [==============================] - 0s 12ms/step - loss: 1.1165e-08 - val_loss: 3.1406e-09\n",
            "Epoch 60/80\n",
            "3/3 [==============================] - 0s 15ms/step - loss: 7.0256e-09 - val_loss: 2.6786e-09\n",
            "Epoch 61/80\n",
            "3/3 [==============================] - 0s 12ms/step - loss: 5.2705e-09 - val_loss: 5.6238e-09\n",
            "Epoch 62/80\n",
            "3/3 [==============================] - 0s 13ms/step - loss: 4.3941e-09 - val_loss: 6.5458e-09\n",
            "Epoch 63/80\n",
            "3/3 [==============================] - 0s 13ms/step - loss: 4.0499e-09 - val_loss: 5.5122e-09\n",
            "Epoch 64/80\n",
            "3/3 [==============================] - 0s 13ms/step - loss: 3.3347e-09 - val_loss: 4.6062e-09\n",
            "Epoch 65/80\n",
            "3/3 [==============================] - 0s 13ms/step - loss: 2.7046e-09 - val_loss: 1.7346e-09\n",
            "Epoch 66/80\n",
            "3/3 [==============================] - 0s 13ms/step - loss: 1.7583e-09 - val_loss: 5.1386e-10\n",
            "Epoch 67/80\n",
            "3/3 [==============================] - 0s 13ms/step - loss: 1.3772e-09 - val_loss: 2.9709e-10\n",
            "Epoch 68/80\n",
            "3/3 [==============================] - 0s 12ms/step - loss: 7.0248e-10 - val_loss: 6.1423e-10\n",
            "Epoch 69/80\n",
            "3/3 [==============================] - 0s 14ms/step - loss: 7.5637e-10 - val_loss: 1.3007e-09\n",
            "Epoch 70/80\n",
            "3/3 [==============================] - 0s 12ms/step - loss: 1.1664e-09 - val_loss: 1.6094e-09\n",
            "Epoch 71/80\n",
            "3/3 [==============================] - 0s 11ms/step - loss: 1.1616e-09 - val_loss: 1.1627e-09\n",
            "Epoch 72/80\n",
            "3/3 [==============================] - 0s 12ms/step - loss: 7.3270e-10 - val_loss: 5.6632e-10\n",
            "Epoch 73/80\n",
            "3/3 [==============================] - 0s 14ms/step - loss: 5.7319e-10 - val_loss: 7.9812e-11\n",
            "Epoch 74/80\n",
            "3/3 [==============================] - 0s 11ms/step - loss: 2.5835e-10 - val_loss: 9.0215e-11\n",
            "Epoch 75/80\n",
            "3/3 [==============================] - 0s 11ms/step - loss: 1.7252e-10 - val_loss: 1.9288e-10\n",
            "Epoch 76/80\n",
            "3/3 [==============================] - 0s 12ms/step - loss: 1.6322e-10 - val_loss: 1.5920e-10\n",
            "Epoch 77/80\n",
            "3/3 [==============================] - 0s 12ms/step - loss: 1.0814e-10 - val_loss: 5.9486e-11\n",
            "Epoch 78/80\n",
            "3/3 [==============================] - 0s 11ms/step - loss: 7.9744e-11 - val_loss: 1.9753e-11\n",
            "Epoch 79/80\n",
            "3/3 [==============================] - 0s 14ms/step - loss: 6.1607e-11 - val_loss: 1.0258e-11\n",
            "Epoch 80/80\n",
            "3/3 [==============================] - 0s 11ms/step - loss: 3.5029e-11 - val_loss: 2.3039e-11\n"
          ],
          "name": "stdout"
        }
      ]
    },
    {
      "cell_type": "code",
      "metadata": {
        "id": "18d2iMytYx9u",
        "colab": {
          "base_uri": "https://localhost:8080/",
          "height": 282
        },
        "outputId": "0b0353af-237b-4d53-a61d-61eb058f60d8"
      },
      "source": [
        "import matplotlib.pyplot as plt\n",
        "plt.plot(r.history['loss'], label='loss')\n",
        "plt.plot(r.history['val_loss'], label='val_loss')\n",
        "plt.legend()"
      ],
      "execution_count": null,
      "outputs": [
        {
          "output_type": "execute_result",
          "data": {
            "text/plain": [
              "<matplotlib.legend.Legend at 0x7f2112293c18>"
            ]
          },
          "metadata": {
            "tags": []
          },
          "execution_count": 17
        },
        {
          "output_type": "display_data",
          "data": {
            "image/png": "[encoded data removed]",
            "text/plain": [
              "<Figure size 432x288 with 1 Axes>"
            ]
          },
          "metadata": {
            "tags": [],
            "needs_background": "light"
          }
        }
      ]
    },
    {
      "cell_type": "code",
      "metadata": {
        "id": "14D8CcnOZNal"
      },
      "source": [
        "validation_target = Y[-N//2:]\n",
        "validation_prediction = []\n",
        "last_x = X[-N//2]\n",
        "while len(validation_prediction) != len (validation_target):\n",
        "  p = model.predict(last_x.reshape(1,-1))[0,0]\n",
        "  validation_prediction.append(p)\n",
        "  last_x = np.roll(last_x,-1)\n",
        "  last_x[-1] = p"
      ],
      "execution_count": null,
      "outputs": []
    },
    {
      "cell_type": "code",
      "metadata": {
        "id": "rI8JApY_ciu9",
        "colab": {
          "base_uri": "https://localhost:8080/",
          "height": 446
        },
        "outputId": "46050c91-13cd-42d0-ec08-02ae184a0c09"
      },
      "source": [
        "plt.plot(validation_target, label='forecast target')\n",
        "plt.plot(validation_predictions, label='forecast prediction')\n",
        "plt.legend()"
      ],
      "execution_count": null,
      "outputs": [
        {
          "output_type": "error",
          "ename": "NameError",
          "evalue": "ignored",
          "traceback": [
            "\u001b[0;31m---------------------------------------------------------------------------\u001b[0m",
            "\u001b[0;31mNameError\u001b[0m                                 Traceback (most recent call last)",
            "\u001b[0;32m<ipython-input-23-4dbf7649e24f>\u001b[0m in \u001b[0;36m<module>\u001b[0;34m()\u001b[0m\n\u001b[1;32m      1\u001b[0m \u001b[0mplt\u001b[0m\u001b[0;34m.\u001b[0m\u001b[0mplot\u001b[0m\u001b[0;34m(\u001b[0m\u001b[0mvalidation_target\u001b[0m\u001b[0;34m,\u001b[0m \u001b[0mlabel\u001b[0m\u001b[0;34m=\u001b[0m\u001b[0;34m'forecast target'\u001b[0m\u001b[0;34m)\u001b[0m\u001b[0;34m\u001b[0m\u001b[0;34m\u001b[0m\u001b[0m\n\u001b[0;32m----> 2\u001b[0;31m \u001b[0mplt\u001b[0m\u001b[0;34m.\u001b[0m\u001b[0mplot\u001b[0m\u001b[0;34m(\u001b[0m\u001b[0mvalidation_predictions\u001b[0m\u001b[0;34m,\u001b[0m \u001b[0mlabel\u001b[0m\u001b[0;34m=\u001b[0m\u001b[0;34m'forecast prediction'\u001b[0m\u001b[0;34m)\u001b[0m\u001b[0;34m\u001b[0m\u001b[0;34m\u001b[0m\u001b[0m\n\u001b[0m\u001b[1;32m      3\u001b[0m \u001b[0mplt\u001b[0m\u001b[0;34m.\u001b[0m\u001b[0mlegend\u001b[0m\u001b[0;34m(\u001b[0m\u001b[0;34m)\u001b[0m\u001b[0;34m\u001b[0m\u001b[0;34m\u001b[0m\u001b[0m\n",
            "\u001b[0;31mNameError\u001b[0m: name 'validation_predictions' is not defined"
          ]
        },
        {
          "output_type": "display_data",
          "data": {
            "image/png": "[encoded data removed]",
            "text/plain": [
              "<Figure size 432x288 with 1 Axes>"
            ]
          },
          "metadata": {
            "tags": [],
            "needs_background": "light"
          }
        }
      ]
    },
    {
      "cell_type": "code",
      "metadata": {
        "id": "xMs0cDr6cmld"
      },
      "source": [
        ""
      ],
      "execution_count": null,
      "outputs": []
    }
  ]
}