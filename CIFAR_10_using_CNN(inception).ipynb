{
  "nbformat": 4,
  "nbformat_minor": 0,
  "metadata": {
    "colab": {
      "name": "CIFAR 10 using CNN(inception).ipynb",
      "provenance": [],
      "collapsed_sections": [],
      "authorship_tag": "ABX9TyMbvnR7A0JQMV9O9zj62sp8",
      "include_colab_link": true
    },
    "kernelspec": {
      "name": "python3",
      "display_name": "Python 3"
    }
  },
  "cells": [
    {
      "cell_type": "markdown",
      "metadata": {
        "id": "view-in-github",
        "colab_type": "text"
      },
      "source": [
        "<a href=\"https://colab.research.google.com/github/Hujaifa98/AIProjects/blob/main/CIFAR_10_using_CNN(inception).ipynb\" target=\"_parent\"><img src=\"https://colab.research.google.com/assets/colab-badge.svg\" alt=\"Open In Colab\"/></a>"
      ]
    },
    {
      "cell_type": "code",
      "metadata": {
        "id": "ne22yDs7HQ_Y"
      },
      "source": [
        "import numpy as np\n",
        "import pandas as pd\n",
        "import tensorflow as tf\n",
        "from tensorflow import keras\n",
        "import matplotlib.pyplot as plt\n",
        "import seaborn as sns\n",
        "from tensorflow.keras import datasets,layers,models"
      ],
      "execution_count": null,
      "outputs": []
    },
    {
      "cell_type": "code",
      "metadata": {
        "colab": {
          "base_uri": "https://localhost:8080/"
        },
        "id": "92vYbCoJZSRE",
        "outputId": "c6985c95-a244-4388-ea50-8e3e66b666c1"
      },
      "source": [
        "(x_train,y_train),(x_test,y_test) = datasets.cifar10.load_data()"
      ],
      "execution_count": null,
      "outputs": [
        {
          "output_type": "stream",
          "name": "stdout",
          "text": [
            "Downloading data from https://www.cs.toronto.edu/~kriz/cifar-10-python.tar.gz\n",
            "170500096/170498071 [==============================] - 3s 0us/step\n",
            "170508288/170498071 [==============================] - 3s 0us/step\n"
          ]
        }
      ]
    },
    {
      "cell_type": "code",
      "metadata": {
        "id": "FOoIhvrLZpOp"
      },
      "source": [
        "x_train , x_test = x_train/255.0 , x_test/255.0\n",
        "y_train , y_test = y_train.flatten() , y_test.flatten()"
      ],
      "execution_count": null,
      "outputs": []
    },
    {
      "cell_type": "code",
      "metadata": {
        "colab": {
          "base_uri": "https://localhost:8080/"
        },
        "id": "knGn0XL2LcNd",
        "outputId": "98ba601b-4033-451f-94db-df87472ede99"
      },
      "source": [
        "x_train.shape"
      ],
      "execution_count": null,
      "outputs": [
        {
          "output_type": "execute_result",
          "data": {
            "text/plain": [
              "(50000, 32, 32, 3)"
            ]
          },
          "metadata": {},
          "execution_count": 7
        }
      ]
    },
    {
      "cell_type": "code",
      "metadata": {
        "id": "zy5KBQzyZs_B"
      },
      "source": [
        "def inception(x,filter_1x1,filter_3x3_r,filter_3x3,filter_5x5_r,filter_5x5,filter_pool):\n",
        "  path1 = keras.layers.Conv2D(filter_1x1,(1,1),padding='same',activation='relu')(x)\n",
        "\n",
        "  path2 = keras.layers.Conv2D(filter_3x3_r,(1,1),padding='same',activation='relu')(x)\n",
        "  path2 = keras.layers.Conv2D(filter_3x3,(3,3),padding='same',activation='relu')(path2)\n",
        "\n",
        "  path3 = keras.layers.Conv2D(filter_5x5_r,(1,1),padding='same',activation='relu')(x)\n",
        "  path3 = keras.layers.Conv2D(filter_5x5,(1,1),padding='same',activation='relu')(path3)\n",
        "\n",
        "  path4 = keras.layers.MaxPool2D((3,3),(1,1),padding='same')(x)\n",
        "  path4 = keras.layers.Conv2D(filter_pool,(1,1),padding='same',activation='relu')(path4)\n",
        "\n",
        "  return tf.concat([path1,path2,path3,path4],axis=3)"
      ],
      "execution_count": null,
      "outputs": []
    },
    {
      "cell_type": "code",
      "metadata": {
        "id": "lN7HiKVkg-5I"
      },
      "source": [
        "i = keras.layers.Input(x_train[0].shape)\n",
        "x = keras.layers.Conv2D(32,(7,7),(2,2),padding='same',activation='relu')(i)\n",
        "x = keras.layers.Conv2D(64,(3,3),padding='same',activation='relu')(x)\n",
        "x = keras.layers.MaxPool2D((3,3),(2,2))(x)\n",
        "x = keras.layers.Conv2D(128,(3,3),padding='same',activation='relu')(x)\n",
        "x = keras.layers.Conv2D(128,(3,3),padding='same',activation='relu')(x)\n",
        "x = keras.layers.MaxPool2D((3,3),(2,2))(x)\n",
        "x = inception(x, 64, 96, 128, 16, 32, 32)\n",
        "x = inception(x, 128, 128, 192, 32, 96, 64)\n",
        "x = keras.layers.MaxPool2D((3,3),(2,2))(x)\n",
        "x = keras.layers.Flatten()(x)\n",
        "x = keras.layers.Dropout(0.4)(x)\n",
        "x = keras.layers.Dense(1024,'relu',kernel_regularizer=keras.regularizers.L2())(x)\n",
        "x = keras.layers.Dropout(0.2)(x)\n",
        "x = keras.layers.Dense(10,'softmax')(x)\n",
        "model = keras.models.Model(i,x)"
      ],
      "execution_count": null,
      "outputs": []
    },
    {
      "cell_type": "code",
      "metadata": {
        "id": "wSCZszebjt2n"
      },
      "source": [
        "model.compile(optimizer='adam',loss='sparse_categorical_crossentropy',metrics=['accuracy'])"
      ],
      "execution_count": null,
      "outputs": []
    },
    {
      "cell_type": "code",
      "metadata": {
        "colab": {
          "base_uri": "https://localhost:8080/"
        },
        "id": "XkaG1P6JKPl2",
        "outputId": "8ed267d7-0db8-42b5-9240-fdc16cc07fa6"
      },
      "source": [
        "model.summary()"
      ],
      "execution_count": null,
      "outputs": [
        {
          "output_type": "stream",
          "name": "stdout",
          "text": [
            "Model: \"model\"\n",
            "__________________________________________________________________________________________________\n",
            " Layer (type)                   Output Shape         Param #     Connected to                     \n",
            "==================================================================================================\n",
            " input_1 (InputLayer)           [(None, 32, 32, 3)]  0           []                               \n",
            "                                                                                                  \n",
            " conv2d (Conv2D)                (None, 16, 16, 32)   4736        ['input_1[0][0]']                \n",
            "                                                                                                  \n",
            " conv2d_1 (Conv2D)              (None, 16, 16, 64)   18496       ['conv2d[0][0]']                 \n",
            "                                                                                                  \n",
            " max_pooling2d (MaxPooling2D)   (None, 7, 7, 64)     0           ['conv2d_1[0][0]']               \n",
            "                                                                                                  \n",
            " conv2d_2 (Conv2D)              (None, 7, 7, 128)    73856       ['max_pooling2d[0][0]']          \n",
            "                                                                                                  \n",
            " conv2d_3 (Conv2D)              (None, 7, 7, 128)    147584      ['conv2d_2[0][0]']               \n",
            "                                                                                                  \n",
            " max_pooling2d_1 (MaxPooling2D)  (None, 3, 3, 128)   0           ['conv2d_3[0][0]']               \n",
            "                                                                                                  \n",
            " conv2d_5 (Conv2D)              (None, 3, 3, 96)     12384       ['max_pooling2d_1[0][0]']        \n",
            "                                                                                                  \n",
            " conv2d_7 (Conv2D)              (None, 3, 3, 16)     2064        ['max_pooling2d_1[0][0]']        \n",
            "                                                                                                  \n",
            " max_pooling2d_2 (MaxPooling2D)  (None, 3, 3, 128)   0           ['max_pooling2d_1[0][0]']        \n",
            "                                                                                                  \n",
            " conv2d_4 (Conv2D)              (None, 3, 3, 64)     8256        ['max_pooling2d_1[0][0]']        \n",
            "                                                                                                  \n",
            " conv2d_6 (Conv2D)              (None, 3, 3, 128)    110720      ['conv2d_5[0][0]']               \n",
            "                                                                                                  \n",
            " conv2d_8 (Conv2D)              (None, 3, 3, 32)     544         ['conv2d_7[0][0]']               \n",
            "                                                                                                  \n",
            " conv2d_9 (Conv2D)              (None, 3, 3, 32)     4128        ['max_pooling2d_2[0][0]']        \n",
            "                                                                                                  \n",
            " tf.concat (TFOpLambda)         (None, 3, 3, 256)    0           ['conv2d_4[0][0]',               \n",
            "                                                                  'conv2d_6[0][0]',               \n",
            "                                                                  'conv2d_8[0][0]',               \n",
            "                                                                  'conv2d_9[0][0]']               \n",
            "                                                                                                  \n",
            " conv2d_11 (Conv2D)             (None, 3, 3, 128)    32896       ['tf.concat[0][0]']              \n",
            "                                                                                                  \n",
            " conv2d_13 (Conv2D)             (None, 3, 3, 32)     8224        ['tf.concat[0][0]']              \n",
            "                                                                                                  \n",
            " max_pooling2d_3 (MaxPooling2D)  (None, 3, 3, 256)   0           ['tf.concat[0][0]']              \n",
            "                                                                                                  \n",
            " conv2d_10 (Conv2D)             (None, 3, 3, 128)    32896       ['tf.concat[0][0]']              \n",
            "                                                                                                  \n",
            " conv2d_12 (Conv2D)             (None, 3, 3, 192)    221376      ['conv2d_11[0][0]']              \n",
            "                                                                                                  \n",
            " conv2d_14 (Conv2D)             (None, 3, 3, 96)     3168        ['conv2d_13[0][0]']              \n",
            "                                                                                                  \n",
            " conv2d_15 (Conv2D)             (None, 3, 3, 64)     16448       ['max_pooling2d_3[0][0]']        \n",
            "                                                                                                  \n",
            " tf.concat_1 (TFOpLambda)       (None, 3, 3, 480)    0           ['conv2d_10[0][0]',              \n",
            "                                                                  'conv2d_12[0][0]',              \n",
            "                                                                  'conv2d_14[0][0]',              \n",
            "                                                                  'conv2d_15[0][0]']              \n",
            "                                                                                                  \n",
            " max_pooling2d_4 (MaxPooling2D)  (None, 1, 1, 480)   0           ['tf.concat_1[0][0]']            \n",
            "                                                                                                  \n",
            " flatten (Flatten)              (None, 480)          0           ['max_pooling2d_4[0][0]']        \n",
            "                                                                                                  \n",
            " dropout (Dropout)              (None, 480)          0           ['flatten[0][0]']                \n",
            "                                                                                                  \n",
            " dense (Dense)                  (None, 1024)         492544      ['dropout[0][0]']                \n",
            "                                                                                                  \n",
            " dropout_1 (Dropout)            (None, 1024)         0           ['dense[0][0]']                  \n",
            "                                                                                                  \n",
            " dense_1 (Dense)                (None, 10)           10250       ['dropout_1[0][0]']              \n",
            "                                                                                                  \n",
            "==================================================================================================\n",
            "Total params: 1,200,570\n",
            "Trainable params: 1,200,570\n",
            "Non-trainable params: 0\n",
            "__________________________________________________________________________________________________\n"
          ]
        }
      ]
    },
    {
      "cell_type": "code",
      "metadata": {
        "colab": {
          "base_uri": "https://localhost:8080/"
        },
        "id": "8_GIM8HwkB80",
        "outputId": "473f10cf-c04d-4372-89d2-939d8c3b08f4"
      },
      "source": [
        "history = model.fit(x_train,y_train,validation_data=(x_test,y_test),epochs=20)"
      ],
      "execution_count": null,
      "outputs": [
        {
          "output_type": "stream",
          "name": "stdout",
          "text": [
            "Epoch 1/20\n",
            "1563/1563 [==============================] - 247s 157ms/step - loss: 1.9623 - accuracy: 0.2921 - val_loss: 1.5056 - val_accuracy: 0.4575\n",
            "Epoch 2/20\n",
            "1563/1563 [==============================] - 239s 153ms/step - loss: 1.4667 - accuracy: 0.4863 - val_loss: 1.3318 - val_accuracy: 0.5415\n",
            "Epoch 3/20\n",
            "1563/1563 [==============================] - 241s 154ms/step - loss: 1.2791 - accuracy: 0.5697 - val_loss: 1.2231 - val_accuracy: 0.5900\n",
            "Epoch 4/20\n",
            "1563/1563 [==============================] - 236s 151ms/step - loss: 1.1519 - accuracy: 0.6210 - val_loss: 1.2289 - val_accuracy: 0.6020\n",
            "Epoch 5/20\n",
            "1563/1563 [==============================] - 240s 153ms/step - loss: 1.0492 - accuracy: 0.6578 - val_loss: 1.0754 - val_accuracy: 0.6483\n",
            "Epoch 6/20\n",
            "1563/1563 [==============================] - 239s 153ms/step - loss: 0.9798 - accuracy: 0.6866 - val_loss: 1.0663 - val_accuracy: 0.6594\n",
            "Epoch 7/20\n",
            "1563/1563 [==============================] - 240s 154ms/step - loss: 0.9130 - accuracy: 0.7119 - val_loss: 1.0063 - val_accuracy: 0.6885\n",
            "Epoch 8/20\n",
            "1563/1563 [==============================] - 240s 154ms/step - loss: 0.8598 - accuracy: 0.7306 - val_loss: 1.0133 - val_accuracy: 0.6736\n",
            "Epoch 9/20\n",
            "1563/1563 [==============================] - 242s 155ms/step - loss: 0.8108 - accuracy: 0.7494 - val_loss: 0.9621 - val_accuracy: 0.6932\n",
            "Epoch 10/20\n",
            "1563/1563 [==============================] - 240s 154ms/step - loss: 0.7672 - accuracy: 0.7643 - val_loss: 0.9886 - val_accuracy: 0.6948\n",
            "Epoch 11/20\n",
            "1563/1563 [==============================] - 241s 154ms/step - loss: 0.7278 - accuracy: 0.7757 - val_loss: 1.0220 - val_accuracy: 0.6981\n",
            "Epoch 12/20\n",
            "1563/1563 [==============================] - 240s 154ms/step - loss: 0.6984 - accuracy: 0.7893 - val_loss: 1.0448 - val_accuracy: 0.6876\n",
            "Epoch 13/20\n",
            "1563/1563 [==============================] - 242s 155ms/step - loss: 0.6668 - accuracy: 0.7992 - val_loss: 1.0271 - val_accuracy: 0.6934\n",
            "Epoch 14/20\n",
            "1563/1563 [==============================] - 243s 155ms/step - loss: 0.6325 - accuracy: 0.8107 - val_loss: 1.0776 - val_accuracy: 0.7143\n",
            "Epoch 15/20\n",
            "1563/1563 [==============================] - 242s 155ms/step - loss: 0.6145 - accuracy: 0.8193 - val_loss: 1.0912 - val_accuracy: 0.7043\n",
            "Epoch 16/20\n",
            "1563/1563 [==============================] - 240s 154ms/step - loss: 0.5805 - accuracy: 0.8295 - val_loss: 1.0567 - val_accuracy: 0.7039\n",
            "Epoch 17/20\n",
            "1563/1563 [==============================] - 239s 153ms/step - loss: 0.5665 - accuracy: 0.8354 - val_loss: 1.1140 - val_accuracy: 0.6912\n",
            "Epoch 18/20\n",
            "1563/1563 [==============================] - 241s 154ms/step - loss: 0.5503 - accuracy: 0.8407 - val_loss: 1.1333 - val_accuracy: 0.7065\n",
            "Epoch 19/20\n",
            "1563/1563 [==============================] - 241s 154ms/step - loss: 0.5181 - accuracy: 0.8536 - val_loss: 1.0956 - val_accuracy: 0.7117\n",
            "Epoch 20/20\n",
            "1563/1563 [==============================] - 241s 154ms/step - loss: 0.5123 - accuracy: 0.8563 - val_loss: 1.2383 - val_accuracy: 0.7006\n"
          ]
        }
      ]
    },
    {
      "cell_type": "code",
      "metadata": {
        "colab": {
          "base_uri": "https://localhost:8080/",
          "height": 324
        },
        "id": "DQhJ_T2ZkOdR",
        "outputId": "7f9ba834-881f-4cc5-c8b1-c9cd7ad58501"
      },
      "source": [
        "pd.DataFrame(history.history).plot(figsize=(8,5))\n",
        "plt.grid(True)\n",
        "plt.gca().set_ylim(0,1)\n",
        "plt.show()"
      ],
      "execution_count": null,
      "outputs": [
        {
          "output_type": "display_data",
          "data": {
            "image/png": "[encoded data removed]",
            "text/plain": [
              "<Figure size 576x360 with 1 Axes>"
            ]
          },
          "metadata": {
            "needs_background": "light"
          }
        }
      ]
    },
    {
      "cell_type": "code",
      "metadata": {
        "colab": {
          "base_uri": "https://localhost:8080/",
          "height": 282
        },
        "id": "JHgSexAL4QA4",
        "outputId": "c2cfac71-e728-4c9d-f664-edff328e39e9"
      },
      "source": [
        "plt.plot(history.history['loss'], label='loss')\n",
        "plt.plot(history.history['val_loss'], label='val_loss')\n",
        "plt.legend()"
      ],
      "execution_count": null,
      "outputs": [
        {
          "output_type": "execute_result",
          "data": {
            "text/plain": [
              "<matplotlib.legend.Legend at 0x7f8da6e977d0>"
            ]
          },
          "metadata": {},
          "execution_count": 16
        },
        {
          "output_type": "display_data",
          "data": {
            "image/png": "[encoded data removed]",
            "text/plain": [
              "<Figure size 432x288 with 1 Axes>"
            ]
          },
          "metadata": {
            "needs_background": "light"
          }
        }
      ]
    },
    {
      "cell_type": "code",
      "metadata": {
        "colab": {
          "base_uri": "https://localhost:8080/",
          "height": 282
        },
        "id": "0r9PVSZl4GNE",
        "outputId": "129462f3-1e83-45e4-bdf3-1f4a269ebb37"
      },
      "source": [
        "plt.plot(history.history['accuracy'], label='acc')\n",
        "plt.plot(history.history['val_accuracy'], label='val_acc')\n",
        "plt.legend()"
      ],
      "execution_count": null,
      "outputs": [
        {
          "output_type": "execute_result",
          "data": {
            "text/plain": [
              "<matplotlib.legend.Legend at 0x7f8da6d72a50>"
            ]
          },
          "metadata": {},
          "execution_count": 18
        },
        {
          "output_type": "display_data",
          "data": {
            "image/png": "[encoded data removed]",
            "text/plain": [
              "<Figure size 432x288 with 1 Axes>"
            ]
          },
          "metadata": {
            "needs_background": "light"
          }
        }
      ]
    },
    {
      "cell_type": "code",
      "metadata": {
        "id": "ISATOo1X4YTi"
      },
      "source": [
        ""
      ],
      "execution_count": null,
      "outputs": []
    }
  ]
}