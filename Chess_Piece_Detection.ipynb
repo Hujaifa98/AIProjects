{
  "nbformat": 4,
  "nbformat_minor": 0,
  "metadata": {
    "colab": {
      "name": "Chess Piece Detection.ipynb",
      "provenance": [],
      "collapsed_sections": [],
      "authorship_tag": "ABX9TyO3IBo//q7jBX+dyb8YpjOb",
      "include_colab_link": true
    },
    "kernelspec": {
      "name": "python3",
      "display_name": "Python 3"
    },
    "language_info": {
      "name": "python"
    }
  },
  "cells": [
    {
      "cell_type": "markdown",
      "metadata": {
        "id": "view-in-github",
        "colab_type": "text"
      },
      "source": [
        "<a href=\"https://colab.research.google.com/github/Hujaifa98/AIProjects/blob/main/Chess_Piece_Detection.ipynb\" target=\"_parent\"><img src=\"https://colab.research.google.com/assets/colab-badge.svg\" alt=\"Open In Colab\"/></a>"
      ]
    },
    {
      "cell_type": "code",
      "execution_count": null,
      "metadata": {
        "id": "kUYP_xpFe64V"
      },
      "outputs": [],
      "source": [
        "import tensorflow as tf\n",
        "from tensorflow import keras\n",
        "import numpy as np\n",
        "import pandas as pd\n",
        "import matplotlib.pyplot as plt\n",
        "import cv2\n",
        "import os\n",
        "import PIL\n",
        "import pathlib"
      ]
    },
    {
      "cell_type": "code",
      "source": [
        "from google.colab import drive\n",
        "drive.mount('/content/gdrive')"
      ],
      "metadata": {
        "colab": {
          "base_uri": "https://localhost:8080/"
        },
        "id": "2reiGASEfHFv",
        "outputId": "d5bdbcb2-70a4-4fdf-e0ba-ad1ea0c76c32"
      },
      "execution_count": null,
      "outputs": [
        {
          "output_type": "stream",
          "name": "stdout",
          "text": [
            "Drive already mounted at /content/gdrive; to attempt to forcibly remount, call drive.mount(\"/content/gdrive\", force_remount=True).\n"
          ]
        }
      ]
    },
    {
      "cell_type": "code",
      "source": [
        "drive.mount('/content/gdrive')\n",
        "chess_dataset_url = 'gdrive/My Drive/AI/Chess Piece Dataset'"
      ],
      "metadata": {
        "colab": {
          "base_uri": "https://localhost:8080/"
        },
        "id": "PF3UXxYuf7ru",
        "outputId": "66dce821-66ef-42a7-8646-876b074ccc01"
      },
      "execution_count": null,
      "outputs": [
        {
          "output_type": "stream",
          "name": "stdout",
          "text": [
            "Drive already mounted at /content/gdrive; to attempt to forcibly remount, call drive.mount(\"/content/gdrive\", force_remount=True).\n"
          ]
        }
      ]
    },
    {
      "cell_type": "code",
      "source": [
        "chess_path = pathlib.Path(chess_dataset_url)\n",
        "chess_path"
      ],
      "metadata": {
        "colab": {
          "base_uri": "https://localhost:8080/"
        },
        "id": "XSkrtJysgtLN",
        "outputId": "76832b9e-763c-4b03-cd12-0fb0d6c735c0"
      },
      "execution_count": null,
      "outputs": [
        {
          "output_type": "execute_result",
          "data": {
            "text/plain": [
              "PosixPath('gdrive/My Drive/AI/Chess Piece Dataset')"
            ]
          },
          "metadata": {},
          "execution_count": 4
        }
      ]
    },
    {
      "cell_type": "code",
      "source": [
        "len(list(chess_path.glob('*/*.jpg')))"
      ],
      "metadata": {
        "colab": {
          "base_uri": "https://localhost:8080/"
        },
        "id": "hd0RrtHchSrF",
        "outputId": "4588c389-46f1-4c2f-967c-bbbab0d41fda"
      },
      "execution_count": null,
      "outputs": [
        {
          "output_type": "execute_result",
          "data": {
            "text/plain": [
              "651"
            ]
          },
          "metadata": {},
          "execution_count": 5
        }
      ]
    },
    {
      "cell_type": "code",
      "source": [
        "rook = list(chess_path.glob('Rook-resize/*'))\n",
        "rook[:5]"
      ],
      "metadata": {
        "colab": {
          "base_uri": "https://localhost:8080/"
        },
        "id": "nHytUhk5iSmY",
        "outputId": "1125a078-28ac-4e4e-cefb-f440c9a84134"
      },
      "execution_count": null,
      "outputs": [
        {
          "output_type": "execute_result",
          "data": {
            "text/plain": [
              "[PosixPath('gdrive/My Drive/AI/Chess Piece Dataset/Rook-resize/00000047_resized.jpg'),\n",
              " PosixPath('gdrive/My Drive/AI/Chess Piece Dataset/Rook-resize/00000045_resized.jpg'),\n",
              " PosixPath('gdrive/My Drive/AI/Chess Piece Dataset/Rook-resize/00000035_resized.jpg'),\n",
              " PosixPath('gdrive/My Drive/AI/Chess Piece Dataset/Rook-resize/00000036_resized.jpg'),\n",
              " PosixPath('gdrive/My Drive/AI/Chess Piece Dataset/Rook-resize/00000037_resized.jpg')]"
            ]
          },
          "metadata": {},
          "execution_count": 6
        }
      ]
    },
    {
      "cell_type": "code",
      "source": [
        "PIL.Image.open(str(rook[0]))"
      ],
      "metadata": {
        "colab": {
          "base_uri": "https://localhost:8080/",
          "height": 241
        },
        "id": "Y4shCGfcifFW",
        "outputId": "1c277ed1-6deb-4ff6-f446-bd6cd5d8c787"
      },
      "execution_count": null,
      "outputs": [
        {
          "output_type": "execute_result",
          "data": {
            "image/png": "[encoded data removed]",
            "text/plain": [
              "<PIL.JpegImagePlugin.JpegImageFile image mode=RGB size=224x224 at 0x7FF0D2B1BDD0>"
            ]
          },
          "metadata": {},
          "execution_count": 7
        }
      ]
    },
    {
      "cell_type": "code",
      "source": [
        "chess_img_dict = {\n",
        "    'rook' : list(chess_path.glob('Rook-resize/*')),\n",
        "    'queen' : list(chess_path.glob('Queen-Resized/*')),\n",
        "    'pawn' : list(chess_path.glob('pawn_resized/*')),\n",
        "    'knight' : list(chess_path.glob('knight-resize/*')),\n",
        "    'bishop' : list(chess_path.glob('bishop_resized/*')),\n",
        "}"
      ],
      "metadata": {
        "id": "KFe_XLyxitkF"
      },
      "execution_count": null,
      "outputs": []
    },
    {
      "cell_type": "code",
      "source": [
        "chess_label_dict = {\n",
        "    'rook' : 0,\n",
        "    'queen' : 1,\n",
        "    'pawn' : 2,\n",
        "    'knight' : 3,\n",
        "    'bishop' : 4\n",
        "}"
      ],
      "metadata": {
        "id": "eml-_cJBkUMj"
      },
      "execution_count": null,
      "outputs": []
    },
    {
      "cell_type": "code",
      "source": [
        "cv2.imread(str(chess_img_dict['rook'][0]))"
      ],
      "metadata": {
        "colab": {
          "base_uri": "https://localhost:8080/"
        },
        "id": "tNvO3aqsnQbJ",
        "outputId": "eeaf4884-388d-4420-b459-9b99014ffda3"
      },
      "execution_count": null,
      "outputs": [
        {
          "output_type": "execute_result",
          "data": {
            "text/plain": [
              "array([[[255, 255, 255],\n",
              "        [255, 255, 255],\n",
              "        [255, 255, 255],\n",
              "        ...,\n",
              "        [255, 255, 255],\n",
              "        [255, 255, 255],\n",
              "        [255, 255, 255]],\n",
              "\n",
              "       [[255, 255, 255],\n",
              "        [255, 255, 255],\n",
              "        [255, 255, 255],\n",
              "        ...,\n",
              "        [255, 255, 255],\n",
              "        [255, 255, 255],\n",
              "        [255, 255, 255]],\n",
              "\n",
              "       [[255, 255, 255],\n",
              "        [255, 255, 255],\n",
              "        [255, 255, 255],\n",
              "        ...,\n",
              "        [255, 255, 255],\n",
              "        [255, 255, 255],\n",
              "        [255, 255, 255]],\n",
              "\n",
              "       ...,\n",
              "\n",
              "       [[255, 255, 255],\n",
              "        [255, 255, 255],\n",
              "        [255, 255, 255],\n",
              "        ...,\n",
              "        [255, 255, 255],\n",
              "        [255, 255, 255],\n",
              "        [255, 255, 255]],\n",
              "\n",
              "       [[255, 255, 255],\n",
              "        [255, 255, 255],\n",
              "        [255, 255, 255],\n",
              "        ...,\n",
              "        [255, 255, 255],\n",
              "        [255, 255, 255],\n",
              "        [255, 255, 255]],\n",
              "\n",
              "       [[255, 255, 255],\n",
              "        [255, 255, 255],\n",
              "        [255, 255, 255],\n",
              "        ...,\n",
              "        [255, 255, 255],\n",
              "        [255, 255, 255],\n",
              "        [255, 255, 255]]], dtype=uint8)"
            ]
          },
          "metadata": {},
          "execution_count": 21
        }
      ]
    },
    {
      "cell_type": "code",
      "source": [
        "X , Y = [] , []\n",
        "for chess_piece , images in chess_img_dict.items():\n",
        "  for image in images:\n",
        "    X.append(cv2.imread(str(image)))\n",
        "    Y.append(chess_label_dict[chess_piece])"
      ],
      "metadata": {
        "id": "61m71033k7X_"
      },
      "execution_count": null,
      "outputs": []
    },
    {
      "cell_type": "code",
      "source": [
        "X = np.array(x_train)\n",
        "Y = np.array(y_train)"
      ],
      "metadata": {
        "id": "J4flEKoqmq7o"
      },
      "execution_count": null,
      "outputs": []
    },
    {
      "cell_type": "code",
      "source": [
        "print(X.shape)\n",
        "print(Y.shape)"
      ],
      "metadata": {
        "colab": {
          "base_uri": "https://localhost:8080/"
        },
        "id": "UKAnaNKXoLko",
        "outputId": "ad88b048-c6aa-45b6-e88d-8991c14ff22a"
      },
      "execution_count": null,
      "outputs": [
        {
          "output_type": "stream",
          "name": "stdout",
          "text": [
            "(651, 224, 224, 3)\n",
            "(651,)\n"
          ]
        }
      ]
    },
    {
      "cell_type": "code",
      "source": [
        "from sklearn.model_selection import train_test_split"
      ],
      "metadata": {
        "id": "D6c1VvxboV8S"
      },
      "execution_count": null,
      "outputs": []
    },
    {
      "cell_type": "code",
      "source": [
        "x_train , x_test , y_train , y_test = train_test_split(X,Y,test_size=0.1)"
      ],
      "metadata": {
        "id": "CCKOuSxdpQoY"
      },
      "execution_count": null,
      "outputs": []
    },
    {
      "cell_type": "code",
      "source": [
        "x_train = x_train/255.0\n",
        "x_test = x_test/255.0"
      ],
      "metadata": {
        "id": "Lk3eMmcvpd4X"
      },
      "execution_count": null,
      "outputs": []
    },
    {
      "cell_type": "code",
      "source": [
        "data_augmentation = keras.Sequential([\n",
        "                                      keras.layers.RandomFlip(input_shape=(224,224,3)),\n",
        "                                      keras.layers.RandomZoom(0.1),\n",
        "                                      keras.layers.RandomRotation(0.1),\n",
        "\n",
        "])"
      ],
      "metadata": {
        "id": "IHeVUAFupo6W"
      },
      "execution_count": null,
      "outputs": []
    },
    {
      "cell_type": "code",
      "source": [
        "model = keras.Sequential([\n",
        "                          data_augmentation,\n",
        "                          keras.layers.Conv2D(16,3,activation='relu'),\n",
        "                          keras.layers.MaxPool2D(),\n",
        "                          keras.layers.Conv2D(32,3,activation='relu'),\n",
        "                          keras.layers.MaxPool2D(),\n",
        "                          keras.layers.Conv2D(64,3,activation='relu'),\n",
        "                          keras.layers.MaxPool2D(),\n",
        "                          keras.layers.Flatten(),\n",
        "                          keras.layers.Dense(128,activation='relu',kernel_regularizer='l2'),\n",
        "                          keras.layers.Dense(5,activation='softmax')\n",
        "\n",
        "])"
      ],
      "metadata": {
        "id": "0U_RoJhCxher"
      },
      "execution_count": null,
      "outputs": []
    },
    {
      "cell_type": "code",
      "source": [
        "model.compile(optimizer='adam',loss='sparse_categorical_crossentropy',metrics=['accuracy'])\n",
        "history = model.fit(x_train,y_train,validation_data=(x_test,y_test) , epochs=30)"
      ],
      "metadata": {
        "colab": {
          "base_uri": "https://localhost:8080/"
        },
        "id": "9soF-pknz4m0",
        "outputId": "06d50bec-36e5-493f-dad0-dc3e2df24a4e"
      },
      "execution_count": null,
      "outputs": [
        {
          "output_type": "stream",
          "name": "stdout",
          "text": [
            "Epoch 1/30\n",
            "19/19 [==============================] - 33s 2s/step - loss: 3.1787 - accuracy: 0.2308 - val_loss: 2.2816 - val_accuracy: 0.2424\n",
            "Epoch 2/30\n",
            "19/19 [==============================] - 30s 2s/step - loss: 2.1032 - accuracy: 0.2359 - val_loss: 2.0240 - val_accuracy: 0.1970\n",
            "Epoch 3/30\n",
            "19/19 [==============================] - 30s 2s/step - loss: 1.9029 - accuracy: 0.2735 - val_loss: 2.0859 - val_accuracy: 0.1970\n",
            "Epoch 4/30\n",
            "19/19 [==============================] - 30s 2s/step - loss: 1.7987 - accuracy: 0.2957 - val_loss: 1.8972 - val_accuracy: 0.1667\n",
            "Epoch 5/30\n",
            "19/19 [==============================] - 30s 2s/step - loss: 1.7394 - accuracy: 0.2803 - val_loss: 1.8844 - val_accuracy: 0.3182\n",
            "Epoch 6/30\n",
            "19/19 [==============================] - 30s 2s/step - loss: 1.7013 - accuracy: 0.3197 - val_loss: 1.7467 - val_accuracy: 0.2727\n",
            "Epoch 7/30\n",
            "19/19 [==============================] - 30s 2s/step - loss: 1.6875 - accuracy: 0.3128 - val_loss: 1.7430 - val_accuracy: 0.3636\n",
            "Epoch 8/30\n",
            "19/19 [==============================] - 30s 2s/step - loss: 1.6683 - accuracy: 0.3504 - val_loss: 1.7405 - val_accuracy: 0.3636\n",
            "Epoch 9/30\n",
            "19/19 [==============================] - 30s 2s/step - loss: 1.6257 - accuracy: 0.3487 - val_loss: 1.7071 - val_accuracy: 0.3030\n",
            "Epoch 10/30\n",
            "19/19 [==============================] - 30s 2s/step - loss: 1.6523 - accuracy: 0.3231 - val_loss: 1.7292 - val_accuracy: 0.2576\n",
            "Epoch 11/30\n",
            "19/19 [==============================] - 30s 2s/step - loss: 1.6246 - accuracy: 0.3385 - val_loss: 1.6575 - val_accuracy: 0.3182\n",
            "Epoch 12/30\n",
            "19/19 [==============================] - 30s 2s/step - loss: 1.5765 - accuracy: 0.3761 - val_loss: 1.7085 - val_accuracy: 0.3333\n",
            "Epoch 13/30\n",
            "19/19 [==============================] - 30s 2s/step - loss: 1.6265 - accuracy: 0.3556 - val_loss: 1.7194 - val_accuracy: 0.3182\n",
            "Epoch 14/30\n",
            "19/19 [==============================] - 30s 2s/step - loss: 1.5965 - accuracy: 0.3658 - val_loss: 1.6529 - val_accuracy: 0.4091\n",
            "Epoch 15/30\n",
            "19/19 [==============================] - 30s 2s/step - loss: 1.5917 - accuracy: 0.3692 - val_loss: 1.6207 - val_accuracy: 0.4242\n",
            "Epoch 16/30\n",
            "19/19 [==============================] - 30s 2s/step - loss: 1.5683 - accuracy: 0.3932 - val_loss: 1.6065 - val_accuracy: 0.3636\n",
            "Epoch 17/30\n",
            "19/19 [==============================] - 30s 2s/step - loss: 1.5441 - accuracy: 0.4171 - val_loss: 1.6456 - val_accuracy: 0.4091\n",
            "Epoch 18/30\n",
            "19/19 [==============================] - 30s 2s/step - loss: 1.5637 - accuracy: 0.3932 - val_loss: 1.5841 - val_accuracy: 0.4697\n",
            "Epoch 19/30\n",
            "19/19 [==============================] - 30s 2s/step - loss: 1.5959 - accuracy: 0.3897 - val_loss: 1.5575 - val_accuracy: 0.5000\n",
            "Epoch 20/30\n",
            "19/19 [==============================] - 30s 2s/step - loss: 1.5769 - accuracy: 0.3795 - val_loss: 1.5901 - val_accuracy: 0.4091\n",
            "Epoch 21/30\n",
            "19/19 [==============================] - 30s 2s/step - loss: 1.5570 - accuracy: 0.4017 - val_loss: 1.6012 - val_accuracy: 0.4394\n",
            "Epoch 22/30\n",
            "19/19 [==============================] - 30s 2s/step - loss: 1.5649 - accuracy: 0.4274 - val_loss: 1.5836 - val_accuracy: 0.3939\n",
            "Epoch 23/30\n",
            "19/19 [==============================] - 35s 2s/step - loss: 1.5614 - accuracy: 0.4051 - val_loss: 1.6439 - val_accuracy: 0.4545\n",
            "Epoch 24/30\n",
            "19/19 [==============================] - 30s 2s/step - loss: 1.5417 - accuracy: 0.3932 - val_loss: 1.5749 - val_accuracy: 0.4242\n",
            "Epoch 25/30\n",
            "19/19 [==============================] - 30s 2s/step - loss: 1.5456 - accuracy: 0.4222 - val_loss: 1.5937 - val_accuracy: 0.4242\n",
            "Epoch 26/30\n",
            "19/19 [==============================] - 31s 2s/step - loss: 1.5535 - accuracy: 0.4222 - val_loss: 1.5927 - val_accuracy: 0.3939\n",
            "Epoch 27/30\n",
            "19/19 [==============================] - 30s 2s/step - loss: 1.5924 - accuracy: 0.4051 - val_loss: 1.6483 - val_accuracy: 0.3788\n",
            "Epoch 28/30\n",
            "19/19 [==============================] - 30s 2s/step - loss: 1.6128 - accuracy: 0.4137 - val_loss: 1.5802 - val_accuracy: 0.3939\n",
            "Epoch 29/30\n",
            "19/19 [==============================] - 30s 2s/step - loss: 1.5459 - accuracy: 0.4205 - val_loss: 1.6240 - val_accuracy: 0.4091\n",
            "Epoch 30/30\n",
            "19/19 [==============================] - 30s 2s/step - loss: 1.5415 - accuracy: 0.4427 - val_loss: 1.5459 - val_accuracy: 0.4394\n"
          ]
        }
      ]
    },
    {
      "cell_type": "code",
      "source": [
        "pd.DataFrame(history.history).plot(figsize=(8,5))\n",
        "plt.grid(True)\n",
        "plt.gca().set_ylim(0,1)\n",
        "plt.show()"
      ],
      "metadata": {
        "colab": {
          "base_uri": "https://localhost:8080/",
          "height": 324
        },
        "id": "JY9rBwBO0XSi",
        "outputId": "09cf5a36-a2a6-4b4f-ebbb-f6f7976c4bb1"
      },
      "execution_count": null,
      "outputs": [
        {
          "output_type": "display_data",
          "data": {
            "image/png": "[encoded data removed]",
            "text/plain": [
              "<Figure size 576x360 with 1 Axes>"
            ]
          },
          "metadata": {
            "needs_background": "light"
          }
        }
      ]
    },
    {
      "cell_type": "code",
      "source": [
        "model.summary()"
      ],
      "metadata": {
        "colab": {
          "base_uri": "https://localhost:8080/"
        },
        "id": "RT3vObds35-r",
        "outputId": "01e27ccf-4a3b-40e6-c0b0-71209360b388"
      },
      "execution_count": null,
      "outputs": [
        {
          "output_type": "stream",
          "name": "stdout",
          "text": [
            "Model: \"sequential_1\"\n",
            "_________________________________________________________________\n",
            " Layer (type)                Output Shape              Param #   \n",
            "=================================================================\n",
            " sequential (Sequential)     (None, 224, 224, 3)       0         \n",
            "                                                                 \n",
            " conv2d (Conv2D)             (None, 222, 222, 16)      448       \n",
            "                                                                 \n",
            " max_pooling2d (MaxPooling2D  (None, 111, 111, 16)     0         \n",
            " )                                                               \n",
            "                                                                 \n",
            " conv2d_1 (Conv2D)           (None, 109, 109, 32)      4640      \n",
            "                                                                 \n",
            " max_pooling2d_1 (MaxPooling  (None, 54, 54, 32)       0         \n",
            " 2D)                                                             \n",
            "                                                                 \n",
            " conv2d_2 (Conv2D)           (None, 52, 52, 64)        18496     \n",
            "                                                                 \n",
            " max_pooling2d_2 (MaxPooling  (None, 26, 26, 64)       0         \n",
            " 2D)                                                             \n",
            "                                                                 \n",
            " flatten (Flatten)           (None, 43264)             0         \n",
            "                                                                 \n",
            " dense (Dense)               (None, 128)               5537920   \n",
            "                                                                 \n",
            " dense_1 (Dense)             (None, 5)                 645       \n",
            "                                                                 \n",
            "=================================================================\n",
            "Total params: 5,562,149\n",
            "Trainable params: 5,562,149\n",
            "Non-trainable params: 0\n",
            "_________________________________________________________________\n"
          ]
        }
      ]
    },
    {
      "cell_type": "code",
      "source": [
        ""
      ],
      "metadata": {
        "id": "VhZH-hLt394x"
      },
      "execution_count": null,
      "outputs": []
    }
  ]
}