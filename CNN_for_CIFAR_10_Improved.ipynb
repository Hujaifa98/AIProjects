{
  "nbformat": 4,
  "nbformat_minor": 0,
  "metadata": {
    "colab": {
      "name": "CNN for CIFAR 10 Improved.ipynb",
      "provenance": [],
      "authorship_tag": "ABX9TyMUlYrlOKhHA3sO6zeA9c4w",
      "include_colab_link": true
    },
    "kernelspec": {
      "name": "python3",
      "display_name": "Python 3"
    },
    "accelerator": "GPU"
  },
  "cells": [
    {
      "cell_type": "markdown",
      "metadata": {
        "id": "view-in-github",
        "colab_type": "text"
      },
      "source": [
        "<a href=\"https://colab.research.google.com/github/Hujaifa98/AIProjects/blob/main/CNN_for_CIFAR_10_Improved.ipynb\" target=\"_parent\"><img src=\"https://colab.research.google.com/assets/colab-badge.svg\" alt=\"Open In Colab\"/></a>"
      ]
    },
    {
      "cell_type": "code",
      "metadata": {
        "id": "TAShKt9k1GKZ"
      },
      "source": [
        "import tensorflow as tf\n",
        "import numpy as np\n",
        "import pandas as pd\n",
        "import matplotlib.pyplot as plt\n",
        "from tensorflow.keras.layers import Input, Conv2D, Dense, Flatten, Dropout, GlobalMaxPooling2D, MaxPooling2D, BatchNormalization\n",
        "from tensorflow.keras.models import Model"
      ],
      "execution_count": null,
      "outputs": []
    },
    {
      "cell_type": "code",
      "metadata": {
        "id": "mB3I8UNg2GVA",
        "colab": {
          "base_uri": "https://localhost:8080/"
        },
        "outputId": "72d4b790-4c18-498d-a4a5-80abf1b07a4c"
      },
      "source": [
        "cifar10 = tf.keras.datasets.cifar10\n",
        "(x_train,y_train) , (x_test,y_test) = cifar10.load_data()\n",
        "x_train , x_test = x_train/255.0 , x_test/255.0\n",
        "y_train , y_test = y_train.flatten() , y_test.flatten()\n",
        "print(x_train.shape)\n",
        "print(y_train.shape)"
      ],
      "execution_count": null,
      "outputs": [
        {
          "output_type": "stream",
          "text": [
            "Downloading data from https://www.cs.toronto.edu/~kriz/cifar-10-python.tar.gz\n",
            "170500096/170498071 [==============================] - 4s 0us/step\n",
            "(50000, 32, 32, 3)\n",
            "(50000,)\n"
          ],
          "name": "stdout"
        }
      ]
    },
    {
      "cell_type": "code",
      "metadata": {
        "id": "KINOiYcN2t1y",
        "colab": {
          "base_uri": "https://localhost:8080/"
        },
        "outputId": "e0d54891-17bb-42ae-c638-9271139adb63"
      },
      "source": [
        "K = len(set(y_train))\n",
        "print(K)"
      ],
      "execution_count": null,
      "outputs": [
        {
          "output_type": "stream",
          "text": [
            "10\n"
          ],
          "name": "stdout"
        }
      ]
    },
    {
      "cell_type": "code",
      "metadata": {
        "id": "aDbtCYXDG3N0",
        "colab": {
          "base_uri": "https://localhost:8080/"
        },
        "outputId": "2496a7c0-9264-42d5-a28e-8b590d5aa8c1"
      },
      "source": [
        "x_train[0].shape"
      ],
      "execution_count": null,
      "outputs": [
        {
          "output_type": "execute_result",
          "data": {
            "text/plain": [
              "(32, 32, 3)"
            ]
          },
          "metadata": {
            "tags": []
          },
          "execution_count": 6
        }
      ]
    },
    {
      "cell_type": "code",
      "metadata": {
        "id": "ez1n_sTu29iK"
      },
      "source": [
        "i = Input(shape=x_train[0].shape)\n",
        "x = Conv2D(32,(3,3),activation='relu',padding='same')(i)\n",
        "x = BatchNormalization()(x)\n",
        "x = Conv2D(32,(3,3),activation='relu',padding='same')(x)\n",
        "x = BatchNormalization()(x)\n",
        "x = MaxPooling2D((2,2))(x)\n",
        "\n",
        "x = Conv2D(64,(3,3),activation='relu',padding='same')(x)\n",
        "x = BatchNormalization()(x)\n",
        "x = Conv2D(64,(3,3),activation='relu',padding='same')(x)\n",
        "x = BatchNormalization()(x)\n",
        "x = MaxPooling2D((2,2))(x)\n",
        "\n",
        "x = Conv2D(128,(3,3),activation='relu',padding='same')(x)\n",
        "x = BatchNormalization()(x)\n",
        "x = Conv2D(128,(3,3),activation='relu',padding='same')(x)\n",
        "x = BatchNormalization()(x)\n",
        "x = MaxPooling2D((2,2))(x)\n",
        "\n",
        "x = Flatten()(x)\n",
        "x = Dropout(0.2)(x)\n",
        "x = Dense(1024,activation='relu')(x)\n",
        "x = Dropout(0.2)(x)\n",
        "x = Dense(K,activation='softmax')(x)\n",
        "\n",
        "model = Model(i,x)"
      ],
      "execution_count": null,
      "outputs": []
    },
    {
      "cell_type": "code",
      "metadata": {
        "id": "qauQJRnR5_YR"
      },
      "source": [
        "model.compile(optimizer='adam',\n",
        "              loss='sparse_categorical_crossentropy',\n",
        "              metrics=['accuracy'])"
      ],
      "execution_count": null,
      "outputs": []
    },
    {
      "cell_type": "code",
      "metadata": {
        "id": "Ka-edrrh6P7I",
        "colab": {
          "base_uri": "https://localhost:8080/",
          "height": 1000
        },
        "outputId": "0321607c-c1e9-40fc-a648-dbac65e9cda4"
      },
      "source": [
        "r = model.fit(x_train, y_train, validation_data=(x_test, y_test), epochs=50)"
      ],
      "execution_count": null,
      "outputs": [
        {
          "output_type": "stream",
          "text": [
            "Epoch 1/50\n",
            "1563/1563 [==============================] - 10s 7ms/step - loss: 0.7229 - accuracy: 0.7542 - val_loss: 1.2876 - val_accuracy: 0.6221\n",
            "Epoch 2/50\n",
            "1563/1563 [==============================] - 10s 6ms/step - loss: 0.5898 - accuracy: 0.7963 - val_loss: 0.6966 - val_accuracy: 0.7674\n",
            "Epoch 3/50\n",
            "1563/1563 [==============================] - 10s 6ms/step - loss: 0.4984 - accuracy: 0.8288 - val_loss: 0.7004 - val_accuracy: 0.7702\n",
            "Epoch 4/50\n",
            "1563/1563 [==============================] - 10s 6ms/step - loss: 0.4139 - accuracy: 0.8585 - val_loss: 0.6512 - val_accuracy: 0.7944\n",
            "Epoch 5/50\n",
            "1563/1563 [==============================] - 10s 6ms/step - loss: 0.3552 - accuracy: 0.8769 - val_loss: 0.6012 - val_accuracy: 0.8153\n",
            "Epoch 6/50\n",
            "1563/1563 [==============================] - 10s 6ms/step - loss: 0.2974 - accuracy: 0.8975 - val_loss: 0.6404 - val_accuracy: 0.8105\n",
            "Epoch 7/50\n",
            "1563/1563 [==============================] - 10s 6ms/step - loss: 0.2516 - accuracy: 0.9127 - val_loss: 0.5940 - val_accuracy: 0.8222\n",
            "Epoch 8/50\n",
            "1563/1563 [==============================] - 10s 6ms/step - loss: 0.2183 - accuracy: 0.9245 - val_loss: 0.6721 - val_accuracy: 0.8073\n",
            "Epoch 9/50\n",
            "1563/1563 [==============================] - 10s 6ms/step - loss: 0.1925 - accuracy: 0.9334 - val_loss: 0.6506 - val_accuracy: 0.8280\n",
            "Epoch 10/50\n",
            "1563/1563 [==============================] - 10s 6ms/step - loss: 0.1741 - accuracy: 0.9404 - val_loss: 0.6447 - val_accuracy: 0.8294\n",
            "Epoch 11/50\n",
            "1563/1563 [==============================] - 10s 6ms/step - loss: 0.1501 - accuracy: 0.9488 - val_loss: 0.6916 - val_accuracy: 0.8282\n",
            "Epoch 12/50\n",
            "1563/1563 [==============================] - 10s 6ms/step - loss: 0.1452 - accuracy: 0.9499 - val_loss: 0.7156 - val_accuracy: 0.8258\n",
            "Epoch 13/50\n",
            "1563/1563 [==============================] - 10s 6ms/step - loss: 0.1262 - accuracy: 0.9567 - val_loss: 0.7715 - val_accuracy: 0.8274\n",
            "Epoch 14/50\n",
            "1563/1563 [==============================] - 10s 6ms/step - loss: 0.1253 - accuracy: 0.9583 - val_loss: 0.6975 - val_accuracy: 0.8315\n",
            "Epoch 15/50\n",
            "1563/1563 [==============================] - 10s 6ms/step - loss: 0.1098 - accuracy: 0.9643 - val_loss: 0.8440 - val_accuracy: 0.8094\n",
            "Epoch 16/50\n",
            "1563/1563 [==============================] - 10s 6ms/step - loss: 0.1104 - accuracy: 0.9634 - val_loss: 0.8195 - val_accuracy: 0.8244\n",
            "Epoch 17/50\n",
            "1563/1563 [==============================] - 10s 6ms/step - loss: 0.0969 - accuracy: 0.9675 - val_loss: 0.7462 - val_accuracy: 0.8328\n",
            "Epoch 18/50\n",
            "1563/1563 [==============================] - 10s 6ms/step - loss: 0.0894 - accuracy: 0.9705 - val_loss: 0.7532 - val_accuracy: 0.8315\n",
            "Epoch 19/50\n",
            "1563/1563 [==============================] - 10s 6ms/step - loss: 0.0862 - accuracy: 0.9713 - val_loss: 0.7720 - val_accuracy: 0.8375\n",
            "Epoch 20/50\n",
            "1563/1563 [==============================] - 10s 6ms/step - loss: 0.0846 - accuracy: 0.9723 - val_loss: 0.8029 - val_accuracy: 0.8344\n",
            "Epoch 21/50\n",
            "1563/1563 [==============================] - 10s 6ms/step - loss: 0.0778 - accuracy: 0.9742 - val_loss: 0.7761 - val_accuracy: 0.8398\n",
            "Epoch 22/50\n",
            "1563/1563 [==============================] - 10s 6ms/step - loss: 0.0785 - accuracy: 0.9745 - val_loss: 0.8050 - val_accuracy: 0.8361\n",
            "Epoch 23/50\n",
            "1563/1563 [==============================] - 10s 6ms/step - loss: 0.0783 - accuracy: 0.9748 - val_loss: 0.7585 - val_accuracy: 0.8318\n",
            "Epoch 24/50\n",
            "1563/1563 [==============================] - 10s 6ms/step - loss: 0.0734 - accuracy: 0.9759 - val_loss: 0.7888 - val_accuracy: 0.8313\n",
            "Epoch 25/50\n",
            "1563/1563 [==============================] - 10s 6ms/step - loss: 0.0671 - accuracy: 0.9780 - val_loss: 0.8350 - val_accuracy: 0.8339\n",
            "Epoch 26/50\n",
            "1563/1563 [==============================] - 10s 6ms/step - loss: 0.0669 - accuracy: 0.9778 - val_loss: 0.8094 - val_accuracy: 0.8331\n",
            "Epoch 27/50\n",
            "1563/1563 [==============================] - 10s 6ms/step - loss: 0.0693 - accuracy: 0.9780 - val_loss: 0.7003 - val_accuracy: 0.8440\n",
            "Epoch 28/50\n",
            "1563/1563 [==============================] - 10s 6ms/step - loss: 0.0582 - accuracy: 0.9809 - val_loss: 0.8263 - val_accuracy: 0.8443\n",
            "Epoch 29/50\n",
            "1563/1563 [==============================] - 10s 6ms/step - loss: 0.0601 - accuracy: 0.9806 - val_loss: 0.9553 - val_accuracy: 0.8314\n",
            "Epoch 30/50\n",
            "1563/1563 [==============================] - 10s 6ms/step - loss: 0.0614 - accuracy: 0.9808 - val_loss: 0.7414 - val_accuracy: 0.8440\n",
            "Epoch 31/50\n",
            "1563/1563 [==============================] - 10s 6ms/step - loss: 0.0539 - accuracy: 0.9817 - val_loss: 0.8992 - val_accuracy: 0.8414\n",
            "Epoch 32/50\n",
            "1563/1563 [==============================] - 10s 6ms/step - loss: 0.0583 - accuracy: 0.9816 - val_loss: 0.9219 - val_accuracy: 0.8344\n",
            "Epoch 33/50\n",
            "1563/1563 [==============================] - 10s 6ms/step - loss: 0.0545 - accuracy: 0.9824 - val_loss: 0.7802 - val_accuracy: 0.8376\n",
            "Epoch 34/50\n",
            "1563/1563 [==============================] - 10s 6ms/step - loss: 0.0526 - accuracy: 0.9831 - val_loss: 0.9118 - val_accuracy: 0.8336\n",
            "Epoch 35/50\n",
            "1563/1563 [==============================] - 10s 6ms/step - loss: 0.0516 - accuracy: 0.9831 - val_loss: 0.7338 - val_accuracy: 0.8419\n",
            "Epoch 36/50\n",
            "1563/1563 [==============================] - 10s 6ms/step - loss: 0.0524 - accuracy: 0.9828 - val_loss: 0.8231 - val_accuracy: 0.8411\n",
            "Epoch 37/50\n",
            "1563/1563 [==============================] - 10s 6ms/step - loss: 0.0451 - accuracy: 0.9855 - val_loss: 0.8693 - val_accuracy: 0.8439\n",
            "Epoch 38/50\n",
            "1563/1563 [==============================] - 10s 6ms/step - loss: 0.0496 - accuracy: 0.9838 - val_loss: 0.7670 - val_accuracy: 0.8462\n",
            "Epoch 39/50\n",
            "1563/1563 [==============================] - 10s 6ms/step - loss: 0.0458 - accuracy: 0.9858 - val_loss: 0.9509 - val_accuracy: 0.8342\n",
            "Epoch 40/50\n",
            "1563/1563 [==============================] - 10s 6ms/step - loss: 0.0450 - accuracy: 0.9852 - val_loss: 0.8185 - val_accuracy: 0.8436\n",
            "Epoch 41/50\n",
            "1563/1563 [==============================] - 10s 6ms/step - loss: 0.0470 - accuracy: 0.9850 - val_loss: 1.0529 - val_accuracy: 0.8252\n",
            "Epoch 42/50\n",
            "1563/1563 [==============================] - 10s 6ms/step - loss: 0.0472 - accuracy: 0.9842 - val_loss: 0.8439 - val_accuracy: 0.8414\n",
            "Epoch 43/50\n",
            "1563/1563 [==============================] - 10s 6ms/step - loss: 0.0441 - accuracy: 0.9859 - val_loss: 0.8737 - val_accuracy: 0.8471\n",
            "Epoch 44/50\n",
            "1563/1563 [==============================] - 10s 6ms/step - loss: 0.0414 - accuracy: 0.9870 - val_loss: 0.8458 - val_accuracy: 0.8469\n",
            "Epoch 45/50\n",
            "1563/1563 [==============================] - 10s 6ms/step - loss: 0.0454 - accuracy: 0.9856 - val_loss: 0.8441 - val_accuracy: 0.8478\n",
            "Epoch 46/50\n",
            "1563/1563 [==============================] - 10s 6ms/step - loss: 0.0428 - accuracy: 0.9864 - val_loss: 0.8613 - val_accuracy: 0.8401\n",
            "Epoch 47/50\n",
            "1563/1563 [==============================] - 10s 6ms/step - loss: 0.0384 - accuracy: 0.9877 - val_loss: 0.9531 - val_accuracy: 0.8415\n",
            "Epoch 48/50\n",
            "1563/1563 [==============================] - 10s 6ms/step - loss: 0.0435 - accuracy: 0.9861 - val_loss: 0.8626 - val_accuracy: 0.8448\n",
            "Epoch 49/50\n",
            "1563/1563 [==============================] - 10s 6ms/step - loss: 0.0388 - accuracy: 0.9874 - val_loss: 0.8452 - val_accuracy: 0.8437\n",
            "Epoch 50/50\n",
            "1563/1563 [==============================] - 10s 6ms/step - loss: 0.0400 - accuracy: 0.9876 - val_loss: 0.9102 - val_accuracy: 0.8458\n"
          ],
          "name": "stdout"
        }
      ]
    },
    {
      "cell_type": "code",
      "metadata": {
        "id": "90m18kV96lm-",
        "colab": {
          "base_uri": "https://localhost:8080/",
          "height": 282
        },
        "outputId": "99bc6fbb-ac10-4761-e169-8e7a7020e194"
      },
      "source": [
        "plt.plot(r.history['loss'], label='loss')\n",
        "plt.plot(r.history['val_loss'], label='val_loss')\n",
        "plt.legend()"
      ],
      "execution_count": null,
      "outputs": [
        {
          "output_type": "execute_result",
          "data": {
            "text/plain": [
              "<matplotlib.legend.Legend at 0x7fdee0784fd0>"
            ]
          },
          "metadata": {
            "tags": []
          },
          "execution_count": 10
        },
        {
          "output_type": "display_data",
          "data": {
            "image/png": "[encoded data removed]",
            "text/plain": [
              "<Figure size 432x288 with 1 Axes>"
            ]
          },
          "metadata": {
            "tags": [],
            "needs_background": "light"
          }
        }
      ]
    },
    {
      "cell_type": "code",
      "metadata": {
        "id": "JRJDObGR9T-R",
        "colab": {
          "base_uri": "https://localhost:8080/",
          "height": 283
        },
        "outputId": "6fb55493-8675-4c5d-af09-02694996b06f"
      },
      "source": [
        "plt.plot(r.history['accuracy'], label='acc')\n",
        "plt.plot(r.history['val_accuracy'], label='val_acc')\n",
        "plt.legend()"
      ],
      "execution_count": null,
      "outputs": [
        {
          "output_type": "execute_result",
          "data": {
            "text/plain": [
              "<matplotlib.legend.Legend at 0x7fdee0786dd8>"
            ]
          },
          "metadata": {
            "tags": []
          },
          "execution_count": 12
        },
        {
          "output_type": "display_data",
          "data": {
            "image/png": "[encoded data removed]",
            "text/plain": [
              "<Figure size 432x288 with 1 Axes>"
            ]
          },
          "metadata": {
            "tags": [],
            "needs_background": "light"
          }
        }
      ]
    },
    {
      "cell_type": "code",
      "metadata": {
        "id": "YBSxkW0r9Xan",
        "colab": {
          "base_uri": "https://localhost:8080/",
          "height": 1000
        },
        "outputId": "33e55bd6-5cce-41e7-b147-6c1fa7ed953f"
      },
      "source": [
        "batch_size = 32\n",
        "data_generator = tf.keras.preprocessing.image.ImageDataGenerator(width_shift_range=0.1, height_shift_range=0.1, horizontal_flip=True)\n",
        "train_generator = data_generator.flow(x_train, y_train, batch_size)\n",
        "steps_per_epoch = x_train.shape[0] // batch_size\n",
        "r = model.fit(train_generator, validation_data=(x_test, y_test), steps_per_epoch=steps_per_epoch, epochs=50)"
      ],
      "execution_count": null,
      "outputs": [
        {
          "output_type": "stream",
          "text": [
            "Epoch 1/50\n",
            "1562/1562 [==============================] - 29s 18ms/step - loss: 1.4571 - accuracy: 0.4925 - val_loss: 1.2383 - val_accuracy: 0.5751\n",
            "Epoch 2/50\n",
            "1562/1562 [==============================] - 27s 17ms/step - loss: 1.0117 - accuracy: 0.6459 - val_loss: 1.1752 - val_accuracy: 0.6076\n",
            "Epoch 3/50\n",
            "1562/1562 [==============================] - 27s 17ms/step - loss: 0.8561 - accuracy: 0.7027 - val_loss: 0.9403 - val_accuracy: 0.6934\n",
            "Epoch 4/50\n",
            "1562/1562 [==============================] - 27s 17ms/step - loss: 0.7694 - accuracy: 0.7363 - val_loss: 0.8430 - val_accuracy: 0.7126\n",
            "Epoch 5/50\n",
            "1562/1562 [==============================] - 27s 17ms/step - loss: 0.6964 - accuracy: 0.7620 - val_loss: 0.6357 - val_accuracy: 0.7892\n",
            "Epoch 6/50\n",
            "1562/1562 [==============================] - 27s 17ms/step - loss: 0.6464 - accuracy: 0.7795 - val_loss: 0.5853 - val_accuracy: 0.8034\n",
            "Epoch 7/50\n",
            "1562/1562 [==============================] - 27s 17ms/step - loss: 0.6010 - accuracy: 0.7954 - val_loss: 0.5804 - val_accuracy: 0.8067\n",
            "Epoch 8/50\n",
            "1562/1562 [==============================] - 27s 17ms/step - loss: 0.5622 - accuracy: 0.8073 - val_loss: 0.5679 - val_accuracy: 0.8108\n",
            "Epoch 9/50\n",
            "1562/1562 [==============================] - 27s 17ms/step - loss: 0.5306 - accuracy: 0.8186 - val_loss: 0.5251 - val_accuracy: 0.8259\n",
            "Epoch 10/50\n",
            "1562/1562 [==============================] - 27s 17ms/step - loss: 0.4996 - accuracy: 0.8293 - val_loss: 0.5258 - val_accuracy: 0.8288\n",
            "Epoch 11/50\n",
            "1562/1562 [==============================] - 27s 17ms/step - loss: 0.4748 - accuracy: 0.8384 - val_loss: 0.5332 - val_accuracy: 0.8221\n",
            "Epoch 12/50\n",
            "1562/1562 [==============================] - 27s 17ms/step - loss: 0.4556 - accuracy: 0.8428 - val_loss: 0.5148 - val_accuracy: 0.8336\n",
            "Epoch 13/50\n",
            "1562/1562 [==============================] - 26s 17ms/step - loss: 0.4334 - accuracy: 0.8507 - val_loss: 0.4879 - val_accuracy: 0.8407\n",
            "Epoch 14/50\n",
            "1562/1562 [==============================] - 26s 17ms/step - loss: 0.4189 - accuracy: 0.8563 - val_loss: 0.4542 - val_accuracy: 0.8524\n",
            "Epoch 15/50\n",
            "1562/1562 [==============================] - 26s 17ms/step - loss: 0.3994 - accuracy: 0.8642 - val_loss: 0.5162 - val_accuracy: 0.8329\n",
            "Epoch 16/50\n",
            "1562/1562 [==============================] - 27s 17ms/step - loss: 0.3839 - accuracy: 0.8677 - val_loss: 0.4480 - val_accuracy: 0.8509\n",
            "Epoch 17/50\n",
            "1562/1562 [==============================] - 27s 17ms/step - loss: 0.3712 - accuracy: 0.8712 - val_loss: 0.4934 - val_accuracy: 0.8390\n",
            "Epoch 18/50\n",
            "1562/1562 [==============================] - 27s 17ms/step - loss: 0.3597 - accuracy: 0.8745 - val_loss: 0.4409 - val_accuracy: 0.8536\n",
            "Epoch 19/50\n",
            "1562/1562 [==============================] - 27s 17ms/step - loss: 0.3513 - accuracy: 0.8776 - val_loss: 0.4171 - val_accuracy: 0.8622\n",
            "Epoch 20/50\n",
            "1562/1562 [==============================] - 26s 17ms/step - loss: 0.3341 - accuracy: 0.8853 - val_loss: 0.4544 - val_accuracy: 0.8538\n",
            "Epoch 21/50\n",
            "1562/1562 [==============================] - 26s 17ms/step - loss: 0.3263 - accuracy: 0.8868 - val_loss: 0.4814 - val_accuracy: 0.8447\n",
            "Epoch 22/50\n",
            "1562/1562 [==============================] - 26s 17ms/step - loss: 0.3189 - accuracy: 0.8902 - val_loss: 0.4459 - val_accuracy: 0.8582\n",
            "Epoch 23/50\n",
            "1562/1562 [==============================] - 26s 17ms/step - loss: 0.3004 - accuracy: 0.8971 - val_loss: 0.5315 - val_accuracy: 0.8406\n",
            "Epoch 24/50\n",
            "1562/1562 [==============================] - 27s 17ms/step - loss: 0.3010 - accuracy: 0.8967 - val_loss: 0.4206 - val_accuracy: 0.8660\n",
            "Epoch 25/50\n",
            "1562/1562 [==============================] - 26s 17ms/step - loss: 0.2930 - accuracy: 0.8999 - val_loss: 0.4520 - val_accuracy: 0.8577\n",
            "Epoch 26/50\n",
            "1562/1562 [==============================] - 26s 17ms/step - loss: 0.2860 - accuracy: 0.9014 - val_loss: 0.4482 - val_accuracy: 0.8626\n",
            "Epoch 27/50\n",
            "1562/1562 [==============================] - 27s 17ms/step - loss: 0.2777 - accuracy: 0.9054 - val_loss: 0.4149 - val_accuracy: 0.8670\n",
            "Epoch 28/50\n",
            "1562/1562 [==============================] - 26s 17ms/step - loss: 0.2690 - accuracy: 0.9060 - val_loss: 0.4557 - val_accuracy: 0.8603\n",
            "Epoch 29/50\n",
            "1562/1562 [==============================] - 27s 17ms/step - loss: 0.2655 - accuracy: 0.9084 - val_loss: 0.4396 - val_accuracy: 0.8602\n",
            "Epoch 30/50\n",
            "1562/1562 [==============================] - 27s 17ms/step - loss: 0.2622 - accuracy: 0.9117 - val_loss: 0.4184 - val_accuracy: 0.8706\n",
            "Epoch 31/50\n",
            "1562/1562 [==============================] - 27s 17ms/step - loss: 0.2550 - accuracy: 0.9132 - val_loss: 0.4040 - val_accuracy: 0.8743\n",
            "Epoch 32/50\n",
            "1562/1562 [==============================] - 26s 17ms/step - loss: 0.2539 - accuracy: 0.9116 - val_loss: 0.3862 - val_accuracy: 0.8760\n",
            "Epoch 33/50\n",
            "1562/1562 [==============================] - 26s 17ms/step - loss: 0.2457 - accuracy: 0.9160 - val_loss: 0.4233 - val_accuracy: 0.8717\n",
            "Epoch 34/50\n",
            "1562/1562 [==============================] - 27s 17ms/step - loss: 0.2392 - accuracy: 0.9181 - val_loss: 0.4417 - val_accuracy: 0.8680\n",
            "Epoch 35/50\n",
            "1562/1562 [==============================] - 27s 17ms/step - loss: 0.2355 - accuracy: 0.9181 - val_loss: 0.4509 - val_accuracy: 0.8690\n",
            "Epoch 36/50\n",
            "1562/1562 [==============================] - 27s 17ms/step - loss: 0.2289 - accuracy: 0.9209 - val_loss: 0.4115 - val_accuracy: 0.8706\n",
            "Epoch 37/50\n",
            "1562/1562 [==============================] - 26s 17ms/step - loss: 0.2295 - accuracy: 0.9223 - val_loss: 0.4240 - val_accuracy: 0.8696\n",
            "Epoch 38/50\n",
            "1562/1562 [==============================] - 26s 17ms/step - loss: 0.2209 - accuracy: 0.9235 - val_loss: 0.4346 - val_accuracy: 0.8668\n",
            "Epoch 39/50\n",
            "1562/1562 [==============================] - 26s 17ms/step - loss: 0.2163 - accuracy: 0.9271 - val_loss: 0.4289 - val_accuracy: 0.8725\n",
            "Epoch 40/50\n",
            "1562/1562 [==============================] - 26s 17ms/step - loss: 0.2118 - accuracy: 0.9274 - val_loss: 0.4012 - val_accuracy: 0.8838\n",
            "Epoch 41/50\n",
            "1562/1562 [==============================] - 26s 17ms/step - loss: 0.2143 - accuracy: 0.9278 - val_loss: 0.4031 - val_accuracy: 0.8824\n",
            "Epoch 42/50\n",
            "1562/1562 [==============================] - 26s 17ms/step - loss: 0.2054 - accuracy: 0.9288 - val_loss: 0.4121 - val_accuracy: 0.8709\n",
            "Epoch 43/50\n",
            "1562/1562 [==============================] - 26s 17ms/step - loss: 0.2044 - accuracy: 0.9301 - val_loss: 0.3921 - val_accuracy: 0.8799\n",
            "Epoch 44/50\n",
            "1562/1562 [==============================] - 26s 17ms/step - loss: 0.1980 - accuracy: 0.9324 - val_loss: 0.4240 - val_accuracy: 0.8735\n",
            "Epoch 45/50\n",
            "1562/1562 [==============================] - 26s 17ms/step - loss: 0.1968 - accuracy: 0.9321 - val_loss: 0.4822 - val_accuracy: 0.8622\n",
            "Epoch 46/50\n",
            "1562/1562 [==============================] - 26s 17ms/step - loss: 0.1982 - accuracy: 0.9324 - val_loss: 0.4156 - val_accuracy: 0.8763\n",
            "Epoch 47/50\n",
            "1562/1562 [==============================] - 27s 17ms/step - loss: 0.1917 - accuracy: 0.9339 - val_loss: 0.4229 - val_accuracy: 0.8758\n",
            "Epoch 48/50\n",
            "1562/1562 [==============================] - 26s 17ms/step - loss: 0.1937 - accuracy: 0.9330 - val_loss: 0.4443 - val_accuracy: 0.8694\n",
            "Epoch 49/50\n",
            "1562/1562 [==============================] - 26s 17ms/step - loss: 0.1888 - accuracy: 0.9347 - val_loss: 0.3951 - val_accuracy: 0.8833\n",
            "Epoch 50/50\n",
            "1562/1562 [==============================] - 27s 17ms/step - loss: 0.1836 - accuracy: 0.9379 - val_loss: 0.4193 - val_accuracy: 0.8856\n"
          ],
          "name": "stdout"
        }
      ]
    },
    {
      "cell_type": "code",
      "metadata": {
        "id": "nCXM8wvX9hYh",
        "colab": {
          "base_uri": "https://localhost:8080/",
          "height": 282
        },
        "outputId": "522265c3-7aa5-4a0a-ddf3-857c2112b121"
      },
      "source": [
        "plt.plot(r.history['loss'], label='loss')\n",
        "plt.plot(r.history['val_loss'], label='val_loss')\n",
        "plt.legend()"
      ],
      "execution_count": null,
      "outputs": [
        {
          "output_type": "execute_result",
          "data": {
            "text/plain": [
              "<matplotlib.legend.Legend at 0x7fded461a630>"
            ]
          },
          "metadata": {
            "tags": []
          },
          "execution_count": 16
        },
        {
          "output_type": "display_data",
          "data": {
            "image/png": "[encoded data removed]",
            "text/plain": [
              "<Figure size 432x288 with 1 Axes>"
            ]
          },
          "metadata": {
            "tags": [],
            "needs_background": "light"
          }
        }
      ]
    },
    {
      "cell_type": "code",
      "metadata": {
        "id": "UZ65j0_ACuo-",
        "colab": {
          "base_uri": "https://localhost:8080/",
          "height": 282
        },
        "outputId": "29bd120b-40a9-42fe-b286-6f43d6e46210"
      },
      "source": [
        "plt.plot(r.history['accuracy'], label='acc')\n",
        "plt.plot(r.history['val_accuracy'], label='val_acc')\n",
        "plt.legend()"
      ],
      "execution_count": null,
      "outputs": [
        {
          "output_type": "execute_result",
          "data": {
            "text/plain": [
              "<matplotlib.legend.Legend at 0x7fded45a0a58>"
            ]
          },
          "metadata": {
            "tags": []
          },
          "execution_count": 17
        },
        {
          "output_type": "display_data",
          "data": {
            "image/png": "[encoded data removed]",
            "text/plain": [
              "<Figure size 432x288 with 1 Axes>"
            ]
          },
          "metadata": {
            "tags": [],
            "needs_background": "light"
          }
        }
      ]
    },
    {
      "cell_type": "code",
      "metadata": {
        "id": "3I5JedP3CxEi",
        "colab": {
          "base_uri": "https://localhost:8080/",
          "height": 867
        },
        "outputId": "1f42a794-1448-4ce8-fc4d-fe3e36c4d242"
      },
      "source": [
        "model.summary()"
      ],
      "execution_count": null,
      "outputs": [
        {
          "output_type": "stream",
          "text": [
            "Model: \"model_1\"\n",
            "_________________________________________________________________\n",
            "Layer (type)                 Output Shape              Param #   \n",
            "=================================================================\n",
            "input_2 (InputLayer)         [(None, 32, 32, 3)]       0         \n",
            "_________________________________________________________________\n",
            "conv2d_6 (Conv2D)            (None, 32, 32, 32)        896       \n",
            "_________________________________________________________________\n",
            "batch_normalization_6 (Batch (None, 32, 32, 32)        128       \n",
            "_________________________________________________________________\n",
            "conv2d_7 (Conv2D)            (None, 32, 32, 32)        9248      \n",
            "_________________________________________________________________\n",
            "batch_normalization_7 (Batch (None, 32, 32, 32)        128       \n",
            "_________________________________________________________________\n",
            "max_pooling2d_3 (MaxPooling2 (None, 16, 16, 32)        0         \n",
            "_________________________________________________________________\n",
            "conv2d_8 (Conv2D)            (None, 16, 16, 64)        18496     \n",
            "_________________________________________________________________\n",
            "batch_normalization_8 (Batch (None, 16, 16, 64)        256       \n",
            "_________________________________________________________________\n",
            "conv2d_9 (Conv2D)            (None, 16, 16, 64)        36928     \n",
            "_________________________________________________________________\n",
            "batch_normalization_9 (Batch (None, 16, 16, 64)        256       \n",
            "_________________________________________________________________\n",
            "max_pooling2d_4 (MaxPooling2 (None, 8, 8, 64)          0         \n",
            "_________________________________________________________________\n",
            "conv2d_10 (Conv2D)           (None, 8, 8, 128)         73856     \n",
            "_________________________________________________________________\n",
            "batch_normalization_10 (Batc (None, 8, 8, 128)         512       \n",
            "_________________________________________________________________\n",
            "conv2d_11 (Conv2D)           (None, 8, 8, 128)         147584    \n",
            "_________________________________________________________________\n",
            "batch_normalization_11 (Batc (None, 8, 8, 128)         512       \n",
            "_________________________________________________________________\n",
            "max_pooling2d_5 (MaxPooling2 (None, 4, 4, 128)         0         \n",
            "_________________________________________________________________\n",
            "flatten_1 (Flatten)          (None, 2048)              0         \n",
            "_________________________________________________________________\n",
            "dropout_2 (Dropout)          (None, 2048)              0         \n",
            "_________________________________________________________________\n",
            "dense_2 (Dense)              (None, 1024)              2098176   \n",
            "_________________________________________________________________\n",
            "dropout_3 (Dropout)          (None, 1024)              0         \n",
            "_________________________________________________________________\n",
            "dense_3 (Dense)              (None, 10)                10250     \n",
            "=================================================================\n",
            "Total params: 2,397,226\n",
            "Trainable params: 2,396,330\n",
            "Non-trainable params: 896\n",
            "_________________________________________________________________\n"
          ],
          "name": "stdout"
        }
      ]
    }
  ]
}